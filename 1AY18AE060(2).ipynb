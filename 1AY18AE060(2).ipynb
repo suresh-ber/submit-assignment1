{
  "nbformat": 4,
  "nbformat_minor": 0,
  "metadata": {
    "colab": {
      "name": "scipy introduction.ipynb",
      "provenance": []
    },
    "kernelspec": {
      "name": "python3",
      "display_name": "Python 3"
    }
  },
  "cells": [
    {
      "cell_type": "markdown",
      "metadata": {
        "id": "j7PiSgLFyH6k"
      },
      "source": [
        "***scipy***-scientific python"
      ]
    },
    {
      "cell_type": "markdown",
      "metadata": {
        "id": "7nycpYLFyMry"
      },
      "source": [
        "it uses numpy underneath it"
      ]
    },
    {
      "cell_type": "markdown",
      "metadata": {
        "id": "gltoDk3cyY6w"
      },
      "source": [
        "optimization, stats,image processing, signal processing,datascience etc,"
      ]
    },
    {
      "cell_type": "markdown",
      "metadata": {
        "id": "A9nLI6uqylQm"
      },
      "source": [
        "programmed using c or python"
      ]
    },
    {
      "cell_type": "markdown",
      "metadata": {
        "id": "2vDgC9lLyrIw"
      },
      "source": [
        "it is freely available"
      ]
    },
    {
      "cell_type": "markdown",
      "metadata": {
        "id": "PQpTS_3Xy1Bb"
      },
      "source": [
        "sip install scipy - command to install scipy"
      ]
    },
    {
      "cell_type": "markdown",
      "metadata": {
        "id": "z6Y6aX9Dy_BK"
      },
      "source": [
        "from scipy import constants"
      ]
    },
    {
      "cell_type": "code",
      "metadata": {
        "colab": {
          "base_uri": "https://localhost:8080/"
        },
        "id": "AvCdUZqOyDJd",
        "outputId": "258094e2-0493-4b5c-b66b-3b76b8322a4b"
      },
      "source": [
        "import scipy\r\n",
        "print(scipy.__version__)"
      ],
      "execution_count": 6,
      "outputs": [
        {
          "output_type": "stream",
          "text": [
            "1.4.1\n"
          ],
          "name": "stdout"
        }
      ]
    },
    {
      "cell_type": "code",
      "metadata": {
        "colab": {
          "base_uri": "https://localhost:8080/"
        },
        "id": "ndZtvBUZzPja",
        "outputId": "e9173dc7-ddad-46e4-bb4a-aec1cf8c794f"
      },
      "source": [
        "from scipy import constants\r\n",
        "print(constants.pi)"
      ],
      "execution_count": 7,
      "outputs": [
        {
          "output_type": "stream",
          "text": [
            "3.141592653589793\n"
          ],
          "name": "stdout"
        }
      ]
    },
    {
      "cell_type": "code",
      "metadata": {
        "colab": {
          "base_uri": "https://localhost:8080/"
        },
        "id": "M0O1YSc1zsOS",
        "outputId": "18feec43-dacb-443d-c6b3-4c9e795ef02c"
      },
      "source": [
        "from scipy import constants\r\n",
        "print(dir(constants))"
      ],
      "execution_count": 9,
      "outputs": [
        {
          "output_type": "stream",
          "text": [
            "['Avogadro', 'Boltzmann', 'Btu', 'Btu_IT', 'Btu_th', 'ConstantWarning', 'G', 'Julian_year', 'N_A', 'Planck', 'R', 'Rydberg', 'Stefan_Boltzmann', 'Wien', '__all__', '__builtins__', '__cached__', '__doc__', '__file__', '__loader__', '__name__', '__package__', '__path__', '__spec__', '_obsolete_constants', 'absolute_import', 'acre', 'alpha', 'angstrom', 'arcmin', 'arcminute', 'arcsec', 'arcsecond', 'astronomical_unit', 'atm', 'atmosphere', 'atomic_mass', 'atto', 'au', 'bar', 'barrel', 'bbl', 'blob', 'c', 'calorie', 'calorie_IT', 'calorie_th', 'carat', 'centi', 'codata', 'constants', 'convert_temperature', 'day', 'deci', 'degree', 'degree_Fahrenheit', 'deka', 'division', 'dyn', 'dyne', 'e', 'eV', 'electron_mass', 'electron_volt', 'elementary_charge', 'epsilon_0', 'erg', 'exa', 'exbi', 'femto', 'fermi', 'find', 'fine_structure', 'fluid_ounce', 'fluid_ounce_US', 'fluid_ounce_imp', 'foot', 'g', 'gallon', 'gallon_US', 'gallon_imp', 'gas_constant', 'gibi', 'giga', 'golden', 'golden_ratio', 'grain', 'gram', 'gravitational_constant', 'h', 'hbar', 'hectare', 'hecto', 'horsepower', 'hour', 'hp', 'inch', 'k', 'kgf', 'kibi', 'kilo', 'kilogram_force', 'kmh', 'knot', 'lambda2nu', 'lb', 'lbf', 'light_year', 'liter', 'litre', 'long_ton', 'm_e', 'm_n', 'm_p', 'm_u', 'mach', 'mebi', 'mega', 'metric_ton', 'micro', 'micron', 'mil', 'mile', 'milli', 'minute', 'mmHg', 'mph', 'mu_0', 'nano', 'nautical_mile', 'neutron_mass', 'nu2lambda', 'ounce', 'oz', 'parsec', 'pebi', 'peta', 'physical_constants', 'pi', 'pico', 'point', 'pound', 'pound_force', 'precision', 'print_function', 'proton_mass', 'psi', 'pt', 'short_ton', 'sigma', 'slinch', 'slug', 'speed_of_light', 'speed_of_sound', 'stone', 'survey_foot', 'survey_mile', 'tebi', 'tera', 'test', 'ton_TNT', 'torr', 'troy_ounce', 'troy_pound', 'u', 'unit', 'value', 'week', 'yard', 'year', 'yobi', 'yotta', 'zebi', 'zepto', 'zero_Celsius', 'zetta']\n"
          ],
          "name": "stdout"
        }
      ]
    },
    {
      "cell_type": "code",
      "metadata": {
        "colab": {
          "base_uri": "https://localhost:8080/"
        },
        "id": "qv23S-aXzzaZ",
        "outputId": "f629dfe6-606d-4cfe-8b79-6984f21aad31"
      },
      "source": [
        "from scipy import constants\r\n",
        "print(constants.yotta)\r\n",
        "print(constants.Btu_IT)\r\n",
        "print(constants.Avogadro)\r\n",
        "print(constants.atomic_mass)\r\n",
        "print(constants.astronomical_unit)"
      ],
      "execution_count": 14,
      "outputs": [
        {
          "output_type": "stream",
          "text": [
            "1e+24\n",
            "1055.05585262\n",
            "6.02214076e+23\n",
            "1.6605390666e-27\n",
            "149597870700.0\n"
          ],
          "name": "stdout"
        }
      ]
    },
    {
      "cell_type": "code",
      "metadata": {
        "colab": {
          "base_uri": "https://localhost:8080/"
        },
        "id": "o_56ZcBx0CO1",
        "outputId": "0becafc1-3146-44ba-da95-205cc661f423"
      },
      "source": [
        "from scipy import constants\r\n",
        "print(constants.G)\r\n",
        "print(constants.Planck)\r\n",
        "print(constants.Wien)\r\n",
        "print(constants.Julian_year)\r\n",
        "print(constants.Btu)"
      ],
      "execution_count": 16,
      "outputs": [
        {
          "output_type": "stream",
          "text": [
            "6.6743e-11\n",
            "6.62607015e-34\n",
            "0.002897771955\n",
            "31557600.0\n",
            "1055.05585262\n"
          ],
          "name": "stdout"
        }
      ]
    },
    {
      "cell_type": "code",
      "metadata": {
        "colab": {
          "base_uri": "https://localhost:8080/"
        },
        "id": "UlPggwZk1LNY",
        "outputId": "a26cb58d-4228-4c3a-a1c1-c0b63e6fafb1"
      },
      "source": [
        "from scipy import constants\r\n",
        "print(constants.minute)\r\n",
        "print(constants.hour)\r\n",
        "print(constants.day)\r\n",
        "print(constants.week)\r\n",
        "print(constants.year)"
      ],
      "execution_count": 18,
      "outputs": [
        {
          "output_type": "stream",
          "text": [
            "60.0\n",
            "3600.0\n",
            "86400.0\n",
            "604800.0\n",
            "31536000.0\n"
          ],
          "name": "stdout"
        }
      ]
    },
    {
      "cell_type": "code",
      "metadata": {
        "colab": {
          "base_uri": "https://localhost:8080/"
        },
        "id": "qSdSNd2x1ZsZ",
        "outputId": "fd981568-6177-4a13-ebb9-9fab669e5250"
      },
      "source": [
        "from scipy import constants\r\n",
        "print(constants.inch)\r\n",
        "print(constants.foot)\r\n",
        "print(constants.mile)\r\n",
        "print(constants.pt)\r\n",
        "print(constants.nautical_mile)"
      ],
      "execution_count": 19,
      "outputs": [
        {
          "output_type": "stream",
          "text": [
            "0.0254\n",
            "0.30479999999999996\n",
            "1609.3439999999998\n",
            "0.00035277777777777776\n",
            "1852.0\n"
          ],
          "name": "stdout"
        }
      ]
    },
    {
      "cell_type": "code",
      "metadata": {
        "colab": {
          "base_uri": "https://localhost:8080/",
          "height": 214
        },
        "id": "HPofsXUl1yB0",
        "outputId": "c5d7736d-efe2-45df-89fa-102d2954522d"
      },
      "source": [
        "from scipy import constants\r\n",
        "print(constants.zero_Celsius)\r\n",
        "print(constants.Fahrenheit)"
      ],
      "execution_count": 25,
      "outputs": [
        {
          "output_type": "stream",
          "text": [
            "273.15\n"
          ],
          "name": "stdout"
        },
        {
          "output_type": "error",
          "ename": "AttributeError",
          "evalue": "ignored",
          "traceback": [
            "\u001b[0;31m---------------------------------------------------------------------------\u001b[0m",
            "\u001b[0;31mAttributeError\u001b[0m                            Traceback (most recent call last)",
            "\u001b[0;32m<ipython-input-25-4bb0b6018498>\u001b[0m in \u001b[0;36m<module>\u001b[0;34m()\u001b[0m\n\u001b[1;32m      1\u001b[0m \u001b[0;32mfrom\u001b[0m \u001b[0mscipy\u001b[0m \u001b[0;32mimport\u001b[0m \u001b[0mconstants\u001b[0m\u001b[0;34m\u001b[0m\u001b[0;34m\u001b[0m\u001b[0m\n\u001b[1;32m      2\u001b[0m \u001b[0mprint\u001b[0m\u001b[0;34m(\u001b[0m\u001b[0mconstants\u001b[0m\u001b[0;34m.\u001b[0m\u001b[0mzero_Celsius\u001b[0m\u001b[0;34m)\u001b[0m\u001b[0;34m\u001b[0m\u001b[0;34m\u001b[0m\u001b[0m\n\u001b[0;32m----> 3\u001b[0;31m \u001b[0mprint\u001b[0m\u001b[0;34m(\u001b[0m\u001b[0mconstants\u001b[0m\u001b[0;34m.\u001b[0m\u001b[0mFahrenheit\u001b[0m\u001b[0;34m)\u001b[0m\u001b[0;34m\u001b[0m\u001b[0;34m\u001b[0m\u001b[0m\n\u001b[0m",
            "\u001b[0;31mAttributeError\u001b[0m: module 'scipy.constants' has no attribute 'Fahrenheit'"
          ]
        }
      ]
    },
    {
      "cell_type": "markdown",
      "metadata": {
        "id": "2wyluxdZ29lo"
      },
      "source": [
        "To Find root of given equation"
      ]
    },
    {
      "cell_type": "markdown",
      "metadata": {
        "id": "uBFuXxlx3Eyn"
      },
      "source": [
        "say given equation is x+cos(x)"
      ]
    },
    {
      "cell_type": "code",
      "metadata": {
        "colab": {
          "base_uri": "https://localhost:8080/"
        },
        "id": "mnx5of7t2X-z",
        "outputId": "53489842-1592-443d-f052-f492d8d45f8d"
      },
      "source": [
        "from scipy.optimize import root\r\n",
        "from math import cos\r\n",
        "\r\n",
        "def eqn(x):\r\n",
        "  return x+cos(x)\r\n",
        "myroot=root(eqn,0)\r\n",
        "print(myroot.x)"
      ],
      "execution_count": 34,
      "outputs": [
        {
          "output_type": "stream",
          "text": [
            "[-0.73908513]\n"
          ],
          "name": "stdout"
        }
      ]
    },
    {
      "cell_type": "code",
      "metadata": {
        "colab": {
          "base_uri": "https://localhost:8080/"
        },
        "id": "yKuZd4XR3ymV",
        "outputId": "604e5c21-8567-4f7a-9b58-595c6a13206c"
      },
      "source": [
        "from scipy.optimize import root\r\n",
        "from math import cos\r\n",
        "\r\n",
        "def eqn(x):\r\n",
        "  return x+cos(x)\r\n",
        "mymin=root(eqn,0)\r\n",
        "print(mymin.x)"
      ],
      "execution_count": 52,
      "outputs": [
        {
          "output_type": "stream",
          "text": [
            "[-0.73908513]\n"
          ],
          "name": "stdout"
        }
      ]
    },
    {
      "cell_type": "code",
      "metadata": {
        "colab": {
          "base_uri": "https://localhost:8080/"
        },
        "id": "ZaFIHQUG4SJc",
        "outputId": "4d4625e5-7686-4715-b8ec-700a7e890129"
      },
      "source": [
        "from scipy.optimize import minimize\r\n",
        "\r\n",
        "def eqn(x):\r\n",
        "  return ((x**2)+x+2)\r\n",
        "mymin=minimize(eqn,1,method=\"BFGS\")\r\n",
        "print(mymin.x)"
      ],
      "execution_count": 53,
      "outputs": [
        {
          "output_type": "stream",
          "text": [
            "[-0.50000001]\n"
          ],
          "name": "stdout"
        }
      ]
    },
    {
      "cell_type": "markdown",
      "metadata": {
        "id": "4WOUoRXb6GYc"
      },
      "source": [
        "next:statistics-exploratory data analysis"
      ]
    },
    {
      "cell_type": "code",
      "metadata": {
        "id": "g8qakuh94vcP"
      },
      "source": [
        ""
      ],
      "execution_count": null,
      "outputs": []
    }
  ]
}