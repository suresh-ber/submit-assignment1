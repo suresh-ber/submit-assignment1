{
  "nbformat": 4,
  "nbformat_minor": 0,
  "metadata": {
    "colab": {
      "name": "revision.ipynb",
      "provenance": [],
      "collapsed_sections": []
    },
    "kernelspec": {
      "name": "python3",
      "display_name": "Python 3"
    }
  },
  "cells": [
    {
      "cell_type": "code",
      "metadata": {
        "colab": {
          "base_uri": "https://localhost:8080/"
        },
        "id": "P_w36amCrh1K",
        "outputId": "5cf3460c-61d1-4c41-fdd3-5f25d8ab4043"
      },
      "source": [
        "print('welcome to the revision class of python')"
      ],
      "execution_count": null,
      "outputs": [
        {
          "output_type": "stream",
          "text": [
            "welcome to the revision class of python\n"
          ],
          "name": "stdout"
        }
      ]
    },
    {
      "cell_type": "code",
      "metadata": {
        "colab": {
          "base_uri": "https://localhost:8080/"
        },
        "id": "EXlxQ2DfsALR",
        "outputId": "002115dd-91a0-472f-8afb-8e781a3d5fa7"
      },
      "source": [
        "if 5>2:\n",
        "  print('welcome to the revision class of python')"
      ],
      "execution_count": null,
      "outputs": [
        {
          "output_type": "stream",
          "text": [
            "welcome to the revision class of python\n"
          ],
          "name": "stdout"
        }
      ]
    },
    {
      "cell_type": "code",
      "metadata": {
        "id": "mo7cbbgSshn0"
      },
      "source": [
        "if 5>12:\n",
        "  print('welcome to the revision class of python')"
      ],
      "execution_count": null,
      "outputs": []
    },
    {
      "cell_type": "code",
      "metadata": {
        "colab": {
          "base_uri": "https://localhost:8080/"
        },
        "id": "i-bmc3zosnYL",
        "outputId": "2b81c139-a5c8-4091-d8f6-30eaef93d523"
      },
      "source": [
        "if 5>12:\n",
        "  print('welcome to the revision class of python')\n",
        "else:\n",
        "  print('ok')"
      ],
      "execution_count": null,
      "outputs": [
        {
          "output_type": "stream",
          "text": [
            "ok\n"
          ],
          "name": "stdout"
        }
      ]
    },
    {
      "cell_type": "code",
      "metadata": {
        "id": "tIGXxl1Hs0pz"
      },
      "source": [
        "x=5\n",
        "y='hello world'"
      ],
      "execution_count": null,
      "outputs": []
    },
    {
      "cell_type": "code",
      "metadata": {
        "colab": {
          "base_uri": "https://localhost:8080/"
        },
        "id": "-Se3L2i1s_1a",
        "outputId": "2509f7f4-785d-4411-a89f-45305b060feb"
      },
      "source": [
        "x"
      ],
      "execution_count": null,
      "outputs": [
        {
          "output_type": "execute_result",
          "data": {
            "text/plain": [
              "5"
            ]
          },
          "metadata": {
            "tags": []
          },
          "execution_count": 10
        }
      ]
    },
    {
      "cell_type": "code",
      "metadata": {
        "colab": {
          "base_uri": "https://localhost:8080/",
          "height": 35
        },
        "id": "_nxmxAu6tBDr",
        "outputId": "18d2644d-6436-4077-bce1-4fccd60cdad9"
      },
      "source": [
        "y"
      ],
      "execution_count": null,
      "outputs": [
        {
          "output_type": "execute_result",
          "data": {
            "application/vnd.google.colaboratory.intrinsic+json": {
              "type": "string"
            },
            "text/plain": [
              "'hello world'"
            ]
          },
          "metadata": {
            "tags": []
          },
          "execution_count": 11
        }
      ]
    },
    {
      "cell_type": "code",
      "metadata": {
        "id": "fJWyUyr2tD2R"
      },
      "source": [
        "#this is a comment"
      ],
      "execution_count": null,
      "outputs": []
    },
    {
      "cell_type": "code",
      "metadata": {
        "colab": {
          "base_uri": "https://localhost:8080/"
        },
        "id": "JcaoJcp_tJgw",
        "outputId": "be59eb94-d267-4417-c815-3a78b152df89"
      },
      "source": [
        "x=5\n",
        "y='hello world'\n",
        "print(x)\n",
        "print(y)"
      ],
      "execution_count": null,
      "outputs": [
        {
          "output_type": "stream",
          "text": [
            "5\n",
            "hello world\n"
          ],
          "name": "stdout"
        }
      ]
    },
    {
      "cell_type": "code",
      "metadata": {
        "colab": {
          "base_uri": "https://localhost:8080/"
        },
        "id": "-3YhYtpJtwC8",
        "outputId": "a8e2bce1-2d22-443f-d079-94c8045a058c"
      },
      "source": [
        "x=b\"hrello\"\n",
        "print(type(x))\n",
        "print(x)"
      ],
      "execution_count": null,
      "outputs": [
        {
          "output_type": "stream",
          "text": [
            "<class 'bytes'>\n",
            "b'hrello'\n"
          ],
          "name": "stdout"
        }
      ]
    },
    {
      "cell_type": "code",
      "metadata": {
        "colab": {
          "base_uri": "https://localhost:8080/"
        },
        "id": "1RrVv1c7wjWG",
        "outputId": "79969491-01e9-4c06-de21-2e98f2531e03"
      },
      "source": [
        "x=bytearray(5)\n",
        "print(x)"
      ],
      "execution_count": null,
      "outputs": [
        {
          "output_type": "stream",
          "text": [
            "bytearray(b'\\x00\\x00\\x00\\x00\\x00')\n"
          ],
          "name": "stdout"
        }
      ]
    },
    {
      "cell_type": "code",
      "metadata": {
        "id": "I6SIxiSIw5Ju"
      },
      "source": [
        "#python numbers\n",
        "x=1 #int\n",
        "y=6.9 #float\n",
        "z=6j #complex"
      ],
      "execution_count": null,
      "outputs": []
    },
    {
      "cell_type": "code",
      "metadata": {
        "colab": {
          "base_uri": "https://localhost:8080/"
        },
        "id": "O7I3gpbPxJuZ",
        "outputId": "81a83a23-2408-42a9-e624-0e406dc0ad9e"
      },
      "source": [
        "x"
      ],
      "execution_count": null,
      "outputs": [
        {
          "output_type": "execute_result",
          "data": {
            "text/plain": [
              "1"
            ]
          },
          "metadata": {
            "tags": []
          },
          "execution_count": 21
        }
      ]
    },
    {
      "cell_type": "code",
      "metadata": {
        "colab": {
          "base_uri": "https://localhost:8080/"
        },
        "id": "iTslGZAHxLC3",
        "outputId": "2df99084-fdf9-409e-e211-de8f9443f6c8"
      },
      "source": [
        "y"
      ],
      "execution_count": null,
      "outputs": [
        {
          "output_type": "execute_result",
          "data": {
            "text/plain": [
              "6.9"
            ]
          },
          "metadata": {
            "tags": []
          },
          "execution_count": 22
        }
      ]
    },
    {
      "cell_type": "code",
      "metadata": {
        "colab": {
          "base_uri": "https://localhost:8080/"
        },
        "id": "p1Oc2-_SxRd6",
        "outputId": "807e0fa8-c69a-430c-da0e-f7b620b01394"
      },
      "source": [
        "print(z)\n",
        "print(type(z))"
      ],
      "execution_count": null,
      "outputs": [
        {
          "output_type": "stream",
          "text": [
            "6j\n",
            "<class 'complex'>\n"
          ],
          "name": "stdout"
        }
      ]
    },
    {
      "cell_type": "code",
      "metadata": {
        "colab": {
          "base_uri": "https://localhost:8080/"
        },
        "id": "oi7vjqkoxSYK",
        "outputId": "12fe0cba-6e9d-4291-e0d0-e1b9f9b559b4"
      },
      "source": [
        "x=int(8)\n",
        "y=int(9.8)\n",
        "z=int(\"3\")\n",
        "print(x)\n",
        "print(y)\n",
        "print(z)"
      ],
      "execution_count": null,
      "outputs": [
        {
          "output_type": "stream",
          "text": [
            "8\n",
            "9\n",
            "3\n"
          ],
          "name": "stdout"
        }
      ]
    },
    {
      "cell_type": "code",
      "metadata": {
        "colab": {
          "base_uri": "https://localhost:8080/"
        },
        "id": "galh7kF7x9Mt",
        "outputId": "0e5e9591-cbfa-4f9c-a30c-48f751e3ecb4"
      },
      "source": [
        "x=str(8)\n",
        "y=str(9.8)\n",
        "z=str(\"3\")\n",
        "print(x)\n",
        "print(y)\n",
        "print(z)\n",
        "print(type(x))\n",
        "print(type(y))\n",
        "print(type(z))"
      ],
      "execution_count": null,
      "outputs": [
        {
          "output_type": "stream",
          "text": [
            "8\n",
            "9.8\n",
            "3\n",
            "<class 'str'>\n",
            "<class 'str'>\n",
            "<class 'str'>\n"
          ],
          "name": "stdout"
        }
      ]
    },
    {
      "cell_type": "code",
      "metadata": {
        "colab": {
          "base_uri": "https://localhost:8080/"
        },
        "id": "1NuFnZ0EyRdc",
        "outputId": "bd06a910-08dc-41b3-9ded-5f0d58f8cbf7"
      },
      "source": [
        "a=\"\"\" aditya has a doubt,\n",
        "which is regarding scan,\n",
        "we need to adress,\n",
        "the topic.\"\"\"\n",
        "print(a)"
      ],
      "execution_count": null,
      "outputs": [
        {
          "output_type": "stream",
          "text": [
            " aditya has a doubt,\n",
            "which is regarding scan,\n",
            "we need to adress,\n",
            "the topic.\n"
          ],
          "name": "stdout"
        }
      ]
    },
    {
      "cell_type": "code",
      "metadata": {
        "colab": {
          "base_uri": "https://localhost:8080/"
        },
        "id": "Zua9eHDVzMbb",
        "outputId": "48826451-52f5-4950-c5bc-902d7bebca73"
      },
      "source": [
        "print(10>9)\n",
        "print(10==9)\n",
        "print(10<9)"
      ],
      "execution_count": null,
      "outputs": [
        {
          "output_type": "stream",
          "text": [
            "True\n",
            "False\n",
            "False\n"
          ],
          "name": "stdout"
        }
      ]
    },
    {
      "cell_type": "markdown",
      "metadata": {
        "id": "pMBQ1U6K1PdH"
      },
      "source": [
        "***python lists***"
      ]
    },
    {
      "cell_type": "code",
      "metadata": {
        "colab": {
          "base_uri": "https://localhost:8080/"
        },
        "id": "3H6-MGZ_zjks",
        "outputId": "7e0455b7-ba92-4972-afac-9ca636ad79d3"
      },
      "source": [
        "thisislist=['apple','banana','grapes']\n",
        "thisislist"
      ],
      "execution_count": null,
      "outputs": [
        {
          "output_type": "execute_result",
          "data": {
            "text/plain": [
              "['apple', 'banana', 'grapes']"
            ]
          },
          "metadata": {
            "tags": []
          },
          "execution_count": 34
        }
      ]
    },
    {
      "cell_type": "code",
      "metadata": {
        "colab": {
          "base_uri": "https://localhost:8080/"
        },
        "id": "hriCEiOf1eav",
        "outputId": "8f1972d6-45c5-43e0-ab81-b444ca2cf06c"
      },
      "source": [
        "type(thisislist)"
      ],
      "execution_count": null,
      "outputs": [
        {
          "output_type": "execute_result",
          "data": {
            "text/plain": [
              "list"
            ]
          },
          "metadata": {
            "tags": []
          },
          "execution_count": 35
        }
      ]
    },
    {
      "cell_type": "code",
      "metadata": {
        "colab": {
          "base_uri": "https://localhost:8080/"
        },
        "id": "4lNNMCN81lcz",
        "outputId": "574e406c-9520-42a2-85c5-78d32d0bfbc1"
      },
      "source": [
        "thisislist=['apple','banana','grapes','apple1','banana1','grapes1']\n",
        "print(thisislist)"
      ],
      "execution_count": null,
      "outputs": [
        {
          "output_type": "stream",
          "text": [
            "['apple', 'banana', 'grapes', 'apple1', 'banana1', 'grapes1']\n"
          ],
          "name": "stdout"
        }
      ]
    },
    {
      "cell_type": "code",
      "metadata": {
        "colab": {
          "base_uri": "https://localhost:8080/"
        },
        "id": "d_DTouhI15Ih",
        "outputId": "1e18443c-8740-4fa2-9699-9f3fcc90400e"
      },
      "source": [
        "thisislist=['apple','banana','grapes','apple1','banana1','grapes1']\n",
        "print(thisislist[1])"
      ],
      "execution_count": null,
      "outputs": [
        {
          "output_type": "stream",
          "text": [
            "banana\n"
          ],
          "name": "stdout"
        }
      ]
    },
    {
      "cell_type": "code",
      "metadata": {
        "colab": {
          "base_uri": "https://localhost:8080/"
        },
        "id": "w7_FdFLX1_yj",
        "outputId": "69bd3410-8b58-4949-d164-5bb362b5c672"
      },
      "source": [
        "thisislist=['apple','banana','grapes','apple1','banana1','grapes1']\n",
        "print(thisislist[0:4])"
      ],
      "execution_count": null,
      "outputs": [
        {
          "output_type": "stream",
          "text": [
            "['apple', 'banana', 'grapes', 'apple1']\n"
          ],
          "name": "stdout"
        }
      ]
    },
    {
      "cell_type": "code",
      "metadata": {
        "colab": {
          "base_uri": "https://localhost:8080/"
        },
        "id": "acRJyE_q2LJo",
        "outputId": "0a213963-b43b-44c9-a4ee-0c1484056dad"
      },
      "source": [
        "thisislist=['apple','banana','grapes','apple1','banana1','grapes1']\n",
        "print(thisislist[:4])"
      ],
      "execution_count": null,
      "outputs": [
        {
          "output_type": "stream",
          "text": [
            "['apple', 'banana', 'grapes', 'apple1']\n"
          ],
          "name": "stdout"
        }
      ]
    },
    {
      "cell_type": "code",
      "metadata": {
        "colab": {
          "base_uri": "https://localhost:8080/"
        },
        "id": "obfUFWx82gAF",
        "outputId": "8de4f4d8-f9d7-4270-a987-f501934bf87f"
      },
      "source": [
        "thisislist=['apple','banana','grapes','apple1','banana1','grapes1']\n",
        "print(thisislist[2:])"
      ],
      "execution_count": null,
      "outputs": [
        {
          "output_type": "stream",
          "text": [
            "['grapes', 'apple1', 'banana1', 'grapes1']\n"
          ],
          "name": "stdout"
        }
      ]
    },
    {
      "cell_type": "code",
      "metadata": {
        "colab": {
          "base_uri": "https://localhost:8080/"
        },
        "id": "2onCMRUV2imX",
        "outputId": "30711fda-ad97-45d9-e0ec-367ba4da1ff3"
      },
      "source": [
        "thisislist=['apple','banana','grapes','apple1','banana1','grapes1']\n",
        "thisislist[1]='bingo'\n",
        "print(thisislist)"
      ],
      "execution_count": null,
      "outputs": [
        {
          "output_type": "stream",
          "text": [
            "['apple', 'bingo', 'grapes', 'apple1', 'banana1', 'grapes1']\n"
          ],
          "name": "stdout"
        }
      ]
    },
    {
      "cell_type": "code",
      "metadata": {
        "colab": {
          "base_uri": "https://localhost:8080/"
        },
        "id": "cKGghBuH3Vd_",
        "outputId": "fcfbf8d9-6e6c-48c6-ba74-698f0d9096a7"
      },
      "source": [
        "thisislist=['apple','banana','grapes','apple1','banana1','grapes1']\n",
        "thisislist[1]=['bingo','mango']\n",
        "print(thisislist)"
      ],
      "execution_count": null,
      "outputs": [
        {
          "output_type": "stream",
          "text": [
            "['apple', ['bingo', 'mango'], 'grapes', 'apple1', 'banana1', 'grapes1']\n"
          ],
          "name": "stdout"
        }
      ]
    },
    {
      "cell_type": "code",
      "metadata": {
        "colab": {
          "base_uri": "https://localhost:8080/"
        },
        "id": "wRtuHVmw3kAL",
        "outputId": "076eef4c-4372-42f7-db33-0b891b39afcd"
      },
      "source": [
        "thisislist=['apple','banana','grapes','apple1','banana1','grapes1']\n",
        "thisislist.append('orange')\n",
        "print(thisislist)"
      ],
      "execution_count": null,
      "outputs": [
        {
          "output_type": "stream",
          "text": [
            "['apple', 'banana', 'grapes', 'apple1', 'banana1', 'grapes1', 'orange']\n"
          ],
          "name": "stdout"
        }
      ]
    },
    {
      "cell_type": "code",
      "metadata": {
        "colab": {
          "base_uri": "https://localhost:8080/"
        },
        "id": "DuFRvu6H6Aj9",
        "outputId": "bac2ced3-812b-4ebe-f26e-dd87d97e2c12"
      },
      "source": [
        "thisislist=['apple','banana','grapes','apple1','banana1','grapes1']\n",
        "thisislist.insert(2,'orange')\n",
        "print(thisislist)"
      ],
      "execution_count": null,
      "outputs": [
        {
          "output_type": "stream",
          "text": [
            "['apple', 'banana', 'orange', 'grapes', 'apple1', 'banana1', 'grapes1']\n"
          ],
          "name": "stdout"
        }
      ]
    },
    {
      "cell_type": "code",
      "metadata": {
        "colab": {
          "base_uri": "https://localhost:8080/"
        },
        "id": "jKs2lwpZ6TwN",
        "outputId": "3657d807-54c8-4a84-d733-9672f678bcb5"
      },
      "source": [
        "thisislist=['apple','banana','grapes','apple1','banana1','grapes1']\n",
        "tropical=['mango','pineapple','papaya','mango1','pineapple1','papaya1']\n",
        "thisislist.extend(tropical)\n",
        "print(thisislist)"
      ],
      "execution_count": null,
      "outputs": [
        {
          "output_type": "stream",
          "text": [
            "['apple', 'banana', 'grapes', 'apple1', 'banana1', 'grapes1', 'mango', 'pineapple', 'papaya', 'mango1', 'pineapple1', 'papaya1']\n"
          ],
          "name": "stdout"
        }
      ]
    },
    {
      "cell_type": "code",
      "metadata": {
        "colab": {
          "base_uri": "https://localhost:8080/"
        },
        "id": "SlKT8UtR62kT",
        "outputId": "0d3fe15d-bff2-4f7d-c072-aebcf1c5015a"
      },
      "source": [
        "thisislist=['apple','banana','grapes','apple1','banana1','grapes1']\n",
        "thisistuple=('mango','pineapple','papaya','mango1','pineapple1','papaya1')\n",
        "thisislist.extend(thisistuple)\n",
        "print(thisislist)"
      ],
      "execution_count": null,
      "outputs": [
        {
          "output_type": "stream",
          "text": [
            "['apple', 'banana', 'grapes', 'apple1', 'banana1', 'grapes1', 'mango', 'pineapple', 'papaya', 'mango1', 'pineapple1', 'papaya1']\n"
          ],
          "name": "stdout"
        }
      ]
    },
    {
      "cell_type": "code",
      "metadata": {
        "colab": {
          "base_uri": "https://localhost:8080/"
        },
        "id": "QpWFPfAH7W7_",
        "outputId": "3bf6d270-a982-46fc-930f-564ea30a1280"
      },
      "source": [
        "thisislist=['apple','banana','grapes','apple1','banana1','grapes1']\n",
        "tropical=['mango','pineapple','papaya','mango1','pineapple1','papaya1']\n",
        "thisislist.remove('apple1')\n",
        "print(thisislist)"
      ],
      "execution_count": null,
      "outputs": [
        {
          "output_type": "stream",
          "text": [
            "['apple', 'banana', 'grapes', 'banana1', 'grapes1']\n"
          ],
          "name": "stdout"
        }
      ]
    },
    {
      "cell_type": "code",
      "metadata": {
        "colab": {
          "base_uri": "https://localhost:8080/"
        },
        "id": "vs1c9W-w7pYc",
        "outputId": "f05a8154-b079-4518-ec35-544b2a3a3c53"
      },
      "source": [
        "thisislist=['apple','banana','grapes','apple1','banana1','grapes1']\n",
        "tropical=['mango','pineapple','papaya','mango1','pineapple1','papaya1']\n",
        "thisislist.pop(0)\n",
        "print(thisislist)"
      ],
      "execution_count": null,
      "outputs": [
        {
          "output_type": "stream",
          "text": [
            "['banana', 'grapes', 'apple1', 'banana1', 'grapes1']\n"
          ],
          "name": "stdout"
        }
      ]
    },
    {
      "cell_type": "code",
      "metadata": {
        "id": "qzyosIsa8EtY"
      },
      "source": [
        "thisislist=['apple','banana','grapes','apple1','banana1','grapes1']\n",
        "tropical=['mango','pineapple','papaya','mango1','pineapple1','papaya1']\n",
        "del thisislist #thisislist gets deleted"
      ],
      "execution_count": null,
      "outputs": []
    },
    {
      "cell_type": "code",
      "metadata": {
        "colab": {
          "base_uri": "https://localhost:8080/"
        },
        "id": "h_P4aWHw8QjE",
        "outputId": "9439513a-d589-445e-c60c-942abbaa3fe6"
      },
      "source": [
        "thisislist=['apple','banana','grapes','apple1','banana1','grapes1']\n",
        "tropical=['mango','pineapple','papaya','mango1','pineapple1','papaya1']\n",
        "thisislist.clear()\n",
        "print(thisislist)"
      ],
      "execution_count": null,
      "outputs": [
        {
          "output_type": "stream",
          "text": [
            "[]\n"
          ],
          "name": "stdout"
        }
      ]
    },
    {
      "cell_type": "markdown",
      "metadata": {
        "id": "brNaGBWm9QXN"
      },
      "source": [
        "loops through list"
      ]
    },
    {
      "cell_type": "code",
      "metadata": {
        "colab": {
          "base_uri": "https://localhost:8080/"
        },
        "id": "bnQehNL08tdb",
        "outputId": "3df4259e-789a-4d93-beb0-502ec347b89d"
      },
      "source": [
        "thisislist=['apple','banana','grapes','apple1','banana1','grapes1']\n",
        "for x in thisislist:\n",
        "  print(x)"
      ],
      "execution_count": null,
      "outputs": [
        {
          "output_type": "stream",
          "text": [
            "apple\n",
            "banana\n",
            "grapes\n",
            "apple1\n",
            "banana1\n",
            "grapes1\n"
          ],
          "name": "stdout"
        }
      ]
    },
    {
      "cell_type": "code",
      "metadata": {
        "colab": {
          "base_uri": "https://localhost:8080/"
        },
        "id": "f9FSyreR9gmQ",
        "outputId": "eba4f0c7-c5ec-4e1c-8713-050f30791646"
      },
      "source": [
        "thisislist=['apple','banana','grapes','apple1','banana1','grapes1']\n",
        "i=0\n",
        "while i<len(thisislist):\n",
        " print(thisislist[i])\n",
        " i+=1"
      ],
      "execution_count": null,
      "outputs": [
        {
          "output_type": "stream",
          "text": [
            "apple\n",
            "banana\n",
            "grapes\n",
            "apple1\n",
            "banana1\n",
            "grapes1\n"
          ],
          "name": "stdout"
        }
      ]
    },
    {
      "cell_type": "code",
      "metadata": {
        "colab": {
          "base_uri": "https://localhost:8080/"
        },
        "id": "namElGka_GKf",
        "outputId": "b83405e4-4ccb-4c4d-9953-1e5201e30ae1"
      },
      "source": [
        "thislist=['apple','banana','cherry']\n",
        "[print (x) for x in thislist]"
      ],
      "execution_count": null,
      "outputs": [
        {
          "output_type": "stream",
          "text": [
            "apple\n",
            "banana\n",
            "cherry\n"
          ],
          "name": "stdout"
        },
        {
          "output_type": "execute_result",
          "data": {
            "text/plain": [
              "[None, None, None]"
            ]
          },
          "metadata": {
            "tags": []
          },
          "execution_count": 71
        }
      ]
    },
    {
      "cell_type": "code",
      "metadata": {
        "colab": {
          "base_uri": "https://localhost:8080/"
        },
        "id": "UP1n8RDW_zvU",
        "outputId": "eea572f6-336c-4bf8-ae4b-49a615573b62"
      },
      "source": [
        "fruits=['apple','banana','cherry','kiwi','mango']\n",
        "newlist=[]\n",
        "for x in fruits:\n",
        "    if 'a' in x:\n",
        "     newlist.append(x)\n",
        "print(newlist)\n"
      ],
      "execution_count": null,
      "outputs": [
        {
          "output_type": "stream",
          "text": [
            "['apple', 'banana', 'mango']\n"
          ],
          "name": "stdout"
        }
      ]
    },
    {
      "cell_type": "code",
      "metadata": {
        "colab": {
          "base_uri": "https://localhost:8080/"
        },
        "id": "arq6Dg2zBtyD",
        "outputId": "941bcacd-4047-4ab7-f607-1f4f51ffceeb"
      },
      "source": [
        "fruits=['apple','banana','cherry','kiwi','mango']\n",
        "newlist=[x for x in fruits if 'a' in x]\n",
        "print(newlist)"
      ],
      "execution_count": null,
      "outputs": [
        {
          "output_type": "stream",
          "text": [
            "['apple', 'banana', 'mango']\n"
          ],
          "name": "stdout"
        }
      ]
    },
    {
      "cell_type": "code",
      "metadata": {
        "id": "4nbSe5pvCe3R",
        "colab": {
          "base_uri": "https://localhost:8080/"
        },
        "outputId": "4b0100f7-e2b4-4048-9671-e7c85b2544e3"
      },
      "source": [
        "fruits=['apple','banana','cherry','kiwi','mango']\n",
        "fruits.sort()\n",
        "print(fruits)"
      ],
      "execution_count": null,
      "outputs": [
        {
          "output_type": "stream",
          "text": [
            "['apple', 'banana', 'cherry', 'kiwi', 'mango']\n"
          ],
          "name": "stdout"
        }
      ]
    },
    {
      "cell_type": "code",
      "metadata": {
        "colab": {
          "base_uri": "https://localhost:8080/"
        },
        "id": "2D1Z5J0Y3_Nq",
        "outputId": "84f070f6-7630-4ab5-e1a5-037d8b8354e7"
      },
      "source": [
        "thislist=[\"orange\",\"mango\",\"kiwi\",\"pineapple\",\"banana\"]\n",
        "thislist.sort()\n",
        "print(thislist)"
      ],
      "execution_count": null,
      "outputs": [
        {
          "output_type": "stream",
          "text": [
            "['banana', 'kiwi', 'mango', 'orange', 'pineapple']\n"
          ],
          "name": "stdout"
        }
      ]
    },
    {
      "cell_type": "code",
      "metadata": {
        "colab": {
          "base_uri": "https://localhost:8080/"
        },
        "id": "KHsQd7Uj4jrJ",
        "outputId": "bd2fae2c-8775-427e-d1f0-342d3d815af7"
      },
      "source": [
        "thislist=[100,40,50,2,22,83,78]\n",
        "thislist.sort()\n",
        "print(thislist)"
      ],
      "execution_count": null,
      "outputs": [
        {
          "output_type": "stream",
          "text": [
            "[2, 22, 40, 50, 78, 83, 100]\n"
          ],
          "name": "stdout"
        }
      ]
    },
    {
      "cell_type": "code",
      "metadata": {
        "colab": {
          "base_uri": "https://localhost:8080/"
        },
        "id": "GoLJI8Er5JtI",
        "outputId": "4748f838-d15d-45b6-b7f5-804119cc6b82"
      },
      "source": [
        "thislist=[\"orange\",\"mango\",\"kiwi\",\"pineapple\",\"banana\"]\n",
        "thislist.sort(reverse=True)\n",
        "print(thislist)"
      ],
      "execution_count": null,
      "outputs": [
        {
          "output_type": "stream",
          "text": [
            "['pineapple', 'orange', 'mango', 'kiwi', 'banana']\n"
          ],
          "name": "stdout"
        }
      ]
    },
    {
      "cell_type": "code",
      "metadata": {
        "colab": {
          "base_uri": "https://localhost:8080/"
        },
        "id": "CMBNPJsZ5VbG",
        "outputId": "49f66039-b8d9-4475-e1b9-9ca9623ba378"
      },
      "source": [
        "thislist=[100,40,50,2,22,83,78]\n",
        "thislist.sort(reverse=True)\n",
        "print(thislist)"
      ],
      "execution_count": null,
      "outputs": [
        {
          "output_type": "stream",
          "text": [
            "[100, 83, 78, 50, 40, 22, 2]\n"
          ],
          "name": "stdout"
        }
      ]
    },
    {
      "cell_type": "code",
      "metadata": {
        "colab": {
          "base_uri": "https://localhost:8080/"
        },
        "id": "lmZGRdxr5dlU",
        "outputId": "d7c761dd-6808-461c-fd13-7ff801e9139a"
      },
      "source": [
        "thislist=[\"orange\",\"mango\",\"kiwi\",\"pineapple\",\"banana\"]\n",
        "newlist=thislist.copy()\n",
        "print(newlist)"
      ],
      "execution_count": null,
      "outputs": [
        {
          "output_type": "stream",
          "text": [
            "['orange', 'mango', 'kiwi', 'pineapple', 'banana']\n"
          ],
          "name": "stdout"
        }
      ]
    },
    {
      "cell_type": "code",
      "metadata": {
        "colab": {
          "base_uri": "https://localhost:8080/"
        },
        "id": "QVg-eddl5-Ew",
        "outputId": "94219ef7-35c9-4fe7-9779-543603eb6cfe"
      },
      "source": [
        "thislist=[100,40,50,2,22,83,78]\n",
        "newlist=thislist.copy()\n",
        "print(newlist)"
      ],
      "execution_count": null,
      "outputs": [
        {
          "output_type": "stream",
          "text": [
            "[100, 40, 50, 2, 22, 83, 78]\n"
          ],
          "name": "stdout"
        }
      ]
    },
    {
      "cell_type": "code",
      "metadata": {
        "colab": {
          "base_uri": "https://localhost:8080/"
        },
        "id": "IdT6B4aQ6KC6",
        "outputId": "c236a5fa-b148-4bde-d988-603985162d1a"
      },
      "source": [
        "thislist1=[\"orange\",\"mango\",\"kiwi\",\"pineapple\",\"banana\"]\n",
        "thislist2=[100,40,50,2,22,83,78]\n",
        "list3=thislist1+thislist2\n",
        "print(list3)"
      ],
      "execution_count": null,
      "outputs": [
        {
          "output_type": "stream",
          "text": [
            "['orange', 'mango', 'kiwi', 'pineapple', 'banana', 100, 40, 50, 2, 22, 83, 78]\n"
          ],
          "name": "stdout"
        }
      ]
    },
    {
      "cell_type": "code",
      "metadata": {
        "colab": {
          "base_uri": "https://localhost:8080/"
        },
        "id": "2Euh6qUN6c2u",
        "outputId": "3effa46a-e4ae-4951-ce71-4129b5da1763"
      },
      "source": [
        "thislist1=[\"orange\",\"mango\",\"kiwi\",\"pineapple\",\"banana\"]\n",
        "thislist2=[100,40,50,2,22,83,78]\n",
        "for x in thislist2:\n",
        " thislist1.append(x)\n",
        "print(thislist1)"
      ],
      "execution_count": null,
      "outputs": [
        {
          "output_type": "stream",
          "text": [
            "['orange', 'mango', 'kiwi', 'pineapple', 'banana', 100, 40, 50, 2, 22, 83, 78]\n"
          ],
          "name": "stdout"
        }
      ]
    },
    {
      "cell_type": "code",
      "metadata": {
        "colab": {
          "base_uri": "https://localhost:8080/"
        },
        "id": "QuRnfR7B7Jfu",
        "outputId": "dbcd5a91-4b93-4a79-f2a3-d8044fde3a42"
      },
      "source": [
        "thislist1=[\"orange\",\"mango\",\"kiwi\",\"pineapple\",\"banana\"]\n",
        "thislist2=[100,40,50,2,22,83,78]\n",
        "thislist1.extend(thislist2)\n",
        "print(thislist1)"
      ],
      "execution_count": null,
      "outputs": [
        {
          "output_type": "stream",
          "text": [
            "['orange', 'mango', 'kiwi', 'pineapple', 'banana', 100, 40, 50, 2, 22, 83, 78]\n"
          ],
          "name": "stdout"
        }
      ]
    },
    {
      "cell_type": "code",
      "metadata": {
        "colab": {
          "base_uri": "https://localhost:8080/"
        },
        "id": "lXhT63Px7jOz",
        "outputId": "832d12cb-7bb0-4638-abb4-8e598413f0d7"
      },
      "source": [
        "l=['k','a','r','u','n']\n",
        "p=['n','a','y','a','r']\n",
        "for x in p:\n",
        "  l.append(x)\n",
        "print(l)"
      ],
      "execution_count": null,
      "outputs": [
        {
          "output_type": "stream",
          "text": [
            "['k', 'a', 'r', 'u', 'n', 'n', 'a', 'y', 'a', 'r']\n"
          ],
          "name": "stdout"
        }
      ]
    },
    {
      "cell_type": "code",
      "metadata": {
        "colab": {
          "base_uri": "https://localhost:8080/"
        },
        "id": "Xmvi92Z179eR",
        "outputId": "b8c4e4d7-6364-411d-c2b5-455ab28ebe76"
      },
      "source": [
        "l=['k','a','r','u','n']\n",
        "p=['n','a','y','a','r']\n",
        "l.extend(p)\n",
        "print(l)"
      ],
      "execution_count": null,
      "outputs": [
        {
          "output_type": "stream",
          "text": [
            "['k', 'a', 'r', 'u', 'n', 'n', 'a', 'y', 'a', 'r']\n"
          ],
          "name": "stdout"
        }
      ]
    },
    {
      "cell_type": "code",
      "metadata": {
        "colab": {
          "base_uri": "https://localhost:8080/"
        },
        "id": "qSYC-nkj8bEl",
        "outputId": "1855e542-c3a8-477b-d9bf-a6c9cd85980e"
      },
      "source": [
        "l=['k','a','r','u','n']\n",
        "p=['n','a','y','a','r']\n",
        "o=l+p\n",
        "print(o)"
      ],
      "execution_count": null,
      "outputs": [
        {
          "output_type": "stream",
          "text": [
            "['k', 'a', 'r', 'u', 'n', 'n', 'a', 'y', 'a', 'r']\n"
          ],
          "name": "stdout"
        }
      ]
    },
    {
      "cell_type": "markdown",
      "metadata": {
        "id": "_u4MiwOO8x1T"
      },
      "source": [
        "python has set of boilt in methods like:\n",
        "append(),clear(),copy(),count(),extend(),index(),insert(),pop(),remove(),sort()"
      ]
    },
    {
      "cell_type": "code",
      "metadata": {
        "colab": {
          "base_uri": "https://localhost:8080/"
        },
        "id": "fLKjw3UT8i_I",
        "outputId": "ec7af9e2-4c3d-4753-82bc-cab26a529a46"
      },
      "source": [
        "l=['k','a','r','u','n']\n",
        "print(l)"
      ],
      "execution_count": null,
      "outputs": [
        {
          "output_type": "stream",
          "text": [
            "['k', 'a', 'r', 'u', 'n']\n"
          ],
          "name": "stdout"
        }
      ]
    },
    {
      "cell_type": "markdown",
      "metadata": {
        "id": "bnxukcJT943g"
      },
      "source": [
        "python--tuple:\n",
        "are used to store multiple items in a single variable\n"
      ]
    },
    {
      "cell_type": "markdown",
      "metadata": {
        "id": "-mrO4bxN-OQu"
      },
      "source": [
        "list-tuple:tuple is unchangable unlike list, tuple is created by using parantheses"
      ]
    },
    {
      "cell_type": "code",
      "metadata": {
        "colab": {
          "base_uri": "https://localhost:8080/"
        },
        "id": "WGgNaDT39mQ3",
        "outputId": "598228df-63e7-4fd2-af90-aa88ce25482c"
      },
      "source": [
        "thisistuple=('cherry','banana','apple')\n",
        "print(thisistuple)"
      ],
      "execution_count": null,
      "outputs": [
        {
          "output_type": "stream",
          "text": [
            "('cherry', 'banana', 'apple')\n"
          ],
          "name": "stdout"
        }
      ]
    },
    {
      "cell_type": "code",
      "metadata": {
        "colab": {
          "base_uri": "https://localhost:8080/"
        },
        "id": "7OqAmN-G-u-e",
        "outputId": "7dd48ef7-11ea-48e8-857a-40f52caa1fed"
      },
      "source": [
        "thisistuple=('cherry','banana','apple','cherry','banana','apple')\n",
        "print(thisistuple)"
      ],
      "execution_count": null,
      "outputs": [
        {
          "output_type": "stream",
          "text": [
            "('cherry', 'banana', 'apple', 'cherry', 'banana', 'apple')\n"
          ],
          "name": "stdout"
        }
      ]
    },
    {
      "cell_type": "code",
      "metadata": {
        "colab": {
          "base_uri": "https://localhost:8080/"
        },
        "id": "sEeCdv2m-4uB",
        "outputId": "175c2057-b31b-4b24-e982-1af62ed92d5a"
      },
      "source": [
        "thisistuple=('cherry','banana','apple','cherry','banana','apple')\n",
        "print(len(thisistuple))"
      ],
      "execution_count": null,
      "outputs": [
        {
          "output_type": "stream",
          "text": [
            "6\n"
          ],
          "name": "stdout"
        }
      ]
    },
    {
      "cell_type": "code",
      "metadata": {
        "colab": {
          "base_uri": "https://localhost:8080/"
        },
        "id": "jSMW0lzS_ArG",
        "outputId": "8332e41c-52a3-4e0a-f4b5-17b3fb6bc166"
      },
      "source": [
        "tuple1=(\"orange\",\"mango\",\"kiwi\",\"pineapple\",\"banana\")\n",
        "tuple2=(100,40,50,2,22,83,78)\n",
        "tuple3=(True,False,False)\n",
        "print(tuple1)\n",
        "print(tuple2)\n",
        "print(tuple3)"
      ],
      "execution_count": null,
      "outputs": [
        {
          "output_type": "stream",
          "text": [
            "('orange', 'mango', 'kiwi', 'pineapple', 'banana')\n",
            "(100, 40, 50, 2, 22, 83, 78)\n",
            "(True, False, False)\n"
          ],
          "name": "stdout"
        }
      ]
    },
    {
      "cell_type": "code",
      "metadata": {
        "colab": {
          "base_uri": "https://localhost:8080/"
        },
        "id": "PjtyX_MZ_p5n",
        "outputId": "e0f64f50-c5c6-4180-ef1d-502e948cddba"
      },
      "source": [
        "tuple1=(\"orange\",3,True,\"pineapple\",\"banana\")\n",
        "tuple2=(100,40,50,2,22,83,78)\n",
        "tuple3=(True,False,False)\n",
        "print(tuple1)\n",
        "print(type(tuple1))\n"
      ],
      "execution_count": null,
      "outputs": [
        {
          "output_type": "stream",
          "text": [
            "('orange', 3, True, 'pineapple', 'banana')\n",
            "<class 'tuple'>\n"
          ],
          "name": "stdout"
        }
      ]
    },
    {
      "cell_type": "markdown",
      "metadata": {
        "id": "y1me-W_SAUuh"
      },
      "source": [
        "python collections/arrays: 4 types--list,tuple,set,dictionary"
      ]
    },
    {
      "cell_type": "markdown",
      "metadata": {
        "id": "Jm6a5dENAoGl"
      },
      "source": [
        "set is unordered and unindexed-no duplicate members are allowed"
      ]
    },
    {
      "cell_type": "markdown",
      "metadata": {
        "id": "8S9pMf32Ax5R"
      },
      "source": [
        "dictionary is unordered and changable-no duplicate members"
      ]
    },
    {
      "cell_type": "code",
      "metadata": {
        "colab": {
          "base_uri": "https://localhost:8080/"
        },
        "id": "jBZpBtKN_6Hr",
        "outputId": "9b30e0c5-f5a6-4ca1-ab02-fe3ed3d27345"
      },
      "source": [
        "tuple1=(\"orange\",3,True,\"pineapple\",\"banana\")\n",
        "print(tuple1[1])"
      ],
      "execution_count": null,
      "outputs": [
        {
          "output_type": "stream",
          "text": [
            "3\n"
          ],
          "name": "stdout"
        }
      ]
    },
    {
      "cell_type": "code",
      "metadata": {
        "colab": {
          "base_uri": "https://localhost:8080/"
        },
        "id": "pBXVYa6XBFrd",
        "outputId": "83a5c848-23b0-43fe-967a-b17562473e3c"
      },
      "source": [
        "tuple1=(\"orange\",3,True,\"pineapple\",\"banana\")\n",
        "print(tuple1[-2])"
      ],
      "execution_count": null,
      "outputs": [
        {
          "output_type": "stream",
          "text": [
            "pineapple\n"
          ],
          "name": "stdout"
        }
      ]
    },
    {
      "cell_type": "code",
      "metadata": {
        "colab": {
          "base_uri": "https://localhost:8080/"
        },
        "id": "yPWLUNkaBd92",
        "outputId": "00662a62-4727-46f9-e0cf-8e4fd1ebbf42"
      },
      "source": [
        "tuple1=(\"orange\",3,True,\"pineapple\",\"banana\")\n",
        "print(tuple1[:4])"
      ],
      "execution_count": null,
      "outputs": [
        {
          "output_type": "stream",
          "text": [
            "('orange', 3, True, 'pineapple')\n"
          ],
          "name": "stdout"
        }
      ]
    },
    {
      "cell_type": "code",
      "metadata": {
        "colab": {
          "base_uri": "https://localhost:8080/"
        },
        "id": "c2NKRGTRBtKu",
        "outputId": "2f9d945e-8a73-416e-c6ec-9f3439b9be65"
      },
      "source": [
        "tuple1=(\"orange\",3,True,\"pineapple\",\"banana\")\n",
        "print(tuple1[1:7])"
      ],
      "execution_count": null,
      "outputs": [
        {
          "output_type": "stream",
          "text": [
            "(3, True, 'pineapple', 'banana')\n"
          ],
          "name": "stdout"
        }
      ]
    },
    {
      "cell_type": "code",
      "metadata": {
        "colab": {
          "base_uri": "https://localhost:8080/"
        },
        "id": "IbC0Pq68B7il",
        "outputId": "b797d5a2-9c44-4d76-ba2e-b66d79dc5241"
      },
      "source": [
        "x=('apple','banana','cherry')\n",
        "y=list(x)\n",
        "y[1]='kiwi'\n",
        "x=tuple(y)\n",
        "print(x)"
      ],
      "execution_count": null,
      "outputs": [
        {
          "output_type": "stream",
          "text": [
            "('apple', 'kiwi', 'cherry')\n"
          ],
          "name": "stdout"
        }
      ]
    },
    {
      "cell_type": "code",
      "metadata": {
        "colab": {
          "base_uri": "https://localhost:8080/"
        },
        "id": "O3xtq7KlCV2l",
        "outputId": "9ec5af72-716e-47c0-8d33-ac07918dcc8e"
      },
      "source": [
        "tuple1=(\"orange\",3,True,\"pineapple\",\"banana\")\n",
        "y=list(tuple1)\n",
        "y.append('apple')\n",
        "tuple1=tuple(y)\n",
        "print(tuple1)"
      ],
      "execution_count": null,
      "outputs": [
        {
          "output_type": "stream",
          "text": [
            "('orange', 3, True, 'pineapple', 'banana', 'apple')\n"
          ],
          "name": "stdout"
        }
      ]
    },
    {
      "cell_type": "code",
      "metadata": {
        "colab": {
          "base_uri": "https://localhost:8080/"
        },
        "id": "dx0uYVvDC8Il",
        "outputId": "1b3ba205-04f2-43c7-aa01-00c7469e1f96"
      },
      "source": [
        "tuple1=(\"orange\",3,True,\"pineapple\",\"banana\")\n",
        "y=list(tuple1)\n",
        "y.remove('banana')\n",
        "tuple1=tuple(y)\n",
        "print(tuple1)"
      ],
      "execution_count": null,
      "outputs": [
        {
          "output_type": "stream",
          "text": [
            "('orange', 3, True, 'pineapple')\n"
          ],
          "name": "stdout"
        }
      ]
    },
    {
      "cell_type": "code",
      "metadata": {
        "colab": {
          "base_uri": "https://localhost:8080/"
        },
        "id": "DLRv4I-XEQBt",
        "outputId": "ebd7c01f-dc6c-47eb-ee18-be1080728a45"
      },
      "source": [
        "colours=(\"orange\",\"pineapple\",\"banana\")\n",
        "(green,yellow,red)=colours\n",
        "print(green)\n",
        "print(yellow)\n",
        "print(red)"
      ],
      "execution_count": null,
      "outputs": [
        {
          "output_type": "stream",
          "text": [
            "orange\n",
            "pineapple\n",
            "banana\n"
          ],
          "name": "stdout"
        }
      ]
    },
    {
      "cell_type": "code",
      "metadata": {
        "colab": {
          "base_uri": "https://localhost:8080/"
        },
        "id": "gVn0-HbNFRhQ",
        "outputId": "6091241b-eab4-45a9-b5bd-96a8a92d31d8"
      },
      "source": [
        "colours=(\"orange\",\"pineapple\",\"banana\",\"cherry\",\"mango\")\n",
        "(green,yellow,*red)=colours\n",
        "print(green)\n",
        "print(yellow)\n",
        "print(red)"
      ],
      "execution_count": null,
      "outputs": [
        {
          "output_type": "stream",
          "text": [
            "orange\n",
            "pineapple\n",
            "['banana', 'cherry', 'mango']\n"
          ],
          "name": "stdout"
        }
      ]
    },
    {
      "cell_type": "code",
      "metadata": {
        "colab": {
          "base_uri": "https://localhost:8080/"
        },
        "id": "32PyuOkvF034",
        "outputId": "b5297798-019a-4a26-bfd8-3c2b32a70a79"
      },
      "source": [
        "colours=(\"orange\",\"pineapple\",\"banana\",\"cherry\",\"mango\")\n",
        "(green,*yellow,red)=colours\n",
        "print(green)\n",
        "print(yellow)\n",
        "print(red)"
      ],
      "execution_count": null,
      "outputs": [
        {
          "output_type": "stream",
          "text": [
            "orange\n",
            "['pineapple', 'banana', 'cherry']\n",
            "mango\n"
          ],
          "name": "stdout"
        }
      ]
    },
    {
      "cell_type": "code",
      "metadata": {
        "colab": {
          "base_uri": "https://localhost:8080/"
        },
        "id": "2wLbs0eMGZRn",
        "outputId": "0e58146f-2613-412d-aa9b-170dac83ae6a"
      },
      "source": [
        "colours=(\"orange\",\"pineapple\",\"banana\",\"cherry\",\"mango\")\n",
        "for x in colours:\n",
        "  print(x)"
      ],
      "execution_count": null,
      "outputs": [
        {
          "output_type": "stream",
          "text": [
            "orange\n",
            "pineapple\n",
            "banana\n",
            "cherry\n",
            "mango\n"
          ],
          "name": "stdout"
        }
      ]
    },
    {
      "cell_type": "code",
      "metadata": {
        "colab": {
          "base_uri": "https://localhost:8080/"
        },
        "id": "5NCksfjJG7Xj",
        "outputId": "0a9c494e-301a-41d3-ddab-128dd02f7051"
      },
      "source": [
        "colours=(\"orange\",\"pineapple\",\"banana\",\"cherry\",\"mango\")\n",
        "for i in range(len(colours)):\n",
        "  print(colours[i])"
      ],
      "execution_count": null,
      "outputs": [
        {
          "output_type": "stream",
          "text": [
            "orange\n",
            "pineapple\n",
            "banana\n",
            "cherry\n",
            "mango\n"
          ],
          "name": "stdout"
        }
      ]
    },
    {
      "cell_type": "code",
      "metadata": {
        "id": "012-BulWHTFj"
      },
      "source": [
        "#concatenatioin, merge and joining dataframes in pandas"
      ],
      "execution_count": null,
      "outputs": []
    },
    {
      "cell_type": "markdown",
      "metadata": {
        "id": "QzmkhEZraxWy"
      },
      "source": [
        "let us understand concatenetion"
      ]
    },
    {
      "cell_type": "code",
      "metadata": {
        "colab": {
          "base_uri": "https://localhost:8080/"
        },
        "id": "U2SWEU2Sat5m",
        "outputId": "68e6aba3-c6cb-48b4-a66f-3aba3a63336c"
      },
      "source": [
        "import pandas as pd\n",
        "df1=pd.DataFrame({'item':['a','b','c','d'],'value':[1,2,3,5]})\n",
        "df2=pd.DataFrame({'item':['e','f','g','h'],'value':[5,6,7,8]})\n",
        "print(df1)\n",
        "print(df2)"
      ],
      "execution_count": null,
      "outputs": [
        {
          "output_type": "stream",
          "text": [
            "  item  value\n",
            "0    a      1\n",
            "1    b      2\n",
            "2    c      3\n",
            "3    d      5\n",
            "  item  value\n",
            "0    e      5\n",
            "1    f      6\n",
            "2    g      7\n",
            "3    h      8\n"
          ],
          "name": "stdout"
        }
      ]
    },
    {
      "cell_type": "code",
      "metadata": {
        "colab": {
          "base_uri": "https://localhost:8080/",
          "height": 168
        },
        "id": "kYjvRJG4d6fQ",
        "outputId": "eefd24e4-7da6-47bb-ff13-26ab82461172"
      },
      "source": [
        "df1"
      ],
      "execution_count": null,
      "outputs": [
        {
          "output_type": "execute_result",
          "data": {
            "text/html": [
              "<div>\n",
              "<style scoped>\n",
              "    .dataframe tbody tr th:only-of-type {\n",
              "        vertical-align: middle;\n",
              "    }\n",
              "\n",
              "    .dataframe tbody tr th {\n",
              "        vertical-align: top;\n",
              "    }\n",
              "\n",
              "    .dataframe thead th {\n",
              "        text-align: right;\n",
              "    }\n",
              "</style>\n",
              "<table border=\"1\" class=\"dataframe\">\n",
              "  <thead>\n",
              "    <tr style=\"text-align: right;\">\n",
              "      <th></th>\n",
              "      <th>item</th>\n",
              "      <th>value</th>\n",
              "    </tr>\n",
              "  </thead>\n",
              "  <tbody>\n",
              "    <tr>\n",
              "      <th>0</th>\n",
              "      <td>a</td>\n",
              "      <td>1</td>\n",
              "    </tr>\n",
              "    <tr>\n",
              "      <th>1</th>\n",
              "      <td>b</td>\n",
              "      <td>2</td>\n",
              "    </tr>\n",
              "    <tr>\n",
              "      <th>2</th>\n",
              "      <td>c</td>\n",
              "      <td>3</td>\n",
              "    </tr>\n",
              "    <tr>\n",
              "      <th>3</th>\n",
              "      <td>d</td>\n",
              "      <td>5</td>\n",
              "    </tr>\n",
              "  </tbody>\n",
              "</table>\n",
              "</div>"
            ],
            "text/plain": [
              "  item  value\n",
              "0    a      1\n",
              "1    b      2\n",
              "2    c      3\n",
              "3    d      5"
            ]
          },
          "metadata": {
            "tags": []
          },
          "execution_count": 3
        }
      ]
    },
    {
      "cell_type": "code",
      "metadata": {
        "colab": {
          "base_uri": "https://localhost:8080/",
          "height": 168
        },
        "id": "YnX4cSfTeEJS",
        "outputId": "05473c1a-928d-4967-b7f2-5c029b7da806"
      },
      "source": [
        "df2"
      ],
      "execution_count": null,
      "outputs": [
        {
          "output_type": "execute_result",
          "data": {
            "text/html": [
              "<div>\n",
              "<style scoped>\n",
              "    .dataframe tbody tr th:only-of-type {\n",
              "        vertical-align: middle;\n",
              "    }\n",
              "\n",
              "    .dataframe tbody tr th {\n",
              "        vertical-align: top;\n",
              "    }\n",
              "\n",
              "    .dataframe thead th {\n",
              "        text-align: right;\n",
              "    }\n",
              "</style>\n",
              "<table border=\"1\" class=\"dataframe\">\n",
              "  <thead>\n",
              "    <tr style=\"text-align: right;\">\n",
              "      <th></th>\n",
              "      <th>item</th>\n",
              "      <th>value</th>\n",
              "    </tr>\n",
              "  </thead>\n",
              "  <tbody>\n",
              "    <tr>\n",
              "      <th>0</th>\n",
              "      <td>e</td>\n",
              "      <td>5</td>\n",
              "    </tr>\n",
              "    <tr>\n",
              "      <th>1</th>\n",
              "      <td>f</td>\n",
              "      <td>6</td>\n",
              "    </tr>\n",
              "    <tr>\n",
              "      <th>2</th>\n",
              "      <td>g</td>\n",
              "      <td>7</td>\n",
              "    </tr>\n",
              "    <tr>\n",
              "      <th>3</th>\n",
              "      <td>h</td>\n",
              "      <td>8</td>\n",
              "    </tr>\n",
              "  </tbody>\n",
              "</table>\n",
              "</div>"
            ],
            "text/plain": [
              "  item  value\n",
              "0    e      5\n",
              "1    f      6\n",
              "2    g      7\n",
              "3    h      8"
            ]
          },
          "metadata": {
            "tags": []
          },
          "execution_count": 4
        }
      ]
    },
    {
      "cell_type": "code",
      "metadata": {
        "colab": {
          "base_uri": "https://localhost:8080/",
          "height": 288
        },
        "id": "wwTdL3G-eE7n",
        "outputId": "e2216d3d-703f-4dcf-e552-d5223bdf2b6c"
      },
      "source": [
        "pd.concat([df1,df2])"
      ],
      "execution_count": null,
      "outputs": [
        {
          "output_type": "execute_result",
          "data": {
            "text/html": [
              "<div>\n",
              "<style scoped>\n",
              "    .dataframe tbody tr th:only-of-type {\n",
              "        vertical-align: middle;\n",
              "    }\n",
              "\n",
              "    .dataframe tbody tr th {\n",
              "        vertical-align: top;\n",
              "    }\n",
              "\n",
              "    .dataframe thead th {\n",
              "        text-align: right;\n",
              "    }\n",
              "</style>\n",
              "<table border=\"1\" class=\"dataframe\">\n",
              "  <thead>\n",
              "    <tr style=\"text-align: right;\">\n",
              "      <th></th>\n",
              "      <th>item</th>\n",
              "      <th>value</th>\n",
              "    </tr>\n",
              "  </thead>\n",
              "  <tbody>\n",
              "    <tr>\n",
              "      <th>0</th>\n",
              "      <td>a</td>\n",
              "      <td>1</td>\n",
              "    </tr>\n",
              "    <tr>\n",
              "      <th>1</th>\n",
              "      <td>b</td>\n",
              "      <td>2</td>\n",
              "    </tr>\n",
              "    <tr>\n",
              "      <th>2</th>\n",
              "      <td>c</td>\n",
              "      <td>3</td>\n",
              "    </tr>\n",
              "    <tr>\n",
              "      <th>3</th>\n",
              "      <td>d</td>\n",
              "      <td>5</td>\n",
              "    </tr>\n",
              "    <tr>\n",
              "      <th>0</th>\n",
              "      <td>e</td>\n",
              "      <td>5</td>\n",
              "    </tr>\n",
              "    <tr>\n",
              "      <th>1</th>\n",
              "      <td>f</td>\n",
              "      <td>6</td>\n",
              "    </tr>\n",
              "    <tr>\n",
              "      <th>2</th>\n",
              "      <td>g</td>\n",
              "      <td>7</td>\n",
              "    </tr>\n",
              "    <tr>\n",
              "      <th>3</th>\n",
              "      <td>h</td>\n",
              "      <td>8</td>\n",
              "    </tr>\n",
              "  </tbody>\n",
              "</table>\n",
              "</div>"
            ],
            "text/plain": [
              "  item  value\n",
              "0    a      1\n",
              "1    b      2\n",
              "2    c      3\n",
              "3    d      5\n",
              "0    e      5\n",
              "1    f      6\n",
              "2    g      7\n",
              "3    h      8"
            ]
          },
          "metadata": {
            "tags": []
          },
          "execution_count": 5
        }
      ]
    },
    {
      "cell_type": "code",
      "metadata": {
        "colab": {
          "base_uri": "https://localhost:8080/"
        },
        "id": "X9IJQX7DebMH",
        "outputId": "e0972c24-899c-44f5-f6e9-a1ba487bbf5c"
      },
      "source": [
        "import pandas as pd\n",
        "df1=pd.DataFrame({'item':['a','b','c','d'],'value':[1,2,3,5]})\n",
        "df2=pd.DataFrame({'item':['e','f','g','h'],'value':[6,7,8,9]})\n",
        "print(df1)\n",
        "print(df2)"
      ],
      "execution_count": null,
      "outputs": [
        {
          "output_type": "stream",
          "text": [
            "  item  value\n",
            "0    a      1\n",
            "1    b      2\n",
            "2    c      3\n",
            "3    d      5\n",
            "  item  value\n",
            "0    e      6\n",
            "1    f      7\n",
            "2    g      8\n",
            "3    h      9\n"
          ],
          "name": "stdout"
        }
      ]
    },
    {
      "cell_type": "code",
      "metadata": {
        "colab": {
          "base_uri": "https://localhost:8080/",
          "height": 288
        },
        "id": "d2nCiZqDerzO",
        "outputId": "142589bb-a362-4fe5-e302-67912c650af7"
      },
      "source": [
        "pd.concat([df1,df2])"
      ],
      "execution_count": null,
      "outputs": [
        {
          "output_type": "execute_result",
          "data": {
            "text/html": [
              "<div>\n",
              "<style scoped>\n",
              "    .dataframe tbody tr th:only-of-type {\n",
              "        vertical-align: middle;\n",
              "    }\n",
              "\n",
              "    .dataframe tbody tr th {\n",
              "        vertical-align: top;\n",
              "    }\n",
              "\n",
              "    .dataframe thead th {\n",
              "        text-align: right;\n",
              "    }\n",
              "</style>\n",
              "<table border=\"1\" class=\"dataframe\">\n",
              "  <thead>\n",
              "    <tr style=\"text-align: right;\">\n",
              "      <th></th>\n",
              "      <th>item</th>\n",
              "      <th>value</th>\n",
              "    </tr>\n",
              "  </thead>\n",
              "  <tbody>\n",
              "    <tr>\n",
              "      <th>0</th>\n",
              "      <td>a</td>\n",
              "      <td>1</td>\n",
              "    </tr>\n",
              "    <tr>\n",
              "      <th>1</th>\n",
              "      <td>b</td>\n",
              "      <td>2</td>\n",
              "    </tr>\n",
              "    <tr>\n",
              "      <th>2</th>\n",
              "      <td>c</td>\n",
              "      <td>3</td>\n",
              "    </tr>\n",
              "    <tr>\n",
              "      <th>3</th>\n",
              "      <td>d</td>\n",
              "      <td>5</td>\n",
              "    </tr>\n",
              "    <tr>\n",
              "      <th>0</th>\n",
              "      <td>e</td>\n",
              "      <td>6</td>\n",
              "    </tr>\n",
              "    <tr>\n",
              "      <th>1</th>\n",
              "      <td>f</td>\n",
              "      <td>7</td>\n",
              "    </tr>\n",
              "    <tr>\n",
              "      <th>2</th>\n",
              "      <td>g</td>\n",
              "      <td>8</td>\n",
              "    </tr>\n",
              "    <tr>\n",
              "      <th>3</th>\n",
              "      <td>h</td>\n",
              "      <td>9</td>\n",
              "    </tr>\n",
              "  </tbody>\n",
              "</table>\n",
              "</div>"
            ],
            "text/plain": [
              "  item  value\n",
              "0    a      1\n",
              "1    b      2\n",
              "2    c      3\n",
              "3    d      5\n",
              "0    e      6\n",
              "1    f      7\n",
              "2    g      8\n",
              "3    h      9"
            ]
          },
          "metadata": {
            "tags": []
          },
          "execution_count": 7
        }
      ]
    },
    {
      "cell_type": "code",
      "metadata": {
        "colab": {
          "base_uri": "https://localhost:8080/",
          "height": 297
        },
        "id": "5ZszfFgmewLE",
        "outputId": "59830e02-b683-42eb-dc90-46f49eecfbf5"
      },
      "source": [
        "df1=pd.DataFrame({'item':['a','b','c','d'],'value':[1,2,3,5]})\n",
        "df2=pd.DataFrame({'item':['e','f','g','h'],'quantity':[5,6,7,8]})\n",
        "pd.concat([df1,df2])"
      ],
      "execution_count": null,
      "outputs": [
        {
          "output_type": "execute_result",
          "data": {
            "text/html": [
              "<div>\n",
              "<style scoped>\n",
              "    .dataframe tbody tr th:only-of-type {\n",
              "        vertical-align: middle;\n",
              "    }\n",
              "\n",
              "    .dataframe tbody tr th {\n",
              "        vertical-align: top;\n",
              "    }\n",
              "\n",
              "    .dataframe thead th {\n",
              "        text-align: right;\n",
              "    }\n",
              "</style>\n",
              "<table border=\"1\" class=\"dataframe\">\n",
              "  <thead>\n",
              "    <tr style=\"text-align: right;\">\n",
              "      <th></th>\n",
              "      <th>item</th>\n",
              "      <th>value</th>\n",
              "      <th>quantity</th>\n",
              "    </tr>\n",
              "  </thead>\n",
              "  <tbody>\n",
              "    <tr>\n",
              "      <th>0</th>\n",
              "      <td>a</td>\n",
              "      <td>1.0</td>\n",
              "      <td>NaN</td>\n",
              "    </tr>\n",
              "    <tr>\n",
              "      <th>1</th>\n",
              "      <td>b</td>\n",
              "      <td>2.0</td>\n",
              "      <td>NaN</td>\n",
              "    </tr>\n",
              "    <tr>\n",
              "      <th>2</th>\n",
              "      <td>c</td>\n",
              "      <td>3.0</td>\n",
              "      <td>NaN</td>\n",
              "    </tr>\n",
              "    <tr>\n",
              "      <th>3</th>\n",
              "      <td>d</td>\n",
              "      <td>5.0</td>\n",
              "      <td>NaN</td>\n",
              "    </tr>\n",
              "    <tr>\n",
              "      <th>0</th>\n",
              "      <td>e</td>\n",
              "      <td>NaN</td>\n",
              "      <td>5.0</td>\n",
              "    </tr>\n",
              "    <tr>\n",
              "      <th>1</th>\n",
              "      <td>f</td>\n",
              "      <td>NaN</td>\n",
              "      <td>6.0</td>\n",
              "    </tr>\n",
              "    <tr>\n",
              "      <th>2</th>\n",
              "      <td>g</td>\n",
              "      <td>NaN</td>\n",
              "      <td>7.0</td>\n",
              "    </tr>\n",
              "    <tr>\n",
              "      <th>3</th>\n",
              "      <td>h</td>\n",
              "      <td>NaN</td>\n",
              "      <td>8.0</td>\n",
              "    </tr>\n",
              "  </tbody>\n",
              "</table>\n",
              "</div>"
            ],
            "text/plain": [
              "  item  value  quantity\n",
              "0    a    1.0       NaN\n",
              "1    b    2.0       NaN\n",
              "2    c    3.0       NaN\n",
              "3    d    5.0       NaN\n",
              "0    e    NaN       5.0\n",
              "1    f    NaN       6.0\n",
              "2    g    NaN       7.0\n",
              "3    h    NaN       8.0"
            ]
          },
          "metadata": {
            "tags": []
          },
          "execution_count": 8
        }
      ]
    },
    {
      "cell_type": "code",
      "metadata": {
        "colab": {
          "base_uri": "https://localhost:8080/",
          "height": 297
        },
        "id": "1eNFnQEgfiWg",
        "outputId": "b1f9f84b-77db-466a-ab9f-a4974ebadc6f"
      },
      "source": [
        "df1=pd.DataFrame({'item':['a','b','c','d'],'value':[1,2,3,5]})\n",
        "df2=pd.DataFrame({'item':['e','f','g','h'],'quantity':[5,6,7,8]})\n",
        "pd.concat([df1,df2]).reset_index()"
      ],
      "execution_count": null,
      "outputs": [
        {
          "output_type": "execute_result",
          "data": {
            "text/html": [
              "<div>\n",
              "<style scoped>\n",
              "    .dataframe tbody tr th:only-of-type {\n",
              "        vertical-align: middle;\n",
              "    }\n",
              "\n",
              "    .dataframe tbody tr th {\n",
              "        vertical-align: top;\n",
              "    }\n",
              "\n",
              "    .dataframe thead th {\n",
              "        text-align: right;\n",
              "    }\n",
              "</style>\n",
              "<table border=\"1\" class=\"dataframe\">\n",
              "  <thead>\n",
              "    <tr style=\"text-align: right;\">\n",
              "      <th></th>\n",
              "      <th>index</th>\n",
              "      <th>item</th>\n",
              "      <th>value</th>\n",
              "      <th>quantity</th>\n",
              "    </tr>\n",
              "  </thead>\n",
              "  <tbody>\n",
              "    <tr>\n",
              "      <th>0</th>\n",
              "      <td>0</td>\n",
              "      <td>a</td>\n",
              "      <td>1.0</td>\n",
              "      <td>NaN</td>\n",
              "    </tr>\n",
              "    <tr>\n",
              "      <th>1</th>\n",
              "      <td>1</td>\n",
              "      <td>b</td>\n",
              "      <td>2.0</td>\n",
              "      <td>NaN</td>\n",
              "    </tr>\n",
              "    <tr>\n",
              "      <th>2</th>\n",
              "      <td>2</td>\n",
              "      <td>c</td>\n",
              "      <td>3.0</td>\n",
              "      <td>NaN</td>\n",
              "    </tr>\n",
              "    <tr>\n",
              "      <th>3</th>\n",
              "      <td>3</td>\n",
              "      <td>d</td>\n",
              "      <td>5.0</td>\n",
              "      <td>NaN</td>\n",
              "    </tr>\n",
              "    <tr>\n",
              "      <th>4</th>\n",
              "      <td>0</td>\n",
              "      <td>e</td>\n",
              "      <td>NaN</td>\n",
              "      <td>5.0</td>\n",
              "    </tr>\n",
              "    <tr>\n",
              "      <th>5</th>\n",
              "      <td>1</td>\n",
              "      <td>f</td>\n",
              "      <td>NaN</td>\n",
              "      <td>6.0</td>\n",
              "    </tr>\n",
              "    <tr>\n",
              "      <th>6</th>\n",
              "      <td>2</td>\n",
              "      <td>g</td>\n",
              "      <td>NaN</td>\n",
              "      <td>7.0</td>\n",
              "    </tr>\n",
              "    <tr>\n",
              "      <th>7</th>\n",
              "      <td>3</td>\n",
              "      <td>h</td>\n",
              "      <td>NaN</td>\n",
              "      <td>8.0</td>\n",
              "    </tr>\n",
              "  </tbody>\n",
              "</table>\n",
              "</div>"
            ],
            "text/plain": [
              "   index item  value  quantity\n",
              "0      0    a    1.0       NaN\n",
              "1      1    b    2.0       NaN\n",
              "2      2    c    3.0       NaN\n",
              "3      3    d    5.0       NaN\n",
              "4      0    e    NaN       5.0\n",
              "5      1    f    NaN       6.0\n",
              "6      2    g    NaN       7.0\n",
              "7      3    h    NaN       8.0"
            ]
          },
          "metadata": {
            "tags": []
          },
          "execution_count": 10
        }
      ]
    },
    {
      "cell_type": "code",
      "metadata": {
        "colab": {
          "base_uri": "https://localhost:8080/",
          "height": 173
        },
        "id": "hpPXjuLBgOz_",
        "outputId": "34037c7e-7fed-4f4c-8fa0-19b5e09a61cc"
      },
      "source": [
        "pd.concat([df1,df2], axis=1)"
      ],
      "execution_count": null,
      "outputs": [
        {
          "output_type": "execute_result",
          "data": {
            "text/html": [
              "<div>\n",
              "<style scoped>\n",
              "    .dataframe tbody tr th:only-of-type {\n",
              "        vertical-align: middle;\n",
              "    }\n",
              "\n",
              "    .dataframe tbody tr th {\n",
              "        vertical-align: top;\n",
              "    }\n",
              "\n",
              "    .dataframe thead th {\n",
              "        text-align: right;\n",
              "    }\n",
              "</style>\n",
              "<table border=\"1\" class=\"dataframe\">\n",
              "  <thead>\n",
              "    <tr style=\"text-align: right;\">\n",
              "      <th></th>\n",
              "      <th>item</th>\n",
              "      <th>value</th>\n",
              "      <th>item</th>\n",
              "      <th>quantity</th>\n",
              "    </tr>\n",
              "  </thead>\n",
              "  <tbody>\n",
              "    <tr>\n",
              "      <th>0</th>\n",
              "      <td>a</td>\n",
              "      <td>1</td>\n",
              "      <td>e</td>\n",
              "      <td>5</td>\n",
              "    </tr>\n",
              "    <tr>\n",
              "      <th>1</th>\n",
              "      <td>b</td>\n",
              "      <td>2</td>\n",
              "      <td>f</td>\n",
              "      <td>6</td>\n",
              "    </tr>\n",
              "    <tr>\n",
              "      <th>2</th>\n",
              "      <td>c</td>\n",
              "      <td>3</td>\n",
              "      <td>g</td>\n",
              "      <td>7</td>\n",
              "    </tr>\n",
              "    <tr>\n",
              "      <th>3</th>\n",
              "      <td>d</td>\n",
              "      <td>5</td>\n",
              "      <td>h</td>\n",
              "      <td>8</td>\n",
              "    </tr>\n",
              "  </tbody>\n",
              "</table>\n",
              "</div>"
            ],
            "text/plain": [
              "  item  value item  quantity\n",
              "0    a      1    e         5\n",
              "1    b      2    f         6\n",
              "2    c      3    g         7\n",
              "3    d      5    h         8"
            ]
          },
          "metadata": {
            "tags": []
          },
          "execution_count": 15
        }
      ]
    },
    {
      "cell_type": "markdown",
      "metadata": {
        "id": "0pu1CRY3g2uR"
      },
      "source": [
        "*also use append to add multiple DataFrame to another*"
      ]
    },
    {
      "cell_type": "code",
      "metadata": {
        "colab": {
          "base_uri": "https://localhost:8080/",
          "height": 421
        },
        "id": "fR9GZnSOggI_",
        "outputId": "6319e5a1-219b-4894-d4c5-e424e8f352d4"
      },
      "source": [
        "df1=pd.DataFrame({'item':['a','b','c','d'],'value':[1,2,3,5]})\n",
        "df2=pd.DataFrame({'item':['e','f','g','h'],'quantity':[5,6,7,8]})\n",
        "df3=pd.DataFrame({'item':['i','j','k','l'],'quantity':[3,7,4,25]})\n",
        "df1.append([df2,df3])"
      ],
      "execution_count": null,
      "outputs": [
        {
          "output_type": "execute_result",
          "data": {
            "text/html": [
              "<div>\n",
              "<style scoped>\n",
              "    .dataframe tbody tr th:only-of-type {\n",
              "        vertical-align: middle;\n",
              "    }\n",
              "\n",
              "    .dataframe tbody tr th {\n",
              "        vertical-align: top;\n",
              "    }\n",
              "\n",
              "    .dataframe thead th {\n",
              "        text-align: right;\n",
              "    }\n",
              "</style>\n",
              "<table border=\"1\" class=\"dataframe\">\n",
              "  <thead>\n",
              "    <tr style=\"text-align: right;\">\n",
              "      <th></th>\n",
              "      <th>item</th>\n",
              "      <th>value</th>\n",
              "      <th>quantity</th>\n",
              "    </tr>\n",
              "  </thead>\n",
              "  <tbody>\n",
              "    <tr>\n",
              "      <th>0</th>\n",
              "      <td>a</td>\n",
              "      <td>1.0</td>\n",
              "      <td>NaN</td>\n",
              "    </tr>\n",
              "    <tr>\n",
              "      <th>1</th>\n",
              "      <td>b</td>\n",
              "      <td>2.0</td>\n",
              "      <td>NaN</td>\n",
              "    </tr>\n",
              "    <tr>\n",
              "      <th>2</th>\n",
              "      <td>c</td>\n",
              "      <td>3.0</td>\n",
              "      <td>NaN</td>\n",
              "    </tr>\n",
              "    <tr>\n",
              "      <th>3</th>\n",
              "      <td>d</td>\n",
              "      <td>5.0</td>\n",
              "      <td>NaN</td>\n",
              "    </tr>\n",
              "    <tr>\n",
              "      <th>0</th>\n",
              "      <td>e</td>\n",
              "      <td>NaN</td>\n",
              "      <td>5.0</td>\n",
              "    </tr>\n",
              "    <tr>\n",
              "      <th>1</th>\n",
              "      <td>f</td>\n",
              "      <td>NaN</td>\n",
              "      <td>6.0</td>\n",
              "    </tr>\n",
              "    <tr>\n",
              "      <th>2</th>\n",
              "      <td>g</td>\n",
              "      <td>NaN</td>\n",
              "      <td>7.0</td>\n",
              "    </tr>\n",
              "    <tr>\n",
              "      <th>3</th>\n",
              "      <td>h</td>\n",
              "      <td>NaN</td>\n",
              "      <td>8.0</td>\n",
              "    </tr>\n",
              "    <tr>\n",
              "      <th>0</th>\n",
              "      <td>i</td>\n",
              "      <td>NaN</td>\n",
              "      <td>3.0</td>\n",
              "    </tr>\n",
              "    <tr>\n",
              "      <th>1</th>\n",
              "      <td>j</td>\n",
              "      <td>NaN</td>\n",
              "      <td>7.0</td>\n",
              "    </tr>\n",
              "    <tr>\n",
              "      <th>2</th>\n",
              "      <td>k</td>\n",
              "      <td>NaN</td>\n",
              "      <td>4.0</td>\n",
              "    </tr>\n",
              "    <tr>\n",
              "      <th>3</th>\n",
              "      <td>l</td>\n",
              "      <td>NaN</td>\n",
              "      <td>25.0</td>\n",
              "    </tr>\n",
              "  </tbody>\n",
              "</table>\n",
              "</div>"
            ],
            "text/plain": [
              "  item  value  quantity\n",
              "0    a    1.0       NaN\n",
              "1    b    2.0       NaN\n",
              "2    c    3.0       NaN\n",
              "3    d    5.0       NaN\n",
              "0    e    NaN       5.0\n",
              "1    f    NaN       6.0\n",
              "2    g    NaN       7.0\n",
              "3    h    NaN       8.0\n",
              "0    i    NaN       3.0\n",
              "1    j    NaN       7.0\n",
              "2    k    NaN       4.0\n",
              "3    l    NaN      25.0"
            ]
          },
          "metadata": {
            "tags": []
          },
          "execution_count": 16
        }
      ]
    },
    {
      "cell_type": "code",
      "metadata": {
        "colab": {
          "base_uri": "https://localhost:8080/",
          "height": 49
        },
        "id": "jwf2MjQPhoUT",
        "outputId": "af2cccb4-c63f-458b-d8bd-51f702ef43a2"
      },
      "source": [
        "dfa=pd.DataFrame({'key':['a','b','c','d'],'A':[1,2,3,5]})\n",
        "dfb=pd.DataFrame({'key':['e','f','g','h'],'B':[5,6,7,8]})\n",
        "pd.merge(dfa,dfb, on='key')\n"
      ],
      "execution_count": null,
      "outputs": [
        {
          "output_type": "execute_result",
          "data": {
            "text/html": [
              "<div>\n",
              "<style scoped>\n",
              "    .dataframe tbody tr th:only-of-type {\n",
              "        vertical-align: middle;\n",
              "    }\n",
              "\n",
              "    .dataframe tbody tr th {\n",
              "        vertical-align: top;\n",
              "    }\n",
              "\n",
              "    .dataframe thead th {\n",
              "        text-align: right;\n",
              "    }\n",
              "</style>\n",
              "<table border=\"1\" class=\"dataframe\">\n",
              "  <thead>\n",
              "    <tr style=\"text-align: right;\">\n",
              "      <th></th>\n",
              "      <th>key</th>\n",
              "      <th>A</th>\n",
              "      <th>B</th>\n",
              "    </tr>\n",
              "  </thead>\n",
              "  <tbody>\n",
              "  </tbody>\n",
              "</table>\n",
              "</div>"
            ],
            "text/plain": [
              "Empty DataFrame\n",
              "Columns: [key, A, B]\n",
              "Index: []"
            ]
          },
          "metadata": {
            "tags": []
          },
          "execution_count": 17
        }
      ]
    },
    {
      "cell_type": "code",
      "metadata": {
        "colab": {
          "base_uri": "https://localhost:8080/",
          "height": 173
        },
        "id": "jfgAwXDViZW0",
        "outputId": "5e4068c7-52b4-47ac-b863-568151117ade"
      },
      "source": [
        "dfa=pd.DataFrame({'key':['k0','k1','k2','k3'],'A':['A0','A1','A2','A3'],'B':['B0','B1','B2','B3']})\n",
        "dfb=pd.DataFrame({'key':['k0','k1','k2','k3'],'C':['C0','C1','C2','C3'],'D':['D0','D1','D2','D3']})\n",
        "pd.merge(dfa,dfb, on='key')\n"
      ],
      "execution_count": null,
      "outputs": [
        {
          "output_type": "execute_result",
          "data": {
            "text/html": [
              "<div>\n",
              "<style scoped>\n",
              "    .dataframe tbody tr th:only-of-type {\n",
              "        vertical-align: middle;\n",
              "    }\n",
              "\n",
              "    .dataframe tbody tr th {\n",
              "        vertical-align: top;\n",
              "    }\n",
              "\n",
              "    .dataframe thead th {\n",
              "        text-align: right;\n",
              "    }\n",
              "</style>\n",
              "<table border=\"1\" class=\"dataframe\">\n",
              "  <thead>\n",
              "    <tr style=\"text-align: right;\">\n",
              "      <th></th>\n",
              "      <th>key</th>\n",
              "      <th>A</th>\n",
              "      <th>B</th>\n",
              "      <th>C</th>\n",
              "      <th>D</th>\n",
              "    </tr>\n",
              "  </thead>\n",
              "  <tbody>\n",
              "    <tr>\n",
              "      <th>0</th>\n",
              "      <td>k0</td>\n",
              "      <td>A0</td>\n",
              "      <td>B0</td>\n",
              "      <td>C0</td>\n",
              "      <td>D0</td>\n",
              "    </tr>\n",
              "    <tr>\n",
              "      <th>1</th>\n",
              "      <td>k1</td>\n",
              "      <td>A1</td>\n",
              "      <td>B1</td>\n",
              "      <td>C1</td>\n",
              "      <td>D1</td>\n",
              "    </tr>\n",
              "    <tr>\n",
              "      <th>2</th>\n",
              "      <td>k2</td>\n",
              "      <td>A2</td>\n",
              "      <td>B2</td>\n",
              "      <td>C2</td>\n",
              "      <td>D2</td>\n",
              "    </tr>\n",
              "    <tr>\n",
              "      <th>3</th>\n",
              "      <td>k3</td>\n",
              "      <td>A3</td>\n",
              "      <td>B3</td>\n",
              "      <td>C3</td>\n",
              "      <td>D3</td>\n",
              "    </tr>\n",
              "  </tbody>\n",
              "</table>\n",
              "</div>"
            ],
            "text/plain": [
              "  key   A   B   C   D\n",
              "0  k0  A0  B0  C0  D0\n",
              "1  k1  A1  B1  C1  D1\n",
              "2  k2  A2  B2  C2  D2\n",
              "3  k3  A3  B3  C3  D3"
            ]
          },
          "metadata": {
            "tags": []
          },
          "execution_count": 18
        }
      ]
    },
    {
      "cell_type": "code",
      "metadata": {
        "colab": {
          "base_uri": "https://localhost:8080/",
          "height": 173
        },
        "id": "V6r_0eCAjdli",
        "outputId": "817cdef8-7b81-49aa-f927-59cab14076e0"
      },
      "source": [
        "dfa=pd.DataFrame({'key':['k0','k1','k2','k3'],'A':['A0','A1','A2','A3'],'B':['B0','B1','B2','B3']})\n",
        "dfb=pd.DataFrame({'key':['k0','k1','k2','k3'],'C':['C0','C1','C2','C3'],'D':['D0','D1','D2','D3']})\n",
        "pd.merge(dfa,dfb,how='left', on='key')\n"
      ],
      "execution_count": null,
      "outputs": [
        {
          "output_type": "execute_result",
          "data": {
            "text/html": [
              "<div>\n",
              "<style scoped>\n",
              "    .dataframe tbody tr th:only-of-type {\n",
              "        vertical-align: middle;\n",
              "    }\n",
              "\n",
              "    .dataframe tbody tr th {\n",
              "        vertical-align: top;\n",
              "    }\n",
              "\n",
              "    .dataframe thead th {\n",
              "        text-align: right;\n",
              "    }\n",
              "</style>\n",
              "<table border=\"1\" class=\"dataframe\">\n",
              "  <thead>\n",
              "    <tr style=\"text-align: right;\">\n",
              "      <th></th>\n",
              "      <th>key</th>\n",
              "      <th>A</th>\n",
              "      <th>B</th>\n",
              "      <th>C</th>\n",
              "      <th>D</th>\n",
              "    </tr>\n",
              "  </thead>\n",
              "  <tbody>\n",
              "    <tr>\n",
              "      <th>0</th>\n",
              "      <td>k0</td>\n",
              "      <td>A0</td>\n",
              "      <td>B0</td>\n",
              "      <td>C0</td>\n",
              "      <td>D0</td>\n",
              "    </tr>\n",
              "    <tr>\n",
              "      <th>1</th>\n",
              "      <td>k1</td>\n",
              "      <td>A1</td>\n",
              "      <td>B1</td>\n",
              "      <td>C1</td>\n",
              "      <td>D1</td>\n",
              "    </tr>\n",
              "    <tr>\n",
              "      <th>2</th>\n",
              "      <td>k2</td>\n",
              "      <td>A2</td>\n",
              "      <td>B2</td>\n",
              "      <td>C2</td>\n",
              "      <td>D2</td>\n",
              "    </tr>\n",
              "    <tr>\n",
              "      <th>3</th>\n",
              "      <td>k3</td>\n",
              "      <td>A3</td>\n",
              "      <td>B3</td>\n",
              "      <td>C3</td>\n",
              "      <td>D3</td>\n",
              "    </tr>\n",
              "  </tbody>\n",
              "</table>\n",
              "</div>"
            ],
            "text/plain": [
              "  key   A   B   C   D\n",
              "0  k0  A0  B0  C0  D0\n",
              "1  k1  A1  B1  C1  D1\n",
              "2  k2  A2  B2  C2  D2\n",
              "3  k3  A3  B3  C3  D3"
            ]
          },
          "metadata": {
            "tags": []
          },
          "execution_count": 19
        }
      ]
    },
    {
      "cell_type": "code",
      "metadata": {
        "colab": {
          "base_uri": "https://localhost:8080/",
          "height": 173
        },
        "id": "cvr0NyNWjzHt",
        "outputId": "500aa91b-8090-40f1-cb8a-e759b997b981"
      },
      "source": [
        "dfa=pd.DataFrame({'key':['k0','k1','k2','k3'],'A':['A0','A1','A2','A3'],'B':['B0','B1','B2','B3']})\n",
        "dfb=pd.DataFrame({'key':['k0','k1','k2','k3'],'C':['C0','C1','C2','C3'],'D':['D0','D1','D2','D3']})\n",
        "pd.merge(dfa,dfb,how='right', on='key')\n"
      ],
      "execution_count": null,
      "outputs": [
        {
          "output_type": "execute_result",
          "data": {
            "text/html": [
              "<div>\n",
              "<style scoped>\n",
              "    .dataframe tbody tr th:only-of-type {\n",
              "        vertical-align: middle;\n",
              "    }\n",
              "\n",
              "    .dataframe tbody tr th {\n",
              "        vertical-align: top;\n",
              "    }\n",
              "\n",
              "    .dataframe thead th {\n",
              "        text-align: right;\n",
              "    }\n",
              "</style>\n",
              "<table border=\"1\" class=\"dataframe\">\n",
              "  <thead>\n",
              "    <tr style=\"text-align: right;\">\n",
              "      <th></th>\n",
              "      <th>key</th>\n",
              "      <th>A</th>\n",
              "      <th>B</th>\n",
              "      <th>C</th>\n",
              "      <th>D</th>\n",
              "    </tr>\n",
              "  </thead>\n",
              "  <tbody>\n",
              "    <tr>\n",
              "      <th>0</th>\n",
              "      <td>k0</td>\n",
              "      <td>A0</td>\n",
              "      <td>B0</td>\n",
              "      <td>C0</td>\n",
              "      <td>D0</td>\n",
              "    </tr>\n",
              "    <tr>\n",
              "      <th>1</th>\n",
              "      <td>k1</td>\n",
              "      <td>A1</td>\n",
              "      <td>B1</td>\n",
              "      <td>C1</td>\n",
              "      <td>D1</td>\n",
              "    </tr>\n",
              "    <tr>\n",
              "      <th>2</th>\n",
              "      <td>k2</td>\n",
              "      <td>A2</td>\n",
              "      <td>B2</td>\n",
              "      <td>C2</td>\n",
              "      <td>D2</td>\n",
              "    </tr>\n",
              "    <tr>\n",
              "      <th>3</th>\n",
              "      <td>k3</td>\n",
              "      <td>A3</td>\n",
              "      <td>B3</td>\n",
              "      <td>C3</td>\n",
              "      <td>D3</td>\n",
              "    </tr>\n",
              "  </tbody>\n",
              "</table>\n",
              "</div>"
            ],
            "text/plain": [
              "  key   A   B   C   D\n",
              "0  k0  A0  B0  C0  D0\n",
              "1  k1  A1  B1  C1  D1\n",
              "2  k2  A2  B2  C2  D2\n",
              "3  k3  A3  B3  C3  D3"
            ]
          },
          "metadata": {
            "tags": []
          },
          "execution_count": 20
        }
      ]
    },
    {
      "cell_type": "code",
      "metadata": {
        "colab": {
          "base_uri": "https://localhost:8080/",
          "height": 173
        },
        "id": "t71jRlm9j5Zi",
        "outputId": "61d4bc02-66ae-4a3e-c71f-93da5be07453"
      },
      "source": [
        "dfa=pd.DataFrame({'key':['k0','k1','k2','k3'],'A':['A0','A1','A2','A3'],'B':['B0','B1','B2','B3']})\n",
        "dfb=pd.DataFrame({'key':['k0','k1','k2','k3'],'C':['C0','C1','C2','C3'],'D':['D0','D1','D2','D3']})\n",
        "pd.merge(dfa,dfb,how='inner', on='key')\n"
      ],
      "execution_count": null,
      "outputs": [
        {
          "output_type": "execute_result",
          "data": {
            "text/html": [
              "<div>\n",
              "<style scoped>\n",
              "    .dataframe tbody tr th:only-of-type {\n",
              "        vertical-align: middle;\n",
              "    }\n",
              "\n",
              "    .dataframe tbody tr th {\n",
              "        vertical-align: top;\n",
              "    }\n",
              "\n",
              "    .dataframe thead th {\n",
              "        text-align: right;\n",
              "    }\n",
              "</style>\n",
              "<table border=\"1\" class=\"dataframe\">\n",
              "  <thead>\n",
              "    <tr style=\"text-align: right;\">\n",
              "      <th></th>\n",
              "      <th>key</th>\n",
              "      <th>A</th>\n",
              "      <th>B</th>\n",
              "      <th>C</th>\n",
              "      <th>D</th>\n",
              "    </tr>\n",
              "  </thead>\n",
              "  <tbody>\n",
              "    <tr>\n",
              "      <th>0</th>\n",
              "      <td>k0</td>\n",
              "      <td>A0</td>\n",
              "      <td>B0</td>\n",
              "      <td>C0</td>\n",
              "      <td>D0</td>\n",
              "    </tr>\n",
              "    <tr>\n",
              "      <th>1</th>\n",
              "      <td>k1</td>\n",
              "      <td>A1</td>\n",
              "      <td>B1</td>\n",
              "      <td>C1</td>\n",
              "      <td>D1</td>\n",
              "    </tr>\n",
              "    <tr>\n",
              "      <th>2</th>\n",
              "      <td>k2</td>\n",
              "      <td>A2</td>\n",
              "      <td>B2</td>\n",
              "      <td>C2</td>\n",
              "      <td>D2</td>\n",
              "    </tr>\n",
              "    <tr>\n",
              "      <th>3</th>\n",
              "      <td>k3</td>\n",
              "      <td>A3</td>\n",
              "      <td>B3</td>\n",
              "      <td>C3</td>\n",
              "      <td>D3</td>\n",
              "    </tr>\n",
              "  </tbody>\n",
              "</table>\n",
              "</div>"
            ],
            "text/plain": [
              "  key   A   B   C   D\n",
              "0  k0  A0  B0  C0  D0\n",
              "1  k1  A1  B1  C1  D1\n",
              "2  k2  A2  B2  C2  D2\n",
              "3  k3  A3  B3  C3  D3"
            ]
          },
          "metadata": {
            "tags": []
          },
          "execution_count": 21
        }
      ]
    },
    {
      "cell_type": "code",
      "metadata": {
        "id": "7-lA8fAjj-vF"
      },
      "source": [
        "left=pd.DataFrame({'A':['k0','k1','k2','k3'],'b':['A0','A1','A2','A3']},index=['B0','B1','B2','B3'])\n"
      ],
      "execution_count": null,
      "outputs": []
    },
    {
      "cell_type": "code",
      "metadata": {
        "colab": {
          "base_uri": "https://localhost:8080/",
          "height": 173
        },
        "id": "QACqXRF5kvKv",
        "outputId": "48767657-5bc1-4701-f9e3-2f0f39750a40"
      },
      "source": [
        "left"
      ],
      "execution_count": null,
      "outputs": [
        {
          "output_type": "execute_result",
          "data": {
            "text/html": [
              "<div>\n",
              "<style scoped>\n",
              "    .dataframe tbody tr th:only-of-type {\n",
              "        vertical-align: middle;\n",
              "    }\n",
              "\n",
              "    .dataframe tbody tr th {\n",
              "        vertical-align: top;\n",
              "    }\n",
              "\n",
              "    .dataframe thead th {\n",
              "        text-align: right;\n",
              "    }\n",
              "</style>\n",
              "<table border=\"1\" class=\"dataframe\">\n",
              "  <thead>\n",
              "    <tr style=\"text-align: right;\">\n",
              "      <th></th>\n",
              "      <th>A</th>\n",
              "      <th>b</th>\n",
              "    </tr>\n",
              "  </thead>\n",
              "  <tbody>\n",
              "    <tr>\n",
              "      <th>B0</th>\n",
              "      <td>k0</td>\n",
              "      <td>A0</td>\n",
              "    </tr>\n",
              "    <tr>\n",
              "      <th>B1</th>\n",
              "      <td>k1</td>\n",
              "      <td>A1</td>\n",
              "    </tr>\n",
              "    <tr>\n",
              "      <th>B2</th>\n",
              "      <td>k2</td>\n",
              "      <td>A2</td>\n",
              "    </tr>\n",
              "    <tr>\n",
              "      <th>B3</th>\n",
              "      <td>k3</td>\n",
              "      <td>A3</td>\n",
              "    </tr>\n",
              "  </tbody>\n",
              "</table>\n",
              "</div>"
            ],
            "text/plain": [
              "     A   b\n",
              "B0  k0  A0\n",
              "B1  k1  A1\n",
              "B2  k2  A2\n",
              "B3  k3  A3"
            ]
          },
          "metadata": {
            "tags": []
          },
          "execution_count": 27
        }
      ]
    },
    {
      "cell_type": "code",
      "metadata": {
        "colab": {
          "base_uri": "https://localhost:8080/",
          "height": 142
        },
        "id": "_GSgZ3c1k6Ez",
        "outputId": "888b0519-f308-4fbc-d4d9-6d6e64bd1cd0"
      },
      "source": [
        "left=pd.DataFrame({'A':['A0','A1','A2'],'b':['B0','B1','B2']},index=['K0','K1','K2'])\n",
        "left"
      ],
      "execution_count": null,
      "outputs": [
        {
          "output_type": "execute_result",
          "data": {
            "text/html": [
              "<div>\n",
              "<style scoped>\n",
              "    .dataframe tbody tr th:only-of-type {\n",
              "        vertical-align: middle;\n",
              "    }\n",
              "\n",
              "    .dataframe tbody tr th {\n",
              "        vertical-align: top;\n",
              "    }\n",
              "\n",
              "    .dataframe thead th {\n",
              "        text-align: right;\n",
              "    }\n",
              "</style>\n",
              "<table border=\"1\" class=\"dataframe\">\n",
              "  <thead>\n",
              "    <tr style=\"text-align: right;\">\n",
              "      <th></th>\n",
              "      <th>A</th>\n",
              "      <th>b</th>\n",
              "    </tr>\n",
              "  </thead>\n",
              "  <tbody>\n",
              "    <tr>\n",
              "      <th>K0</th>\n",
              "      <td>A0</td>\n",
              "      <td>B0</td>\n",
              "    </tr>\n",
              "    <tr>\n",
              "      <th>K1</th>\n",
              "      <td>A1</td>\n",
              "      <td>B1</td>\n",
              "    </tr>\n",
              "    <tr>\n",
              "      <th>K2</th>\n",
              "      <td>A2</td>\n",
              "      <td>B2</td>\n",
              "    </tr>\n",
              "  </tbody>\n",
              "</table>\n",
              "</div>"
            ],
            "text/plain": [
              "     A   b\n",
              "K0  A0  B0\n",
              "K1  A1  B1\n",
              "K2  A2  B2"
            ]
          },
          "metadata": {
            "tags": []
          },
          "execution_count": 32
        }
      ]
    },
    {
      "cell_type": "code",
      "metadata": {
        "colab": {
          "base_uri": "https://localhost:8080/",
          "height": 142
        },
        "id": "eO_xhX1llMBY",
        "outputId": "0fdd9551-6a2e-4409-d2c5-6822e7d0a117"
      },
      "source": [
        "right=pd.DataFrame({'c':['c0','c1','c2'],'d':['d0','d1','d2']},index=['K0','K1','K2'])\n",
        "right"
      ],
      "execution_count": null,
      "outputs": [
        {
          "output_type": "execute_result",
          "data": {
            "text/html": [
              "<div>\n",
              "<style scoped>\n",
              "    .dataframe tbody tr th:only-of-type {\n",
              "        vertical-align: middle;\n",
              "    }\n",
              "\n",
              "    .dataframe tbody tr th {\n",
              "        vertical-align: top;\n",
              "    }\n",
              "\n",
              "    .dataframe thead th {\n",
              "        text-align: right;\n",
              "    }\n",
              "</style>\n",
              "<table border=\"1\" class=\"dataframe\">\n",
              "  <thead>\n",
              "    <tr style=\"text-align: right;\">\n",
              "      <th></th>\n",
              "      <th>c</th>\n",
              "      <th>d</th>\n",
              "    </tr>\n",
              "  </thead>\n",
              "  <tbody>\n",
              "    <tr>\n",
              "      <th>K0</th>\n",
              "      <td>c0</td>\n",
              "      <td>d0</td>\n",
              "    </tr>\n",
              "    <tr>\n",
              "      <th>K1</th>\n",
              "      <td>c1</td>\n",
              "      <td>d1</td>\n",
              "    </tr>\n",
              "    <tr>\n",
              "      <th>K2</th>\n",
              "      <td>c2</td>\n",
              "      <td>d2</td>\n",
              "    </tr>\n",
              "  </tbody>\n",
              "</table>\n",
              "</div>"
            ],
            "text/plain": [
              "     c   d\n",
              "K0  c0  d0\n",
              "K1  c1  d1\n",
              "K2  c2  d2"
            ]
          },
          "metadata": {
            "tags": []
          },
          "execution_count": 33
        }
      ]
    },
    {
      "cell_type": "code",
      "metadata": {
        "colab": {
          "base_uri": "https://localhost:8080/",
          "height": 142
        },
        "id": "hUY__LjNmHMx",
        "outputId": "bc191734-1c6c-43bb-90fc-7b75465f498f"
      },
      "source": [
        "left.join(right)"
      ],
      "execution_count": null,
      "outputs": [
        {
          "output_type": "execute_result",
          "data": {
            "text/html": [
              "<div>\n",
              "<style scoped>\n",
              "    .dataframe tbody tr th:only-of-type {\n",
              "        vertical-align: middle;\n",
              "    }\n",
              "\n",
              "    .dataframe tbody tr th {\n",
              "        vertical-align: top;\n",
              "    }\n",
              "\n",
              "    .dataframe thead th {\n",
              "        text-align: right;\n",
              "    }\n",
              "</style>\n",
              "<table border=\"1\" class=\"dataframe\">\n",
              "  <thead>\n",
              "    <tr style=\"text-align: right;\">\n",
              "      <th></th>\n",
              "      <th>A</th>\n",
              "      <th>b</th>\n",
              "      <th>c</th>\n",
              "      <th>d</th>\n",
              "    </tr>\n",
              "  </thead>\n",
              "  <tbody>\n",
              "    <tr>\n",
              "      <th>K0</th>\n",
              "      <td>A0</td>\n",
              "      <td>B0</td>\n",
              "      <td>c0</td>\n",
              "      <td>d0</td>\n",
              "    </tr>\n",
              "    <tr>\n",
              "      <th>K1</th>\n",
              "      <td>A1</td>\n",
              "      <td>B1</td>\n",
              "      <td>c1</td>\n",
              "      <td>d1</td>\n",
              "    </tr>\n",
              "    <tr>\n",
              "      <th>K2</th>\n",
              "      <td>A2</td>\n",
              "      <td>B2</td>\n",
              "      <td>c2</td>\n",
              "      <td>d2</td>\n",
              "    </tr>\n",
              "  </tbody>\n",
              "</table>\n",
              "</div>"
            ],
            "text/plain": [
              "     A   b   c   d\n",
              "K0  A0  B0  c0  d0\n",
              "K1  A1  B1  c1  d1\n",
              "K2  A2  B2  c2  d2"
            ]
          },
          "metadata": {
            "tags": []
          },
          "execution_count": 34
        }
      ]
    },
    {
      "cell_type": "code",
      "metadata": {
        "colab": {
          "base_uri": "https://localhost:8080/",
          "height": 142
        },
        "id": "BnaEk-HYmKhh",
        "outputId": "5a96ac6e-c413-4ee6-c8cb-f3dd247de7e8"
      },
      "source": [
        "left.join(right,how='outer')"
      ],
      "execution_count": null,
      "outputs": [
        {
          "output_type": "execute_result",
          "data": {
            "text/html": [
              "<div>\n",
              "<style scoped>\n",
              "    .dataframe tbody tr th:only-of-type {\n",
              "        vertical-align: middle;\n",
              "    }\n",
              "\n",
              "    .dataframe tbody tr th {\n",
              "        vertical-align: top;\n",
              "    }\n",
              "\n",
              "    .dataframe thead th {\n",
              "        text-align: right;\n",
              "    }\n",
              "</style>\n",
              "<table border=\"1\" class=\"dataframe\">\n",
              "  <thead>\n",
              "    <tr style=\"text-align: right;\">\n",
              "      <th></th>\n",
              "      <th>A</th>\n",
              "      <th>b</th>\n",
              "      <th>c</th>\n",
              "      <th>d</th>\n",
              "    </tr>\n",
              "  </thead>\n",
              "  <tbody>\n",
              "    <tr>\n",
              "      <th>K0</th>\n",
              "      <td>A0</td>\n",
              "      <td>B0</td>\n",
              "      <td>c0</td>\n",
              "      <td>d0</td>\n",
              "    </tr>\n",
              "    <tr>\n",
              "      <th>K1</th>\n",
              "      <td>A1</td>\n",
              "      <td>B1</td>\n",
              "      <td>c1</td>\n",
              "      <td>d1</td>\n",
              "    </tr>\n",
              "    <tr>\n",
              "      <th>K2</th>\n",
              "      <td>A2</td>\n",
              "      <td>B2</td>\n",
              "      <td>c2</td>\n",
              "      <td>d2</td>\n",
              "    </tr>\n",
              "  </tbody>\n",
              "</table>\n",
              "</div>"
            ],
            "text/plain": [
              "     A   b   c   d\n",
              "K0  A0  B0  c0  d0\n",
              "K1  A1  B1  c1  d1\n",
              "K2  A2  B2  c2  d2"
            ]
          },
          "metadata": {
            "tags": []
          },
          "execution_count": 35
        }
      ]
    },
    {
      "cell_type": "code",
      "metadata": {
        "colab": {
          "base_uri": "https://localhost:8080/"
        },
        "id": "0hNzIY5omcCJ",
        "outputId": "4f5bc1cc-af66-4978-98d5-2e57055f0d8b"
      },
      "source": [
        "#python program for finding H.C.F of two input numbers\n",
        "def computeHCF(x,y):\n",
        "\n",
        "\n",
        "#choose the smaller number\n",
        "  if x>y:\n",
        "    smaller=y\n",
        "  else:\n",
        "    smaller=x\n",
        "  for i in range(1,smaller+1):\n",
        "    if ((x%i)==0) and ((y%i)==0):\n",
        "      hcf=i\n",
        "  return hcf\n",
        "num1=int(input(\"enter first number\"))\n",
        "num2=int(input(\"enter second number\"))\n",
        "print(\"HCF of\",num1,\"and\",num2,\"is\",computeHCF(num1,num2))"
      ],
      "execution_count": null,
      "outputs": [
        {
          "output_type": "stream",
          "text": [
            "enter first number5\n",
            "enter second number10\n",
            "HCF of 5 and 10 is 5\n"
          ],
          "name": "stdout"
        }
      ]
    },
    {
      "cell_type": "code",
      "metadata": {
        "id": "JJG3njz5o1sM",
        "colab": {
          "base_uri": "https://localhost:8080/"
        },
        "outputId": "7bc02e50-4cb9-4195-b614-93f6757ee71b"
      },
      "source": [
        "computeHCF(5,10)"
      ],
      "execution_count": null,
      "outputs": [
        {
          "output_type": "execute_result",
          "data": {
            "text/plain": [
              "5"
            ]
          },
          "metadata": {
            "tags": []
          },
          "execution_count": 3
        }
      ]
    },
    {
      "cell_type": "markdown",
      "metadata": {
        "id": "E7Ge6-ExTcyv"
      },
      "source": [
        "**python dictionaries**"
      ]
    },
    {
      "cell_type": "code",
      "metadata": {
        "colab": {
          "base_uri": "https://localhost:8080/"
        },
        "id": "RTD5XADCTP6q",
        "outputId": "6fdb0214-2882-45ab-a0d4-7228022e87e8"
      },
      "source": [
        "thisdict={\"brand\":\"ford\",\"model\":\"mustang\",\"year\":1964}\n",
        "print(thisdict)"
      ],
      "execution_count": null,
      "outputs": [
        {
          "output_type": "stream",
          "text": [
            "{'brand': 'ford', 'model': 'mustang', 'year': 1964}\n"
          ],
          "name": "stdout"
        }
      ]
    },
    {
      "cell_type": "code",
      "metadata": {
        "colab": {
          "base_uri": "https://localhost:8080/"
        },
        "id": "jKSrhw3iT4UX",
        "outputId": "a1925964-5fc3-4384-bcde-e63de9b5cbd5"
      },
      "source": [
        "mydict={\"branch\":\"aeronautical engineering\",\"year\":3,\"semester\":5,\"USN\":\"1AY18AE060\"}\n",
        "print(mydict)"
      ],
      "execution_count": null,
      "outputs": [
        {
          "output_type": "stream",
          "text": [
            "{'branch': 'aeronautical engineering', 'year': 3, 'semester': 5, 'USN': '1AY18AE060'}\n"
          ],
          "name": "stdout"
        }
      ]
    },
    {
      "cell_type": "code",
      "metadata": {
        "colab": {
          "base_uri": "https://localhost:8080/"
        },
        "id": "3QnLxoM0Uwwh",
        "outputId": "35fb349f-029f-41f6-ff37-a12ecda520f6"
      },
      "source": [
        "print(mydict[\"USN\"])"
      ],
      "execution_count": null,
      "outputs": [
        {
          "output_type": "stream",
          "text": [
            "1AY18AE060\n"
          ],
          "name": "stdout"
        }
      ]
    },
    {
      "cell_type": "code",
      "metadata": {
        "colab": {
          "base_uri": "https://localhost:8080/"
        },
        "id": "TkK0XNntVClL",
        "outputId": "529a1fbe-3f2c-4d26-bd34-5d19a0446b71"
      },
      "source": [
        "mydict={\"branch\":\"aeronautical engineering\",\"year\":3,\"semester\":5,\"USN\":\"1AY18AE060\",\"year\":5}\n",
        "print(mydict[\"year\"])#if same value is written twice, value that is updated later is shown"
      ],
      "execution_count": null,
      "outputs": [
        {
          "output_type": "stream",
          "text": [
            "5\n"
          ],
          "name": "stdout"
        }
      ]
    },
    {
      "cell_type": "code",
      "metadata": {
        "colab": {
          "base_uri": "https://localhost:8080/"
        },
        "id": "XD_AFTfqVYFl",
        "outputId": "00fa6348-433a-4d79-90fe-dcca24450390"
      },
      "source": [
        "print(len(mydict))"
      ],
      "execution_count": null,
      "outputs": [
        {
          "output_type": "stream",
          "text": [
            "4\n"
          ],
          "name": "stdout"
        }
      ]
    },
    {
      "cell_type": "code",
      "metadata": {
        "colab": {
          "base_uri": "https://localhost:8080/"
        },
        "id": "JE-7WJ5SXIP-",
        "outputId": "cc9fdc3a-eadd-45d1-a8bb-3ca56e625e1b"
      },
      "source": [
        "thisdict={\"brand\":\"ford\",\"model\":\"mustang\",\"country\":\"india\",\"year\":1964,\"colour\":[\"red\",\"white\",\"blue\"]}\n",
        "print(thisdict)"
      ],
      "execution_count": null,
      "outputs": [
        {
          "output_type": "stream",
          "text": [
            "{'brand': 'ford', 'model': 'mustang', 'country': 'india', 'year': 1964, 'colour': ['red', 'white', 'blue']}\n"
          ],
          "name": "stdout"
        }
      ]
    },
    {
      "cell_type": "code",
      "metadata": {
        "colab": {
          "base_uri": "https://localhost:8080/"
        },
        "id": "pfg12YYBYDXh",
        "outputId": "4ab31048-034a-47df-9064-4218a23df91f"
      },
      "source": [
        "print(type(thisdict))"
      ],
      "execution_count": null,
      "outputs": [
        {
          "output_type": "stream",
          "text": [
            "<class 'dict'>\n"
          ],
          "name": "stdout"
        }
      ]
    },
    {
      "cell_type": "code",
      "metadata": {
        "colab": {
          "base_uri": "https://localhost:8080/"
        },
        "id": "lDtaLYPZY0YN",
        "outputId": "37c54355-3c67-4216-9ac4-4c68a161d7ae"
      },
      "source": [
        "thisdict={\"brand\":\"ford\",\"model\":\"mustang\",\"country\":\"india\",\"year\":1964,\"colour\":[\"red\",\"white\",\"blue\"]}\n",
        "thisdict[\"year\"]= 2020\n",
        "print(thisdict)\n",
        "print(len(thisdict[\"colour\"]))"
      ],
      "execution_count": null,
      "outputs": [
        {
          "output_type": "stream",
          "text": [
            "{'brand': 'ford', 'model': 'mustang', 'country': 'india', 'year': 2020, 'colour': ['red', 'white', 'blue']}\n",
            "3\n"
          ],
          "name": "stdout"
        }
      ]
    },
    {
      "cell_type": "code",
      "metadata": {
        "colab": {
          "base_uri": "https://localhost:8080/"
        },
        "id": "5GsQianYa_W3",
        "outputId": "d2aecb4d-2258-4129-cd7a-c5de554697c4"
      },
      "source": [
        "thisdict={\"brand\":\"ford\",\"model\":\"mustang\",\"country\":\"india\",\"year\":2022,\"colour\":[\"red\",\"white\",\"blue\"]}\n",
        "thisdict.update({\"aditya\":\"first owner\"})\n",
        "print(thisdict)"
      ],
      "execution_count": null,
      "outputs": [
        {
          "output_type": "stream",
          "text": [
            "{'brand': 'ford', 'model': 'mustang', 'country': 'india', 'year': 2022, 'colour': ['red', 'white', 'blue'], 'aditya': 'first owner'}\n"
          ],
          "name": "stdout"
        }
      ]
    },
    {
      "cell_type": "code",
      "metadata": {
        "colab": {
          "base_uri": "https://localhost:8080/"
        },
        "id": "e7em_iLPbuh1",
        "outputId": "85cf1418-b614-4111-d106-25bfde88e2ae"
      },
      "source": [
        "thisdict={\"brand\":\"ford\",\"model\":\"mustang\",\"country\":\"india\",\"year\":2022,\"colour\":[\"red\",\"white\",\"blue\"]}\n",
        "thisdict.pop(\"colour\")\n",
        "print(thisdict)"
      ],
      "execution_count": null,
      "outputs": [
        {
          "output_type": "stream",
          "text": [
            "{'brand': 'ford', 'model': 'mustang', 'country': 'india', 'year': 2022}\n"
          ],
          "name": "stdout"
        }
      ]
    },
    {
      "cell_type": "code",
      "metadata": {
        "colab": {
          "base_uri": "https://localhost:8080/"
        },
        "id": "goMpKE6ycK8F",
        "outputId": "741ffe1d-fdc3-4eee-bd22-68b95be8bc4d"
      },
      "source": [
        "thisdict={\"brand\":\"ford\",\"model\":\"mustang\",\"country\":\"india\",\"year\":2022,\"colour\":[\"red\",\"white\",\"blue\"]}\n",
        "del thisdict[\"year\"]\n",
        "print(thisdict)"
      ],
      "execution_count": null,
      "outputs": [
        {
          "output_type": "stream",
          "text": [
            "{'brand': 'ford', 'model': 'mustang', 'country': 'india', 'colour': ['red', 'white', 'blue']}\n"
          ],
          "name": "stdout"
        }
      ]
    },
    {
      "cell_type": "code",
      "metadata": {
        "colab": {
          "base_uri": "https://localhost:8080/"
        },
        "id": "16oDYZ1uchBa",
        "outputId": "ac1b2107-670e-4245-f32c-f929a6ad11fd"
      },
      "source": [
        "thisdict={\"brand\":\"ford\",\"model\":\"mustang\",\"country\":\"india\",\"year\":2022,\"colour\":[\"red\",\"white\",\"blue\"]}\n",
        "thisdict.clear()\n",
        "print(thisdict)"
      ],
      "execution_count": null,
      "outputs": [
        {
          "output_type": "stream",
          "text": [
            "{}\n"
          ],
          "name": "stdout"
        }
      ]
    },
    {
      "cell_type": "code",
      "metadata": {
        "colab": {
          "base_uri": "https://localhost:8080/"
        },
        "id": "gJsbLxRhc1uJ",
        "outputId": "586ca093-93dc-4fd3-ef08-f376f53ae022"
      },
      "source": [
        "thisdict={\"brand\":\"ford\",\"model\":\"mustang\",\"country\":\"india\",\"year\":2022,\"colour\":[\"red\",\"white\",\"blue\"]}\n",
        "newdict=thisdict.copy()\n",
        "print(newdict)"
      ],
      "execution_count": null,
      "outputs": [
        {
          "output_type": "stream",
          "text": [
            "{'brand': 'ford', 'model': 'mustang', 'country': 'india', 'year': 2022, 'colour': ['red', 'white', 'blue']}\n"
          ],
          "name": "stdout"
        }
      ]
    },
    {
      "cell_type": "code",
      "metadata": {
        "colab": {
          "base_uri": "https://localhost:8080/"
        },
        "id": "GaVizhOpdRnR",
        "outputId": "dba5cea6-829c-4a2c-cd0d-4bd470e94d0b"
      },
      "source": [
        "thisdict={\"child1\":{\"name\":\"mansi\",\"year\":2002},\"child2\":{\"name\":\"vikas\",\"year\":1985},\"child3\":{\"name\":\"payal\",\"year\":2007}}\n",
        "print(thisdict)"
      ],
      "execution_count": null,
      "outputs": [
        {
          "output_type": "stream",
          "text": [
            "{'child1': {'name': 'mansi', 'year': 2002}, 'child2': {'name': 'vikas', 'year': 1985}, 'child3': {'name': 'payal', 'year': 2007}}\n"
          ],
          "name": "stdout"
        }
      ]
    },
    {
      "cell_type": "markdown",
      "metadata": {
        "id": "6tWIGZRfe12I"
      },
      "source": [
        "dictionary methods"
      ]
    },
    {
      "cell_type": "markdown",
      "metadata": {
        "id": "Q5iV51uue5Xt"
      },
      "source": [
        "**1)clear() , 2)copy() , 3)fromkey() , 4)get() , 5)items() , 6)keys() , 7)pop() , 8)popitem() , 9)setdefault() , 10)update() , 11)values()**"
      ]
    },
    {
      "cell_type": "code",
      "metadata": {
        "colab": {
          "base_uri": "https://localhost:8080/"
        },
        "id": "V-e-WwxTecAl",
        "outputId": "5207d147-76f1-4483-9bf8-d99a59976d2b"
      },
      "source": [
        "a=33\n",
        "b=200\n",
        "if b>a :\n",
        "  print(\"b is greater\")\n"
      ],
      "execution_count": null,
      "outputs": [
        {
          "output_type": "stream",
          "text": [
            "b is greater\n"
          ],
          "name": "stdout"
        }
      ]
    },
    {
      "cell_type": "code",
      "metadata": {
        "colab": {
          "base_uri": "https://localhost:8080/"
        },
        "id": "vxS8MckXgEbd",
        "outputId": "890acd3f-8653-4e17-ca35-d6c1e6c9818a"
      },
      "source": [
        "a=33\n",
        "b=33\n",
        "if b>a :\n",
        "  print(\"b is greater\")\n",
        "elif a==b :\n",
        "  print(\"a and b are equal\")\n"
      ],
      "execution_count": null,
      "outputs": [
        {
          "output_type": "stream",
          "text": [
            "a and b are equal\n"
          ],
          "name": "stdout"
        }
      ]
    },
    {
      "cell_type": "code",
      "metadata": {
        "colab": {
          "base_uri": "https://localhost:8080/"
        },
        "id": "EAlMQiAqgcLU",
        "outputId": "2f1be5c0-ef10-475e-cca0-9262049cb586"
      },
      "source": [
        "a=333\n",
        "b=33\n",
        "if b>a :\n",
        "  print(\"b is greater\")\n",
        "elif a==b :\n",
        "  print(\"a and b are equal\")\n",
        "else :\n",
        "  print(\"a is greater than b\")"
      ],
      "execution_count": null,
      "outputs": [
        {
          "output_type": "stream",
          "text": [
            "a is greater than b\n"
          ],
          "name": "stdout"
        }
      ]
    },
    {
      "cell_type": "code",
      "metadata": {
        "colab": {
          "base_uri": "https://localhost:8080/"
        },
        "id": "pluAGApVgsa4",
        "outputId": "c25389d7-908e-4f8e-f0e2-db7007a22268"
      },
      "source": [
        "a=333\n",
        "b=33\n",
        "if b>a :\n",
        "  print(\"b is greater\")\n",
        "else :\n",
        "  print(\"a is greater than b\")"
      ],
      "execution_count": null,
      "outputs": [
        {
          "output_type": "stream",
          "text": [
            "a is greater than b\n"
          ],
          "name": "stdout"
        }
      ]
    },
    {
      "cell_type": "code",
      "metadata": {
        "colab": {
          "base_uri": "https://localhost:8080/"
        },
        "id": "64Pb8hD-g89j",
        "outputId": "29cca9f7-fb71-41f6-fe9d-0e4fcc38249c"
      },
      "source": [
        "a=333\n",
        "b=3333\n",
        "if b>a : print(\"b is greater\")"
      ],
      "execution_count": null,
      "outputs": [
        {
          "output_type": "stream",
          "text": [
            "b is greater\n"
          ],
          "name": "stdout"
        }
      ]
    },
    {
      "cell_type": "code",
      "metadata": {
        "colab": {
          "base_uri": "https://localhost:8080/"
        },
        "id": "lqHdxx01hNun",
        "outputId": "9d812532-1fc9-410d-fb1a-4a0776e5283f"
      },
      "source": [
        "a=333\n",
        "b=33\n",
        "c=444\n",
        "if a>b and c>a :\n",
        "  print(\"both conditions are true.\",a,\"and\",c,\"are greater than\",b)"
      ],
      "execution_count": null,
      "outputs": [
        {
          "output_type": "stream",
          "text": [
            "both conditions are true. 333 and 444 are greater than 33\n"
          ],
          "name": "stdout"
        }
      ]
    },
    {
      "cell_type": "code",
      "metadata": {
        "colab": {
          "base_uri": "https://localhost:8080/"
        },
        "id": "cIMQMNQ-hxZO",
        "outputId": "c5f16c6e-cf24-4ce8-a7e6-c356be2e58fd"
      },
      "source": [
        "a=333\n",
        "b=33\n",
        "c=444\n",
        "if b>a or c>a :\n",
        "  print(\"at least one of the conditions is true\")"
      ],
      "execution_count": null,
      "outputs": [
        {
          "output_type": "stream",
          "text": [
            "at least one of the conditions is true\n"
          ],
          "name": "stdout"
        }
      ]
    },
    {
      "cell_type": "markdown",
      "metadata": {
        "id": "Jvf_bZGIiHxV"
      },
      "source": [
        "***nested if***"
      ]
    },
    {
      "cell_type": "code",
      "metadata": {
        "colab": {
          "base_uri": "https://localhost:8080/"
        },
        "id": "dYmrPWsiiCv6",
        "outputId": "f94db710-4fce-4913-981b-8f115f22cb48"
      },
      "source": [
        "x=42\n",
        "if x>10:\n",
        "  print(\"value is greater than 10\")\n",
        "  if x>20:\n",
        "    print(\"value is greater than 20\")\n",
        "else:\n",
        "  print(\"value is less than 10\")"
      ],
      "execution_count": null,
      "outputs": [
        {
          "output_type": "stream",
          "text": [
            "value is greater than 10\n",
            "value is greater than 20\n"
          ],
          "name": "stdout"
        }
      ]
    },
    {
      "cell_type": "markdown",
      "metadata": {
        "id": "W5yV4qH5jNKM"
      },
      "source": [
        "***while loop***"
      ]
    },
    {
      "cell_type": "code",
      "metadata": {
        "colab": {
          "base_uri": "https://localhost:8080/"
        },
        "id": "WgQLrjepi2Vy",
        "outputId": "860be02b-e2d1-43f2-8fc8-4b84751e8637"
      },
      "source": [
        "i=1\n",
        "while i<6 :\n",
        "  print(i)\n",
        "  i+=1\n"
      ],
      "execution_count": null,
      "outputs": [
        {
          "output_type": "stream",
          "text": [
            "1\n",
            "2\n",
            "3\n",
            "4\n",
            "5\n"
          ],
          "name": "stdout"
        }
      ]
    },
    {
      "cell_type": "code",
      "metadata": {
        "colab": {
          "base_uri": "https://localhost:8080/"
        },
        "id": "7qpTkGH1jcRV",
        "outputId": "4d2ff5ce-92a2-4511-d84b-9ca2fe3e4d19"
      },
      "source": [
        "i=1\n",
        "while i<6 :\n",
        "  print(i)\n",
        "  if i==3:\n",
        "    break\n",
        "  i+=1\n"
      ],
      "execution_count": null,
      "outputs": [
        {
          "output_type": "stream",
          "text": [
            "1\n",
            "2\n",
            "3\n"
          ],
          "name": "stdout"
        }
      ]
    },
    {
      "cell_type": "code",
      "metadata": {
        "colab": {
          "base_uri": "https://localhost:8080/"
        },
        "id": "MQbre4pFjs9s",
        "outputId": "f255c79a-5402-40c4-85d5-00992c7b3075"
      },
      "source": [
        "i=1\n",
        "while i<6 :\n",
        "  print(i)\n",
        "  i+=1\n",
        "else:\n",
        "  print(\"i is no longer less than 6\")"
      ],
      "execution_count": null,
      "outputs": [
        {
          "output_type": "stream",
          "text": [
            "1\n",
            "2\n",
            "3\n",
            "4\n",
            "5\n",
            "i is no longer less than 6\n"
          ],
          "name": "stdout"
        }
      ]
    },
    {
      "cell_type": "markdown",
      "metadata": {
        "id": "gzWLlqEmkiF5"
      },
      "source": [
        "***python program to find the L.C.M of 2 input numbers***"
      ]
    },
    {
      "cell_type": "code",
      "metadata": {
        "colab": {
          "base_uri": "https://localhost:8080/"
        },
        "id": "PbKB_u_7kO3I",
        "outputId": "61408dbd-d2b4-44d2-eb2c-f9b2a14ea1b5"
      },
      "source": [
        "def lcm(x,y):\n",
        "  if x>y:\n",
        "    greater = x\n",
        "  else:\n",
        "    greater=y\n",
        "  while(True):\n",
        "    if ((greater%x==0) and (greater%y==0)):\n",
        "      lcm=greater\n",
        "      break\n",
        "    greater+=1\n",
        "  return lcm\n",
        "num1=int(input(\"enter first number:\"))\n",
        "num2=int(input(\"enter second number:\"))\n",
        "print(\"lcm of\",num1,\"and\",num2,\"is\",lcm(num1,num2))"
      ],
      "execution_count": null,
      "outputs": [
        {
          "output_type": "stream",
          "text": [
            "enter first number:1234\n",
            "enter second number:5678\n",
            "lcm of 1234 and 5678 is 3503326\n"
          ],
          "name": "stdout"
        }
      ]
    },
    {
      "cell_type": "markdown",
      "metadata": {
        "id": "cxN_YjcatyqM"
      },
      "source": [
        "starting with numpy"
      ]
    },
    {
      "cell_type": "code",
      "metadata": {
        "id": "0vq7P9bTmMeM",
        "colab": {
          "base_uri": "https://localhost:8080/"
        },
        "outputId": "aeb0ef9d-1a3c-42ff-a5c0-13f8e5380d6d"
      },
      "source": [
        "import numpy as np\n",
        "arr = np.array([[1,2,3,4,5],[6,7,8,9,10]])\n",
        "print(arr)\n",
        "print(type(arr))"
      ],
      "execution_count": null,
      "outputs": [
        {
          "output_type": "stream",
          "text": [
            "[[ 1  2  3  4  5]\n",
            " [ 6  7  8  9 10]]\n",
            "<class 'numpy.ndarray'>\n"
          ],
          "name": "stdout"
        }
      ]
    },
    {
      "cell_type": "code",
      "metadata": {
        "colab": {
          "base_uri": "https://localhost:8080/"
        },
        "id": "mWq1ZWmxuGr0",
        "outputId": "f82eb5d9-90ee-48ed-bfdc-e7d5241c1091"
      },
      "source": [
        "import numpy as np\n",
        "arr = np.array([[[1,2,3],[4,5,6]],[[6,7,8],[9,10,11]]])\n",
        "print(arr)\n",
        "print(type(arr))"
      ],
      "execution_count": null,
      "outputs": [
        {
          "output_type": "stream",
          "text": [
            "[[[ 1  2  3]\n",
            "  [ 4  5  6]]\n",
            "\n",
            " [[ 6  7  8]\n",
            "  [ 9 10 11]]]\n",
            "<class 'numpy.ndarray'>\n"
          ],
          "name": "stdout"
        }
      ]
    },
    {
      "cell_type": "code",
      "metadata": {
        "colab": {
          "base_uri": "https://localhost:8080/"
        },
        "id": "Uwz2lQdAuZaf",
        "outputId": "eed714bf-0677-42f9-af47-1d6d5fd1d1ee"
      },
      "source": [
        "import numpy as np\n",
        "a=np.array(456)\n",
        "b=np.array([1,2,3,4,5,6,7])\n",
        "c= np.array([[1,2,3,4,5],[6,7,8,9,10]])\n",
        "d = np.array([[[1,2,3],[4,5,6]],[[6,7,8],[9,10,11]]])\n",
        "print(a.ndim)\n",
        "print(b.ndim)\n",
        "print(c.ndim)\n",
        "print(d.ndim)"
      ],
      "execution_count": null,
      "outputs": [
        {
          "output_type": "stream",
          "text": [
            "0\n",
            "1\n",
            "2\n",
            "3\n"
          ],
          "name": "stdout"
        }
      ]
    },
    {
      "cell_type": "code",
      "metadata": {
        "colab": {
          "base_uri": "https://localhost:8080/"
        },
        "id": "8S-k5Ls5vrTP",
        "outputId": "a5e09e6e-025e-42f6-cd3b-5edfda740156"
      },
      "source": [
        "import numpy as np\n",
        "arr=np.array([1,2,3,4,5,6,7])\n",
        "print(arr[2]+arr[4])"
      ],
      "execution_count": null,
      "outputs": [
        {
          "output_type": "stream",
          "text": [
            "8\n"
          ],
          "name": "stdout"
        }
      ]
    },
    {
      "cell_type": "code",
      "metadata": {
        "colab": {
          "base_uri": "https://localhost:8080/"
        },
        "id": "U_F7ncjWwYD0",
        "outputId": "599416be-c93d-4937-ed85-0cef220fd828"
      },
      "source": [
        "import numpy as np\n",
        "c=np.array([[[1,2,3],[4,5,6]],[[6,7,8],[9,10,11]]])\n",
        "print(c)\n",
        "print('3rd element on 2nd array of 1st array:',c[0,1,2])"
      ],
      "execution_count": null,
      "outputs": [
        {
          "output_type": "stream",
          "text": [
            "[[[ 1  2  3]\n",
            "  [ 4  5  6]]\n",
            "\n",
            " [[ 6  7  8]\n",
            "  [ 9 10 11]]]\n",
            "3rd element on 2nd array of 1st array: 6\n"
          ],
          "name": "stdout"
        }
      ]
    },
    {
      "cell_type": "code",
      "metadata": {
        "colab": {
          "base_uri": "https://localhost:8080/"
        },
        "id": "74kAat-XxIGW",
        "outputId": "1c390968-5cbf-4060-c02f-a2a60b3766b3"
      },
      "source": [
        "import numpy as np\n",
        "c=np.array([[1,2,3,4,5],[6,7,8,9,10]])\n",
        "print('last element of 2nd dim:', c[1,-1])"
      ],
      "execution_count": null,
      "outputs": [
        {
          "output_type": "stream",
          "text": [
            "last element of 2nd dim: 10\n"
          ],
          "name": "stdout"
        }
      ]
    },
    {
      "cell_type": "code",
      "metadata": {
        "colab": {
          "base_uri": "https://localhost:8080/"
        },
        "id": "Fyg1_tXgy4-8",
        "outputId": "d1c91aea-ac06-451f-d656-0aadc2df03a6"
      },
      "source": [
        "import numpy as np\n",
        "c=np.array([1,2,3,4,5,6,7,8,9,10])\n",
        "print(c[1:6])\n",
        "print(c[1:5])"
      ],
      "execution_count": null,
      "outputs": [
        {
          "output_type": "stream",
          "text": [
            "[2 3 4 5 6]\n",
            "[2 3 4 5]\n"
          ],
          "name": "stdout"
        }
      ]
    },
    {
      "cell_type": "code",
      "metadata": {
        "colab": {
          "base_uri": "https://localhost:8080/"
        },
        "id": "DbAlkBp1zPkB",
        "outputId": "bde20caa-be56-4c9a-8a36-49dd7d7bd8a0"
      },
      "source": [
        "import numpy as np\n",
        "c=np.array([1,2,3,4,5,6,7,8,9,10])\n",
        "print(c[5:])"
      ],
      "execution_count": null,
      "outputs": [
        {
          "output_type": "stream",
          "text": [
            "[ 6  7  8  9 10]\n"
          ],
          "name": "stdout"
        }
      ]
    },
    {
      "cell_type": "code",
      "metadata": {
        "colab": {
          "base_uri": "https://localhost:8080/"
        },
        "id": "ETN0C3MHzqka",
        "outputId": "65164862-9825-4b3f-b514-9f0b4de04a60"
      },
      "source": [
        "import numpy as np\n",
        "c=np.array([1,2,3,4,5,6,7,8,9,10])\n",
        "print(c[:8])"
      ],
      "execution_count": null,
      "outputs": [
        {
          "output_type": "stream",
          "text": [
            "[1 2 3 4 5 6 7 8]\n"
          ],
          "name": "stdout"
        }
      ]
    },
    {
      "cell_type": "code",
      "metadata": {
        "colab": {
          "base_uri": "https://localhost:8080/"
        },
        "id": "gezamqpiz0uf",
        "outputId": "cef3deca-053e-4d8d-d526-80c64a23a0a2"
      },
      "source": [
        "import numpy as np\n",
        "c=np.array([1,2,3,4,5,6,7,8,9,10])\n",
        "print(c[1:-2])"
      ],
      "execution_count": null,
      "outputs": [
        {
          "output_type": "stream",
          "text": [
            "[2 3 4 5 6 7 8]\n"
          ],
          "name": "stdout"
        }
      ]
    },
    {
      "cell_type": "code",
      "metadata": {
        "colab": {
          "base_uri": "https://localhost:8080/"
        },
        "id": "Ko2PWDS7z5QC",
        "outputId": "73c60a28-cf77-4482-87b7-bd59ca3f8138"
      },
      "source": [
        "import numpy as np\n",
        "c=np.array([1,2,3,4,5,6,7,8,9,10])\n",
        "print(c[-3:-1])"
      ],
      "execution_count": null,
      "outputs": [
        {
          "output_type": "stream",
          "text": [
            "[8 9]\n"
          ],
          "name": "stdout"
        }
      ]
    },
    {
      "cell_type": "code",
      "metadata": {
        "colab": {
          "base_uri": "https://localhost:8080/"
        },
        "id": "XdoPP0Kiz9ni",
        "outputId": "6cf01e67-508c-445f-b5d8-faa6cb7c485a"
      },
      "source": [
        "import numpy as np\n",
        "c=np.array([1,2,3,4,5,6,7,8,9,10])\n",
        "print(c[1:5:3])"
      ],
      "execution_count": null,
      "outputs": [
        {
          "output_type": "stream",
          "text": [
            "[2 5]\n"
          ],
          "name": "stdout"
        }
      ]
    },
    {
      "cell_type": "code",
      "metadata": {
        "colab": {
          "base_uri": "https://localhost:8080/"
        },
        "id": "maPX5Xv00Rtj",
        "outputId": "249ce31a-2f76-47b5-8750-fa34bd36451b"
      },
      "source": [
        "import numpy as np\n",
        "c=np.array([1,2,3,4,5,6,7,8,9,10])\n",
        "print(c[1:5:2])"
      ],
      "execution_count": null,
      "outputs": [
        {
          "output_type": "stream",
          "text": [
            "[2 4]\n"
          ],
          "name": "stdout"
        }
      ]
    },
    {
      "cell_type": "code",
      "metadata": {
        "colab": {
          "base_uri": "https://localhost:8080/"
        },
        "id": "qCGGifN10abo",
        "outputId": "4d50d186-e285-4984-d782-ff4dc3817025"
      },
      "source": [
        "import numpy as np\n",
        "c=np.array([1,2,3,4,5,6,7,8,9,10])\n",
        "print(c[::2])"
      ],
      "execution_count": null,
      "outputs": [
        {
          "output_type": "stream",
          "text": [
            "[1 3 5 7 9]\n"
          ],
          "name": "stdout"
        }
      ]
    },
    {
      "cell_type": "code",
      "metadata": {
        "colab": {
          "base_uri": "https://localhost:8080/"
        },
        "id": "LI3wOeV2006U",
        "outputId": "6b848022-c20c-4708-fa9e-b001b1ec799a"
      },
      "source": [
        "import numpy as np\n",
        "c=np.array([[1,2,3,4,5],[6,7,8,9,10]])\n",
        "print(c[0:4,0:3])"
      ],
      "execution_count": null,
      "outputs": [
        {
          "output_type": "stream",
          "text": [
            "[[1 2 3]\n",
            " [6 7 8]]\n"
          ],
          "name": "stdout"
        }
      ]
    },
    {
      "cell_type": "code",
      "metadata": {
        "colab": {
          "base_uri": "https://localhost:8080/"
        },
        "id": "ZI5I8NNy1dsb",
        "outputId": "b12601e7-3a16-402b-9760-6b88d591ee67"
      },
      "source": [
        "import numpy as np\n",
        "c=np.array([1,2,3,4,5,6,7,8,9,10])\n",
        "print(c.dtype)"
      ],
      "execution_count": null,
      "outputs": [
        {
          "output_type": "stream",
          "text": [
            "int64\n"
          ],
          "name": "stdout"
        }
      ]
    },
    {
      "cell_type": "code",
      "metadata": {
        "colab": {
          "base_uri": "https://localhost:8080/"
        },
        "id": "7VDLb47o2X8x",
        "outputId": "eb0d6c3b-bdc5-4e03-98ec-14f5052ef064"
      },
      "source": [
        "import numpy as np\n",
        "c=np.array(['madhu','sai','mansi','payal','ashwini','rahul'])\n",
        "print(c.dtype)"
      ],
      "execution_count": null,
      "outputs": [
        {
          "output_type": "stream",
          "text": [
            "<U7\n"
          ],
          "name": "stdout"
        }
      ]
    },
    {
      "cell_type": "code",
      "metadata": {
        "colab": {
          "base_uri": "https://localhost:8080/"
        },
        "id": "llkDWy8_2sGw",
        "outputId": "bc4b1568-c511-457a-86ba-bb8d8ac48619"
      },
      "source": [
        "import numpy as np\n",
        "c=np.array([1.23,2.34,3.44,4.44])\n",
        "newarray=c.astype(int)\n",
        "print(newarray)\n",
        "print(newarray.dtype)"
      ],
      "execution_count": null,
      "outputs": [
        {
          "output_type": "stream",
          "text": [
            "[1 2 3 4]\n",
            "int64\n"
          ],
          "name": "stdout"
        }
      ]
    },
    {
      "cell_type": "code",
      "metadata": {
        "colab": {
          "base_uri": "https://localhost:8080/"
        },
        "id": "qwg9d-J651XM",
        "outputId": "a0504cfe-1d03-4122-d226-e002ad157ead"
      },
      "source": [
        "import numpy as np\n",
        "c=np.array([1.23,2.34,3.44,4.44])\n",
        "newarray=c.astype(bool)\n",
        "print(newarray)\n",
        "print(newarray.dtype)"
      ],
      "execution_count": null,
      "outputs": [
        {
          "output_type": "stream",
          "text": [
            "[ True  True  True  True]\n",
            "bool\n"
          ],
          "name": "stdout"
        }
      ]
    },
    {
      "cell_type": "code",
      "metadata": {
        "colab": {
          "base_uri": "https://localhost:8080/"
        },
        "id": "mBvEFBdf56d3",
        "outputId": "3bd7b61f-9d66-4c0e-b2a8-1e5d743cedb8"
      },
      "source": [
        "import numpy as np\n",
        "c=np.array([1.23,2.34,3.44,4.44])\n",
        "x=c.copy()\n",
        "print(x)\n",
        "print(x.dtype)"
      ],
      "execution_count": null,
      "outputs": [
        {
          "output_type": "stream",
          "text": [
            "[1.23 2.34 3.44 4.44]\n",
            "float64\n"
          ],
          "name": "stdout"
        }
      ]
    },
    {
      "cell_type": "code",
      "metadata": {
        "colab": {
          "base_uri": "https://localhost:8080/"
        },
        "id": "L2XoDs6N6Hrh",
        "outputId": "a8691d4f-38cf-4a11-d463-01080e470b61"
      },
      "source": [
        "import numpy as np\n",
        "c=np.array([1.23,2.34,3.44,4.44])\n",
        "x=c.view()\n",
        "x[0]=34\n",
        "print(x)\n",
        "print(x.dtype)"
      ],
      "execution_count": null,
      "outputs": [
        {
          "output_type": "stream",
          "text": [
            "[34.    2.34  3.44  4.44]\n",
            "float64\n"
          ],
          "name": "stdout"
        }
      ]
    },
    {
      "cell_type": "code",
      "metadata": {
        "colab": {
          "base_uri": "https://localhost:8080/"
        },
        "id": "0F6Jk90u67dK",
        "outputId": "6d58f542-53f6-4262-da1b-b72135046978"
      },
      "source": [
        "import numpy as np\n",
        "c=np.array([1.23,2.34,3.44,4.44])\n",
        "x=c.view()#print the value of base attribute at the end to check if ana rray owns its data or not\n",
        "y=c.copy()\n",
        "print(x)\n",
        "print(y)\n",
        "print(x.base)\n",
        "print(y.base)\n",
        "print(x.dtype)"
      ],
      "execution_count": null,
      "outputs": [
        {
          "output_type": "stream",
          "text": [
            "[1.23 2.34 3.44 4.44]\n",
            "[1.23 2.34 3.44 4.44]\n",
            "[1.23 2.34 3.44 4.44]\n",
            "None\n",
            "float64\n"
          ],
          "name": "stdout"
        }
      ]
    },
    {
      "cell_type": "code",
      "metadata": {
        "colab": {
          "base_uri": "https://localhost:8080/"
        },
        "id": "LiKU7dtA7gX3",
        "outputId": "f0d8c7a4-d66b-4aea-bbaf-4c84973ce566"
      },
      "source": [
        "import numpy as np\n",
        "c=np.array([1.23,2.34,3.44,4.44])\n",
        "y=np.array([[1,2,3,4,5],[6,7,8,9,10,]])\n",
        "print(c.shape)\n",
        "print(y.shape)"
      ],
      "execution_count": null,
      "outputs": [
        {
          "output_type": "stream",
          "text": [
            "(4,)\n",
            "(2, 5)\n"
          ],
          "name": "stdout"
        }
      ]
    },
    {
      "cell_type": "code",
      "metadata": {
        "colab": {
          "base_uri": "https://localhost:8080/"
        },
        "id": "NCsvdP-B8TBs",
        "outputId": "70ba35ed-7907-4d91-a9f7-3824a498ac36"
      },
      "source": [
        "import numpy as np\n",
        "c=np.array([1,2,3,4,5,6,7,8,9,10,11,12])\n",
        "newarray=c.reshape(4,3)\n",
        "print(c)\n",
        "print(newarray)"
      ],
      "execution_count": null,
      "outputs": [
        {
          "output_type": "stream",
          "text": [
            "[ 1  2  3  4  5  6  7  8  9 10 11 12]\n",
            "[[ 1  2  3]\n",
            " [ 4  5  6]\n",
            " [ 7  8  9]\n",
            " [10 11 12]]\n"
          ],
          "name": "stdout"
        }
      ]
    },
    {
      "cell_type": "code",
      "metadata": {
        "colab": {
          "base_uri": "https://localhost:8080/"
        },
        "id": "uLro1rXc811f",
        "outputId": "deaffe12-046d-49a5-f2d5-b1cd0d508faf"
      },
      "source": [
        "import numpy as np\n",
        "c=np.array([1,2,3,4,5,6,7,8,9,10,11,12])\n",
        "newarray=c.reshape(2,3,2)\n",
        "print(c)\n",
        "print(newarray)"
      ],
      "execution_count": null,
      "outputs": [
        {
          "output_type": "stream",
          "text": [
            "[ 1  2  3  4  5  6  7  8  9 10 11 12]\n",
            "[[[ 1  2]\n",
            "  [ 3  4]\n",
            "  [ 5  6]]\n",
            "\n",
            " [[ 7  8]\n",
            "  [ 9 10]\n",
            "  [11 12]]]\n"
          ],
          "name": "stdout"
        }
      ]
    },
    {
      "cell_type": "code",
      "metadata": {
        "id": "wxg28Swp9sml",
        "colab": {
          "base_uri": "https://localhost:8080/"
        },
        "outputId": "9909461b-173c-4a38-8eef-9a0346d4e70f"
      },
      "source": [
        "import numpy as np\n",
        "arr=np.array([[1,2,3],[4,5,6]])\n",
        "newarray=arr.reshape(-1)\n",
        "print(newarray)"
      ],
      "execution_count": null,
      "outputs": [
        {
          "output_type": "stream",
          "text": [
            "[1 2 3 4 5 6]\n"
          ],
          "name": "stdout"
        }
      ]
    },
    {
      "cell_type": "code",
      "metadata": {
        "colab": {
          "base_uri": "https://localhost:8080/"
        },
        "id": "QIqW866st-LJ",
        "outputId": "d8cf2af0-7bdf-4918-dd7a-7df429b0581e"
      },
      "source": [
        "import numpy as np\n",
        "arr1=np.array([1,2,3])\n",
        "arr2=np.array([4,5,6])\n",
        "newarray=np.concatenate((arr1,arr2))\n",
        "print(arr1)\n",
        "print(arr2)\n",
        "print(newarray)"
      ],
      "execution_count": null,
      "outputs": [
        {
          "output_type": "stream",
          "text": [
            "[1 2 3]\n",
            "[4 5 6]\n",
            "[1 2 3 4 5 6]\n"
          ],
          "name": "stdout"
        }
      ]
    },
    {
      "cell_type": "code",
      "metadata": {
        "colab": {
          "base_uri": "https://localhost:8080/"
        },
        "id": "npuQjcnXu3le",
        "outputId": "f7d8118c-43fc-4eff-cfcb-3c0c75caea89"
      },
      "source": [
        "import numpy as np\n",
        "arr1=np.array([1,2,3])\n",
        "arr2=np.array([4,5,6])\n",
        "newarray=np.stack((arr1,arr2),axis=0)\n",
        "print(arr1)\n",
        "print(arr2)\n",
        "print(newarray)"
      ],
      "execution_count": null,
      "outputs": [
        {
          "output_type": "stream",
          "text": [
            "[1 2 3]\n",
            "[4 5 6]\n",
            "[[1 2 3]\n",
            " [4 5 6]]\n"
          ],
          "name": "stdout"
        }
      ]
    },
    {
      "cell_type": "code",
      "metadata": {
        "colab": {
          "base_uri": "https://localhost:8080/"
        },
        "id": "24oL3a__v2Hf",
        "outputId": "d7e500ed-760a-43c8-da9d-b8bb865a8ad8"
      },
      "source": [
        "import numpy as np\n",
        "arr1=np.array([1,2,3])\n",
        "arr2=np.array([4,5,6])\n",
        "newarray=np.stack((arr1,arr2),axis=1)\n",
        "print(arr1)\n",
        "print(arr2)\n",
        "print(newarray)"
      ],
      "execution_count": null,
      "outputs": [
        {
          "output_type": "stream",
          "text": [
            "[1 2 3]\n",
            "[4 5 6]\n",
            "[[1 4]\n",
            " [2 5]\n",
            " [3 6]]\n"
          ],
          "name": "stdout"
        }
      ]
    },
    {
      "cell_type": "code",
      "metadata": {
        "colab": {
          "base_uri": "https://localhost:8080/"
        },
        "id": "3HXuS1WZwDsy",
        "outputId": "f2fe0a3b-7108-4ef2-9c8f-e3bb652f337a"
      },
      "source": [
        "import numpy as np\n",
        "arr1=np.array([1,2,3])\n",
        "arr2=np.array([4,5,6])\n",
        "newarray=np.hstack((arr1,arr2))\n",
        "print(arr1)\n",
        "print(arr2)\n",
        "print(newarray)"
      ],
      "execution_count": null,
      "outputs": [
        {
          "output_type": "stream",
          "text": [
            "[1 2 3]\n",
            "[4 5 6]\n",
            "[1 2 3 4 5 6]\n"
          ],
          "name": "stdout"
        }
      ]
    },
    {
      "cell_type": "code",
      "metadata": {
        "colab": {
          "base_uri": "https://localhost:8080/"
        },
        "id": "7hOkdQLxwSQe",
        "outputId": "13e7ebae-3c9c-4abe-90f8-0c0008b887d2"
      },
      "source": [
        "import numpy as np\n",
        "arr1=np.array([1,2,3])\n",
        "arr2=np.array([4,5,6])\n",
        "newarray=np.vstack((arr1,arr2))\n",
        "print(arr1)\n",
        "print(arr2)\n",
        "print(newarray)"
      ],
      "execution_count": null,
      "outputs": [
        {
          "output_type": "stream",
          "text": [
            "[1 2 3]\n",
            "[4 5 6]\n",
            "[[1 2 3]\n",
            " [4 5 6]]\n"
          ],
          "name": "stdout"
        }
      ]
    },
    {
      "cell_type": "code",
      "metadata": {
        "colab": {
          "base_uri": "https://localhost:8080/"
        },
        "id": "CWxemFxvwcwv",
        "outputId": "ca2ecee1-f9d8-4508-d577-b35e2f821873"
      },
      "source": [
        "import numpy as np\n",
        "arr1=np.array([1,2,3])\n",
        "arr2=np.array([4,5,6])\n",
        "newarray=np.dstack((arr1,arr2))\n",
        "print(newarray)"
      ],
      "execution_count": null,
      "outputs": [
        {
          "output_type": "stream",
          "text": [
            "[[[1 4]\n",
            "  [2 5]\n",
            "  [3 6]]]\n"
          ],
          "name": "stdout"
        }
      ]
    },
    {
      "cell_type": "markdown",
      "metadata": {
        "id": "ZnuJ8SRrw4HG"
      },
      "source": [
        "***split the array***"
      ]
    },
    {
      "cell_type": "code",
      "metadata": {
        "colab": {
          "base_uri": "https://localhost:8080/"
        },
        "id": "zR-_FaY-wtDm",
        "outputId": "43c98b48-391d-4ad3-d37d-7413d7515a8d"
      },
      "source": [
        "import numpy as np\n",
        "arr1=np.array([1,2,3,4,5,6])\n",
        "newarray=np.array_split(arr1,3)\n",
        "print(arr1)\n",
        "print(newarray)"
      ],
      "execution_count": null,
      "outputs": [
        {
          "output_type": "stream",
          "text": [
            "[1 2 3 4 5 6]\n",
            "[array([1, 2]), array([3, 4]), array([5, 6])]\n"
          ],
          "name": "stdout"
        }
      ]
    },
    {
      "cell_type": "code",
      "metadata": {
        "colab": {
          "base_uri": "https://localhost:8080/"
        },
        "id": "JcfFLTrixS_x",
        "outputId": "1af52ee1-5e88-47b1-bcec-e9e5519aee3e"
      },
      "source": [
        "import numpy as np\n",
        "arr1=np.array([1,2,3,4,5,6])\n",
        "newarray=np.array_split(arr1,4)\n",
        "print(arr1)\n",
        "print(newarray)"
      ],
      "execution_count": null,
      "outputs": [
        {
          "output_type": "stream",
          "text": [
            "[1 2 3 4 5 6]\n",
            "[array([1, 2]), array([3, 4]), array([5]), array([6])]\n"
          ],
          "name": "stdout"
        }
      ]
    },
    {
      "cell_type": "code",
      "metadata": {
        "colab": {
          "base_uri": "https://localhost:8080/"
        },
        "id": "xJ2q3Wz3xius",
        "outputId": "b3e3dc68-e021-4121-a249-77179c0ab767"
      },
      "source": [
        "import numpy as np\n",
        "arr=np.array([1,2,3,4,5,6])\n",
        "newarray=np.array_split(arr,3)\n",
        "print(newarray[0])\n",
        "print(newarray[1])\n",
        "print(newarray[2])"
      ],
      "execution_count": null,
      "outputs": [
        {
          "output_type": "stream",
          "text": [
            "[1 2]\n",
            "[3 4]\n",
            "[5 6]\n"
          ],
          "name": "stdout"
        }
      ]
    },
    {
      "cell_type": "code",
      "metadata": {
        "colab": {
          "base_uri": "https://localhost:8080/"
        },
        "id": "CJIag82o0ET3",
        "outputId": "e5aab520-7aed-45ea-b6a9-2052aca6dcbf"
      },
      "source": [
        "import numpy as np\n",
        "arr=np.array([1,2,3,4,5,4,4])\n",
        "newarray=np.where(arr==3)\n",
        "print(newarray)"
      ],
      "execution_count": null,
      "outputs": [
        {
          "output_type": "stream",
          "text": [
            "(array([2]),)\n"
          ],
          "name": "stdout"
        }
      ]
    },
    {
      "cell_type": "code",
      "metadata": {
        "colab": {
          "base_uri": "https://localhost:8080/"
        },
        "id": "EBlqfm3QyRum",
        "outputId": "adeb3ccf-8156-4f46-a909-7b1ae44c2a59"
      },
      "source": [
        "import numpy as np\n",
        "arr=np.array([1,2,3,4,5,4,4])\n",
        "newarray=np.where(arr==4)\n",
        "print(newarray)"
      ],
      "execution_count": null,
      "outputs": [
        {
          "output_type": "stream",
          "text": [
            "(array([3, 5, 6]),)\n"
          ],
          "name": "stdout"
        }
      ]
    },
    {
      "cell_type": "code",
      "metadata": {
        "colab": {
          "base_uri": "https://localhost:8080/"
        },
        "id": "CFQlAuz_z3-Z",
        "outputId": "69ee5e9a-d64c-438d-c347-fc75970598c2"
      },
      "source": [
        "import numpy as np\n",
        "arr=np.array([1,2,3,4,5,6,7,8])\n",
        "newarray=np.where(arr%2==0)\n",
        "print(newarray)"
      ],
      "execution_count": null,
      "outputs": [
        {
          "output_type": "stream",
          "text": [
            "(array([1, 3, 5, 7]),)\n"
          ],
          "name": "stdout"
        }
      ]
    },
    {
      "cell_type": "code",
      "metadata": {
        "colab": {
          "base_uri": "https://localhost:8080/"
        },
        "id": "tDLmACO-0e27",
        "outputId": "7f40e1fa-e61e-46f2-81c2-4083bc1069b6"
      },
      "source": [
        "import numpy as np\n",
        "arr=np.array([1,2,3,4,5,6,7,8])\n",
        "newarray=np.where(arr%2==1)\n",
        "print(newarray)"
      ],
      "execution_count": null,
      "outputs": [
        {
          "output_type": "stream",
          "text": [
            "(array([0, 2, 4, 6]),)\n"
          ],
          "name": "stdout"
        }
      ]
    },
    {
      "cell_type": "code",
      "metadata": {
        "colab": {
          "base_uri": "https://localhost:8080/"
        },
        "id": "ETeVdoXG0mFx",
        "outputId": "bf350883-e056-44c6-d064-4ea5b4da8f7f"
      },
      "source": [
        "import numpy as np\n",
        "arr=np.array([6,7,8,9])\n",
        "newarray=np.searchsorted(arr,7)\n",
        "print(newarray)"
      ],
      "execution_count": null,
      "outputs": [
        {
          "output_type": "stream",
          "text": [
            "1\n"
          ],
          "name": "stdout"
        }
      ]
    },
    {
      "cell_type": "code",
      "metadata": {
        "colab": {
          "base_uri": "https://localhost:8080/"
        },
        "id": "eCGo8WmT1Odb",
        "outputId": "6dd1e56f-37d0-4429-e6c4-0b3712daf524"
      },
      "source": [
        "import numpy as np\n",
        "arr=np.array([1,2,3,4,5,6,7,8])\n",
        "newarray=np.where(arr==7)\n",
        "print(newarray)"
      ],
      "execution_count": null,
      "outputs": [
        {
          "output_type": "stream",
          "text": [
            "(array([6]),)\n"
          ],
          "name": "stdout"
        }
      ]
    },
    {
      "cell_type": "code",
      "metadata": {
        "colab": {
          "base_uri": "https://localhost:8080/"
        },
        "id": "hWGUcPre1sLq",
        "outputId": "22f9c62e-fc04-434a-d563-ab06904077bc"
      },
      "source": [
        "import numpy as np\n",
        "arr=np.array([6,7,8,9])\n",
        "newarray=np.searchsorted(arr,7,side='right')\n",
        "print(newarray)"
      ],
      "execution_count": null,
      "outputs": [
        {
          "output_type": "stream",
          "text": [
            "2\n"
          ],
          "name": "stdout"
        }
      ]
    },
    {
      "cell_type": "code",
      "metadata": {
        "colab": {
          "base_uri": "https://localhost:8080/"
        },
        "id": "cSXorsUi19x_",
        "outputId": "ed34799a-8628-493b-bcce-d4fe1336b5da"
      },
      "source": [
        "import numpy as np\n",
        "arr=np.array([41,42,43,44])\n",
        "x=arr[[True,False,True,False]]\n",
        "print(x)"
      ],
      "execution_count": null,
      "outputs": [
        {
          "output_type": "stream",
          "text": [
            "[41 43]\n"
          ],
          "name": "stdout"
        }
      ]
    },
    {
      "cell_type": "code",
      "metadata": {
        "colab": {
          "base_uri": "https://localhost:8080/"
        },
        "id": "1fMu1UIu232G",
        "outputId": "99fa3dd0-d61e-4d0d-d440-aa5031b898a0"
      },
      "source": [
        "import numpy as np\n",
        "arr=np.array([1,2,3,5])\n",
        "x=arr[[True,True,True,False]]\n",
        "print(x)"
      ],
      "execution_count": null,
      "outputs": [
        {
          "output_type": "stream",
          "text": [
            "[1 2 3]\n"
          ],
          "name": "stdout"
        }
      ]
    },
    {
      "cell_type": "code",
      "metadata": {
        "colab": {
          "base_uri": "https://localhost:8080/"
        },
        "id": "uUvjfNE43MBo",
        "outputId": "08aac635-65fa-4360-a1fa-d5da37a5632e"
      },
      "source": [
        "import numpy as np\n",
        "arr=np.array([1,2,3,5])\n",
        "filter_arr=arr>2\n",
        "newarray=arr[filter_arr]\n",
        "print(filter_arr)\n",
        "print(newarray)"
      ],
      "execution_count": null,
      "outputs": [
        {
          "output_type": "stream",
          "text": [
            "[False False  True  True]\n",
            "[3 5]\n"
          ],
          "name": "stdout"
        }
      ]
    },
    {
      "cell_type": "markdown",
      "metadata": {
        "id": "XmQAqwXh4son"
      },
      "source": [
        "what is Matplotlib?-Matplotlib is a comprehensive library for creating static, animated, and interactive visualizations in Python"
      ]
    },
    {
      "cell_type": "code",
      "metadata": {
        "colab": {
          "base_uri": "https://localhost:8080/"
        },
        "id": "s9MfE93G4EhV",
        "outputId": "35971cc5-c9ee-4ae6-d42a-952aa8ec1100"
      },
      "source": [
        "import matplotlib\n",
        "print(matplotlib.__version__)"
      ],
      "execution_count": null,
      "outputs": [
        {
          "output_type": "stream",
          "text": [
            "3.2.2\n"
          ],
          "name": "stdout"
        }
      ]
    },
    {
      "cell_type": "code",
      "metadata": {
        "colab": {
          "base_uri": "https://localhost:8080/",
          "height": 265
        },
        "id": "sEY75qKq5MGv",
        "outputId": "ce9c0f2f-1247-48c0-e033-760055bc03b5"
      },
      "source": [
        "import matplotlib.pyplot as plt\n",
        "import numpy as np\n",
        "xpoints=np.array([0,6])\n",
        "ypoints=np.array([0,6])\n",
        "plt.plot(xpoints,ypoints)\n",
        "plt.show()"
      ],
      "execution_count": null,
      "outputs": [
        {
          "output_type": "display_data",
          "data": {
            "image/png": "[encoded data removed]",
            "text/plain": [
              "<Figure size 432x288 with 1 Axes>"
            ]
          },
          "metadata": {
            "tags": [],
            "needs_background": "light"
          }
        }
      ]
    },
    {
      "cell_type": "code",
      "metadata": {
        "colab": {
          "base_uri": "https://localhost:8080/",
          "height": 265
        },
        "id": "S1tSxipo6WBo",
        "outputId": "87f911d2-c859-4818-f8b6-d3baec65042c"
      },
      "source": [
        "import matplotlib.pyplot as plt\n",
        "import numpy as np\n",
        "xpoints=np.array([1,8])\n",
        "ypoints=np.array([3,10])\n",
        "plt.plot(xpoints,ypoints)\n",
        "plt.show()"
      ],
      "execution_count": null,
      "outputs": [
        {
          "output_type": "display_data",
          "data": {
            "image/png": "[encoded data removed]",
            "text/plain": [
              "<Figure size 432x288 with 1 Axes>"
            ]
          },
          "metadata": {
            "tags": [],
            "needs_background": "light"
          }
        }
      ]
    },
    {
      "cell_type": "code",
      "metadata": {
        "colab": {
          "base_uri": "https://localhost:8080/",
          "height": 265
        },
        "id": "e_lmPh5b6gFk",
        "outputId": "2a3fc73c-e154-4481-8c16-2d9688394cd8"
      },
      "source": [
        "import matplotlib.pyplot as plt\n",
        "import numpy as np\n",
        "xpoints=np.array([1,8])\n",
        "ypoints=np.array([3,10])\n",
        "plt.plot(xpoints,ypoints,'o')\n",
        "plt.show()"
      ],
      "execution_count": null,
      "outputs": [
        {
          "output_type": "display_data",
          "data": {
            "image/png": "[encoded data removed]",
            "text/plain": [
              "<Figure size 432x288 with 1 Axes>"
            ]
          },
          "metadata": {
            "tags": [],
            "needs_background": "light"
          }
        }
      ]
    },
    {
      "cell_type": "code",
      "metadata": {
        "colab": {
          "base_uri": "https://localhost:8080/",
          "height": 265
        },
        "id": "OycTUAKA76HW",
        "outputId": "4149c2eb-d888-40fc-ea0a-22079e268fc4"
      },
      "source": [
        "import matplotlib.pyplot as plt\n",
        "import numpy as np\n",
        "xpoints=np.array([1,2,6,8])\n",
        "ypoints=np.array([3,8,1,10])\n",
        "plt.plot(xpoints,ypoints)\n",
        "plt.show()"
      ],
      "execution_count": null,
      "outputs": [
        {
          "output_type": "display_data",
          "data": {
            "image/png": "[encoded data removed]",
            "text/plain": [
              "<Figure size 432x288 with 1 Axes>"
            ]
          },
          "metadata": {
            "tags": [],
            "needs_background": "light"
          }
        }
      ]
    },
    {
      "cell_type": "code",
      "metadata": {
        "colab": {
          "base_uri": "https://localhost:8080/",
          "height": 265
        },
        "id": "TC85S_u18C3T",
        "outputId": "631fd27d-31f9-413b-96d4-5317db743ee2"
      },
      "source": [
        "import matplotlib.pyplot as plt\n",
        "import numpy as np\n",
        "xpoints=np.array([1,2,6,8])\n",
        "plt.plot(xpoints)\n",
        "plt.show()"
      ],
      "execution_count": null,
      "outputs": [
        {
          "output_type": "display_data",
          "data": {
            "image/png": "[encoded data removed]",
            "text/plain": [
              "<Figure size 432x288 with 1 Axes>"
            ]
          },
          "metadata": {
            "tags": [],
            "needs_background": "light"
          }
        }
      ]
    },
    {
      "cell_type": "code",
      "metadata": {
        "colab": {
          "base_uri": "https://localhost:8080/",
          "height": 265
        },
        "id": "q0Hq5jdz8cNB",
        "outputId": "e2c72cf1-6530-4879-977a-986d27141904"
      },
      "source": [
        "import matplotlib.pyplot as plt\n",
        "import numpy as np\n",
        "xpoints=np.array([1,2,6,8])\n",
        "plt.plot(xpoints, marker='o')\n",
        "plt.show()"
      ],
      "execution_count": null,
      "outputs": [
        {
          "output_type": "display_data",
          "data": {
            "image/png": "[encoded data removed]",
            "text/plain": [
              "<Figure size 432x288 with 1 Axes>"
            ]
          },
          "metadata": {
            "tags": [],
            "needs_background": "light"
          }
        }
      ]
    },
    {
      "cell_type": "code",
      "metadata": {
        "colab": {
          "base_uri": "https://localhost:8080/",
          "height": 265
        },
        "id": "AabCKd8o8sxs",
        "outputId": "de9e7ef0-1b4e-49ac-c651-12b004a8040c"
      },
      "source": [
        "import matplotlib.pyplot as plt\n",
        "import numpy as np\n",
        "xpoints=np.array([1,2,6,8])\n",
        "plt.plot(xpoints,marker='*')\n",
        "plt.show()"
      ],
      "execution_count": null,
      "outputs": [
        {
          "output_type": "display_data",
          "data": {
            "image/png": "[encoded data removed]",
            "text/plain": [
              "<Figure size 432x288 with 1 Axes>"
            ]
          },
          "metadata": {
            "tags": [],
            "needs_background": "light"
          }
        }
      ]
    },
    {
      "cell_type": "code",
      "metadata": {
        "colab": {
          "base_uri": "https://localhost:8080/",
          "height": 265
        },
        "id": "Aqu8mIPZ8w9-",
        "outputId": "94e2e505-e0e7-442a-96ca-7e66dd5a50ea"
      },
      "source": [
        "import matplotlib.pyplot as plt\n",
        "import numpy as np\n",
        "xpoints=np.array([1,2,6,8])\n",
        "plt.plot(xpoints,'o:r')\n",
        "plt.show()"
      ],
      "execution_count": null,
      "outputs": [
        {
          "output_type": "display_data",
          "data": {
            "image/png": "[encoded data removed]",
            "text/plain": [
              "<Figure size 432x288 with 1 Axes>"
            ]
          },
          "metadata": {
            "tags": [],
            "needs_background": "light"
          }
        }
      ]
    },
    {
      "cell_type": "code",
      "metadata": {
        "colab": {
          "base_uri": "https://localhost:8080/",
          "height": 265
        },
        "id": "XrhsJskX9SQ4",
        "outputId": "38eccb2a-6a9e-444d-d1bc-3a9d8bc248ff"
      },
      "source": [
        "import matplotlib.pyplot as plt\n",
        "import numpy as np\n",
        "xpoints=np.array([1,2,6,8])\n",
        "plt.plot(xpoints,'o-b')\n",
        "plt.show()"
      ],
      "execution_count": null,
      "outputs": [
        {
          "output_type": "display_data",
          "data": {
            "image/png": "[encoded data removed]",
            "text/plain": [
              "<Figure size 432x288 with 1 Axes>"
            ]
          },
          "metadata": {
            "tags": [],
            "needs_background": "light"
          }
        }
      ]
    },
    {
      "cell_type": "code",
      "metadata": {
        "colab": {
          "base_uri": "https://localhost:8080/",
          "height": 265
        },
        "id": "SmzThARh9iyC",
        "outputId": "f8e0f5af-c009-4551-8475-578f14b8f4a6"
      },
      "source": [
        "import matplotlib.pyplot as plt\n",
        "import numpy as np\n",
        "xpoints=np.array([1,2,6,8])\n",
        "plt.plot(xpoints,'o--b')\n",
        "plt.show()"
      ],
      "execution_count": null,
      "outputs": [
        {
          "output_type": "display_data",
          "data": {
            "image/png": "[encoded data removed]",
            "text/plain": [
              "<Figure size 432x288 with 1 Axes>"
            ]
          },
          "metadata": {
            "tags": [],
            "needs_background": "light"
          }
        }
      ]
    },
    {
      "cell_type": "code",
      "metadata": {
        "colab": {
          "base_uri": "https://localhost:8080/",
          "height": 265
        },
        "id": "jlsTp4vp9sTf",
        "outputId": "90d175fb-edec-4e4e-fe2a-0a638ed1bc59"
      },
      "source": [
        "import matplotlib.pyplot as plt\n",
        "import numpy as np\n",
        "xpoints=np.array([1,2,6,8])\n",
        "plt.plot(xpoints,'o-.b')\n",
        "plt.show()"
      ],
      "execution_count": null,
      "outputs": [
        {
          "output_type": "display_data",
          "data": {
            "image/png": "[encoded data removed]",
            "text/plain": [
              "<Figure size 432x288 with 1 Axes>"
            ]
          },
          "metadata": {
            "tags": [],
            "needs_background": "light"
          }
        }
      ]
    },
    {
      "cell_type": "code",
      "metadata": {
        "colab": {
          "base_uri": "https://localhost:8080/",
          "height": 282
        },
        "id": "agrD3Lfs9yzq",
        "outputId": "808d5593-d0fd-4e25-a864-29586ce4a25e"
      },
      "source": [
        "import matplotlib.pyplot as plt\n",
        "import numpy as np\n",
        "x=np.array([0,1,2,3])\n",
        "y=np.array([3,5,2,10])\n",
        "plt.subplot(1,2,1)\n",
        "plt.plot(x,y)"
      ],
      "execution_count": null,
      "outputs": [
        {
          "output_type": "execute_result",
          "data": {
            "text/plain": [
              "[<matplotlib.lines.Line2D at 0x7f9c3356a668>]"
            ]
          },
          "metadata": {
            "tags": []
          },
          "execution_count": 80
        },
        {
          "output_type": "display_data",
          "data": {
            "image/png": "[encoded data removed]",
            "text/plain": [
              "<Figure size 432x288 with 1 Axes>"
            ]
          },
          "metadata": {
            "tags": [],
            "needs_background": "light"
          }
        }
      ]
    },
    {
      "cell_type": "code",
      "metadata": {
        "colab": {
          "base_uri": "https://localhost:8080/",
          "height": 265
        },
        "id": "kq4WNVKW-kFV",
        "outputId": "2abe4818-fde1-4a9f-f9ea-40d195a5ef9c"
      },
      "source": [
        "import matplotlib.pyplot as plt\n",
        "import numpy as np\n",
        "\n",
        "x=np.array([0,1,2,3])\n",
        "y=np.array([3,5,2,10])\n",
        "\n",
        "plt.subplot(2,1,1)\n",
        "plt.plot(x,y)\n",
        "\n",
        "x=np.array([0,1,2,3])\n",
        "y=np.array([13,25,32,40])\n",
        "plt.subplot(2,1,2)\n",
        "plt.plot(x,y)\n",
        "\n",
        "plt.show()"
      ],
      "execution_count": null,
      "outputs": [
        {
          "output_type": "display_data",
          "data": {
            "image/png": "[encoded data removed]",
            "text/plain": [
              "<Figure size 432x288 with 2 Axes>"
            ]
          },
          "metadata": {
            "tags": [],
            "needs_background": "light"
          }
        }
      ]
    },
    {
      "cell_type": "code",
      "metadata": {
        "colab": {
          "base_uri": "https://localhost:8080/",
          "height": 265
        },
        "id": "BDFwkeLY_p6m",
        "outputId": "8a188c25-d619-40b8-965f-166a45863c50"
      },
      "source": [
        "import matplotlib.pyplot as plt\n",
        "import numpy as np\n",
        "x = np.array([0,1,2,3])\n",
        "y = np.array([3,5,2,10])\n",
        "plt.subplot(2,3,1)\n",
        "plt.plot(x,y)\n",
        "\n",
        "x = np.array([0,1,2,3])\n",
        "y = np.array([13,25,32,40])\n",
        "plt.subplot(2,3,2)\n",
        "plt.plot(x,y)\n",
        "\n",
        "x = np.array([2,13,2,13])\n",
        "y = np.array([13,5,32,40])\n",
        "plt.subplot(2,3,3)\n",
        "plt.plot(x,y)\n",
        "\n",
        "x = np.array([10,11,12,13])\n",
        "y = np.array([3,5,32,20])\n",
        "plt.subplot(2,3,4)\n",
        "plt.plot(x,y)\n",
        "\n",
        "x = np.array([12,13,2,113])\n",
        "y = np.array([13,15,132,40])\n",
        "plt.subplot(2,3,5)\n",
        "plt.plot(x,y)\n",
        "\n",
        "plt.show()"
      ],
      "execution_count": null,
      "outputs": [
        {
          "output_type": "display_data",
          "data": {
            "image/png": "[encoded data removed]",
            "text/plain": [
              "<Figure size 432x288 with 5 Axes>"
            ]
          },
          "metadata": {
            "tags": [],
            "needs_background": "light"
          }
        }
      ]
    },
    {
      "cell_type": "code",
      "metadata": {
        "colab": {
          "base_uri": "https://localhost:8080/",
          "height": 294
        },
        "id": "iCS53-NFAfpd",
        "outputId": "41c109e3-ed5e-4036-c9d3-4362b7b4a2c2"
      },
      "source": [
        "import matplotlib.pyplot as plt\n",
        "import numpy as np\n",
        "\n",
        "x=np.array([0,1,2,3])\n",
        "y=np.array([3,5,2,10])\n",
        "\n",
        "plt.subplot(1,2,1)\n",
        "plt.plot(x,y)\n",
        "plt.title('SALES')\n",
        "\n",
        "x=np.array([0,1,2,3])\n",
        "y=np.array([13,25,32,40])\n",
        "plt.subplot(1,2,2)\n",
        "plt.plot(x,y)\n",
        "plt.title('INCOME')\n",
        "plt.suptitle('WORKSHOP OF ACHARYA COLLEGE')\n",
        "plt.show()"
      ],
      "execution_count": null,
      "outputs": [
        {
          "output_type": "display_data",
          "data": {
            "image/png": "[encoded data removed]",
            "text/plain": [
              "<Figure size 432x288 with 2 Axes>"
            ]
          },
          "metadata": {
            "tags": [],
            "needs_background": "light"
          }
        }
      ]
    },
    {
      "cell_type": "code",
      "metadata": {
        "colab": {
          "base_uri": "https://localhost:8080/",
          "height": 294
        },
        "id": "Z3azVjGzBAiO",
        "outputId": "1d419ada-5ddd-428d-c24e-0a1b79894184"
      },
      "source": [
        "import matplotlib.pyplot as plt\n",
        "import numpy as np\n",
        "\n",
        "x=np.array([10,20,30,40])\n",
        "y=np.array([30,40,50,60])\n",
        "\n",
        "plt.subplot(1,2,1)\n",
        "plt.plot(x,y)\n",
        "plt.title('first')\n",
        "\n",
        "x=np.array([50,60,70,80])\n",
        "y=np.array([40,50,60,70])\n",
        "plt.subplot(1,2,2)\n",
        "plt.plot(x,y)\n",
        "plt.title('second')\n",
        "plt.suptitle('first & second')\n",
        "\n",
        "plt.show()"
      ],
      "execution_count": null,
      "outputs": [
        {
          "output_type": "display_data",
          "data": {
            "image/png": "[encoded data removed]",
            "text/plain": [
              "<Figure size 432x288 with 2 Axes>"
            ]
          },
          "metadata": {
            "tags": [],
            "needs_background": "light"
          }
        }
      ]
    },
    {
      "cell_type": "code",
      "metadata": {
        "colab": {
          "base_uri": "https://localhost:8080/",
          "height": 281
        },
        "id": "XWa0ORw-CTsX",
        "outputId": "bc9ed3bd-9704-46fa-edb1-7614d5951230"
      },
      "source": [
        "import matplotlib.pyplot as plt\n",
        "import numpy as np\n",
        "\n",
        "x=np.array([0,1,3,5,2,7,6,9,3,4,0,1,4,7,6,8])\n",
        "y=np.array([5,8,1,0,4,9,7,3,2,5,7,3,5,2,4,6])\n",
        "\n",
        "plt.scatter(x,y)\n",
        "plt.title('scatter plot')\n",
        "plt.show()"
      ],
      "execution_count": null,
      "outputs": [
        {
          "output_type": "display_data",
          "data": {
            "image/png": "[encoded data removed]",
            "text/plain": [
              "<Figure size 432x288 with 1 Axes>"
            ]
          },
          "metadata": {
            "tags": [],
            "needs_background": "light"
          }
        }
      ]
    },
    {
      "cell_type": "code",
      "metadata": {
        "colab": {
          "base_uri": "https://localhost:8080/",
          "height": 281
        },
        "id": "6T7mmod8DMeo",
        "outputId": "3aee6dc6-2a5e-460f-dca1-6dc3c3a6b302"
      },
      "source": [
        "import matplotlib.pyplot as plt\n",
        "import numpy as np\n",
        "\n",
        "x=np.array([0,1,3,5,2,7,6,9,3,4,0,1,4,7,6,8])\n",
        "y=np.array([5,8,1,0,4,9,7,3,2,5,7,3,5,2,4,6])\n",
        "plt.scatter(x,y)\n",
        "\n",
        "x=np.array([1,2,3,4,5,6,3,7,4,7,5,8,9,3,5,6,7])\n",
        "y=np.array([9,8,7,6,5,4,2,8,4,6,4,6,4,6,4,2,1])\n",
        "plt.scatter(x,y)\n",
        "plt.title('scatter plot')\n",
        "plt.show()"
      ],
      "execution_count": null,
      "outputs": [
        {
          "output_type": "display_data",
          "data": {
            "image/png": "[encoded data removed]",
            "text/plain": [
              "<Figure size 432x288 with 1 Axes>"
            ]
          },
          "metadata": {
            "tags": [],
            "needs_background": "light"
          }
        }
      ]
    },
    {
      "cell_type": "code",
      "metadata": {
        "colab": {
          "base_uri": "https://localhost:8080/",
          "height": 281
        },
        "id": "lJyjO9K5D1GT",
        "outputId": "c48b4a8d-5fad-4293-bf5d-343d6a9a0b6a"
      },
      "source": [
        "import matplotlib.pyplot as plt\n",
        "import numpy as np\n",
        "\n",
        "x=np.array([0,1,3,5,2,7,6,9,3,4,0,1,4,7,6,8])\n",
        "y=np.array([5,8,1,0,4,9,7,3,2,5,7,3,5,2,4,6])\n",
        "plt.scatter(x,y, color='red')\n",
        "\n",
        "x=np.array([1,2,3,4,5,6,3,7,4,7,5,8,9,3,5,6,7])\n",
        "y=np.array([9,8,7,6,5,4,2,8,4,6,4,6,4,6,4,2,1])\n",
        "plt.scatter(x,y, color='black')\n",
        "plt.title('scatter plot')\n",
        "plt.show()"
      ],
      "execution_count": null,
      "outputs": [
        {
          "output_type": "display_data",
          "data": {
            "image/png": "[encoded data removed]",
            "text/plain": [
              "<Figure size 432x288 with 1 Axes>"
            ]
          },
          "metadata": {
            "tags": [],
            "needs_background": "light"
          }
        }
      ]
    },
    {
      "cell_type": "code",
      "metadata": {
        "colab": {
          "base_uri": "https://localhost:8080/",
          "height": 281
        },
        "id": "iLZwkctsEDlD",
        "outputId": "1f070e5f-e01d-4f54-a1dc-84e601786a50"
      },
      "source": [
        "import matplotlib.pyplot as plt\n",
        "import numpy as np\n",
        "\n",
        "x=np.array([0,1,3,5,2,7,6,9,3,4,0,1,4,7,6,8])\n",
        "y=np.array([5,8,1,0,4,9,7,3,2,5,7,3,5,2,4,6])\n",
        "plt.scatter(x,y, color='r')\n",
        "\n",
        "x=np.array([1,2,3,4,5,6,3,7,4,7,5,8,9,3,5,6,7])\n",
        "y=np.array([9,8,7,6,5,4,2,8,4,6,4,6,4,6,4,2,1])\n",
        "plt.scatter(x,y, color='b')\n",
        "plt.title('scatter plot')\n",
        "plt.show()"
      ],
      "execution_count": null,
      "outputs": [
        {
          "output_type": "display_data",
          "data": {
            "image/png": "[encoded data removed]",
            "text/plain": [
              "<Figure size 432x288 with 1 Axes>"
            ]
          },
          "metadata": {
            "tags": [],
            "needs_background": "light"
          }
        }
      ]
    },
    {
      "cell_type": "code",
      "metadata": {
        "id": "Gcbqc3FpEiyT",
        "colab": {
          "base_uri": "https://localhost:8080/",
          "height": 265
        },
        "outputId": "6557affe-3a6c-46be-f352-7d42cc0aa0bf"
      },
      "source": [
        "import matplotlib.pyplot as plt\r\n",
        "import numpy as np\r\n",
        "\r\n",
        "x=np.array([1,3,5,3,6,8,4,6,8,9,1])\r\n",
        "y=np.array([99,86,54,32,98,111,87,44,13,90,99])\r\n",
        "colors =np.array([0,10,20,30,40,50,60,70,80,90,100])\r\n",
        "plt.scatter(x,y,c=colors,cmap='viridis')\r\n",
        "plt.show()"
      ],
      "execution_count": null,
      "outputs": [
        {
          "output_type": "display_data",
          "data": {
            "image/png": "[encoded data removed]",
            "text/plain": [
              "<Figure size 432x288 with 1 Axes>"
            ]
          },
          "metadata": {
            "tags": [],
            "needs_background": "light"
          }
        }
      ]
    },
    {
      "cell_type": "code",
      "metadata": {
        "colab": {
          "base_uri": "https://localhost:8080/",
          "height": 269
        },
        "id": "wxM_kjdH_CyE",
        "outputId": "dda89cd5-91c4-4525-e405-11a5a0aa83af"
      },
      "source": [
        "import matplotlib.pyplot as plt\r\n",
        "import numpy as np\r\n",
        "\r\n",
        "x=np.array([1,3,5,3,6,8,4,6,8,9,1])\r\n",
        "y=np.array([99,86,54,32,98,111,87,44,13,90,99])\r\n",
        "colors =np.array([0,10,20,30,40,50,60,70,80,90,100])\r\n",
        "plt.scatter(x,y,c=colors,cmap='viridis')\r\n",
        "plt.colorbar()\r\n",
        "plt.show()"
      ],
      "execution_count": null,
      "outputs": [
        {
          "output_type": "display_data",
          "data": {
            "image/png": "[encoded data removed]",
            "text/plain": [
              "<Figure size 432x288 with 2 Axes>"
            ]
          },
          "metadata": {
            "tags": [],
            "needs_background": "light"
          }
        }
      ]
    },
    {
      "cell_type": "code",
      "metadata": {
        "colab": {
          "base_uri": "https://localhost:8080/",
          "height": 265
        },
        "id": "-jvH-Rrv_vbK",
        "outputId": "7511f1ed-db07-46fa-c7d5-61de8e43d253"
      },
      "source": [
        "import matplotlib.pyplot as plt\r\n",
        "import numpy as np\r\n",
        "\r\n",
        "x=np.array([1,3,5,3,6,8,4,6,8,9,1])\r\n",
        "y=np.array([99,86,54,32,98,111,87,44,13,90,99])\r\n",
        "colors =np.array([0,10,20,30,40,50,60,70,80,90,100])\r\n",
        "sizes=np.array([0,10,20,30,40,50,60,70,80,90,100])\r\n",
        "plt.scatter(x,y,s=sizes,c=colors,cmap='Accent')\r\n",
        "plt.show()"
      ],
      "execution_count": null,
      "outputs": [
        {
          "output_type": "display_data",
          "data": {
            "image/png": "[encoded data removed]",
            "text/plain": [
              "<Figure size 432x288 with 1 Axes>"
            ]
          },
          "metadata": {
            "tags": [],
            "needs_background": "light"
          }
        }
      ]
    },
    {
      "cell_type": "code",
      "metadata": {
        "colab": {
          "base_uri": "https://localhost:8080/",
          "height": 269
        },
        "id": "pjJKV9dhAEfJ",
        "outputId": "8e56d5ca-61a1-4daf-ba68-5e83d8978759"
      },
      "source": [
        "import matplotlib.pyplot as plt\r\n",
        "import numpy as np\r\n",
        "\r\n",
        "x=np.array([1,3,5,3,6,8,4,6,8,9,1])\r\n",
        "y=np.array([99,86,54,32,98,111,87,44,13,90,99])\r\n",
        "colors =np.array([0,10,20,30,40,50,60,70,80,90,100])\r\n",
        "plt.scatter(x,y,alpha=0.5)\r\n",
        "plt.colorbar()\r\n",
        "plt.show()"
      ],
      "execution_count": null,
      "outputs": [
        {
          "output_type": "display_data",
          "data": {
            "image/png": "[encoded data removed]",
            "text/plain": [
              "<Figure size 432x288 with 2 Axes>"
            ]
          },
          "metadata": {
            "tags": [],
            "needs_background": "light"
          }
        }
      ]
    },
    {
      "cell_type": "code",
      "metadata": {
        "colab": {
          "base_uri": "https://localhost:8080/",
          "height": 265
        },
        "id": "T2-rNnfvAnI7",
        "outputId": "f2765b76-9020-4514-cfc2-b9bd5fdbcc19"
      },
      "source": [
        "import matplotlib.pyplot as plt\r\n",
        "import numpy as np\r\n",
        "\r\n",
        "x =np.random.randint(100,size=(100))\r\n",
        "y =np.random.randint(100,size=(100))\r\n",
        "colors =np.random.randint(100,size=(100))\r\n",
        "sizes =10*np.random.randint(100,size=(100))\r\n",
        "plt.scatter(x,y,c=colors,s=sizes,alpha=0.7,cmap='nipy_spectral')\r\n",
        "plt.show()"
      ],
      "execution_count": null,
      "outputs": [
        {
          "output_type": "display_data",
          "data": {
            "image/png": "[encoded data removed]",
            "text/plain": [
              "<Figure size 432x288 with 1 Axes>"
            ]
          },
          "metadata": {
            "tags": [],
            "needs_background": "light"
          }
        }
      ]
    },
    {
      "cell_type": "code",
      "metadata": {
        "colab": {
          "base_uri": "https://localhost:8080/",
          "height": 265
        },
        "id": "341XAg-MB_37",
        "outputId": "6110d11a-010c-496c-98c6-be742a5ae0cd"
      },
      "source": [
        "import matplotlib.pyplot as plt\r\n",
        "import numpy as np\r\n",
        "\r\n",
        "x = np.random.randint(100,size=(100))\r\n",
        "y = np.random.randint(100,size=(100))\r\n",
        "colors = np.random.randint(100,size=(100))\r\n",
        "sizes = 10 * np.random.randint(100,size=(100))\r\n",
        "\r\n",
        "plt.scatter(x,y,c=colors,s=sizes,alpha=0.5,cmap='nipy_spectral')\r\n",
        "plt.colorbar()\r\n",
        "\r\n",
        "plt.show()"
      ],
      "execution_count": null,
      "outputs": [
        {
          "output_type": "display_data",
          "data": {
            "image/png": "[encoded data removed]",
            "text/plain": [
              "<Figure size 432x288 with 2 Axes>"
            ]
          },
          "metadata": {
            "tags": [],
            "needs_background": "light"
          }
        }
      ]
    },
    {
      "cell_type": "markdown",
      "metadata": {
        "id": "CBynGjcnCX-N"
      },
      "source": [
        "***bar plots/charts***"
      ]
    },
    {
      "cell_type": "code",
      "metadata": {
        "colab": {
          "base_uri": "https://localhost:8080/",
          "height": 265
        },
        "id": "EZo6ed6nCG1_",
        "outputId": "f1651071-4616-47b2-db00-09c5bdbd2427"
      },
      "source": [
        "import matplotlib.pyplot as plt\r\n",
        "import numpy as np\r\n",
        "x=np.array([\"a\",\"b\",\"c\",\"d\"])\r\n",
        "y=np.array([23,50,87,39])\r\n",
        "plt.bar(x,y)\r\n",
        "plt.show()"
      ],
      "execution_count": null,
      "outputs": [
        {
          "output_type": "display_data",
          "data": {
            "image/png": "[encoded data removed]",
            "text/plain": [
              "<Figure size 432x288 with 1 Axes>"
            ]
          },
          "metadata": {
            "tags": [],
            "needs_background": "light"
          }
        }
      ]
    },
    {
      "cell_type": "code",
      "metadata": {
        "colab": {
          "base_uri": "https://localhost:8080/",
          "height": 265
        },
        "id": "ryFm1OARDi9r",
        "outputId": "52e31eeb-6c2f-4332-e08b-2c85231a571f"
      },
      "source": [
        "import matplotlib.pyplot as plt\r\n",
        "import numpy as np\r\n",
        "x=np.array([\"a\",\"b\",\"c\",\"d\"])\r\n",
        "y=np.array([23,50,87,39])\r\n",
        "plt.barh(x,y)\r\n",
        "plt.show()"
      ],
      "execution_count": null,
      "outputs": [
        {
          "output_type": "display_data",
          "data": {
            "image/png": "[encoded data removed]",
            "text/plain": [
              "<Figure size 432x288 with 1 Axes>"
            ]
          },
          "metadata": {
            "tags": [],
            "needs_background": "light"
          }
        }
      ]
    },
    {
      "cell_type": "code",
      "metadata": {
        "colab": {
          "base_uri": "https://localhost:8080/",
          "height": 265
        },
        "id": "uBC1lWG3DzcM",
        "outputId": "b9ee7e26-fc62-480b-e719-d3b414d914b3"
      },
      "source": [
        "import matplotlib.pyplot as plt\r\n",
        "import numpy as np\r\n",
        "x=np.array([\"a\",\"b\",\"c\",\"d\"])\r\n",
        "y=np.array([23,50,87,39])\r\n",
        "plt.bar(x,y,color='r')\r\n",
        "plt.show()"
      ],
      "execution_count": null,
      "outputs": [
        {
          "output_type": "display_data",
          "data": {
            "image/png": "[encoded data removed]",
            "text/plain": [
              "<Figure size 432x288 with 1 Axes>"
            ]
          },
          "metadata": {
            "tags": [],
            "needs_background": "light"
          }
        }
      ]
    },
    {
      "cell_type": "code",
      "metadata": {
        "colab": {
          "base_uri": "https://localhost:8080/",
          "height": 265
        },
        "id": "2cCepSn6D6Ze",
        "outputId": "27915eea-af3a-4fe8-93f6-c69e902a17d2"
      },
      "source": [
        "import matplotlib.pyplot as plt\r\n",
        "import numpy as np\r\n",
        "x=np.array([\"a\",\"b\",\"c\",\"d\"])\r\n",
        "y=np.array([23,50,87,39])\r\n",
        "plt.bar(x,y,width=0.1)\r\n",
        "plt.show()"
      ],
      "execution_count": null,
      "outputs": [
        {
          "output_type": "display_data",
          "data": {
            "image/png": "[encoded data removed]",
            "text/plain": [
              "<Figure size 432x288 with 1 Axes>"
            ]
          },
          "metadata": {
            "tags": [],
            "needs_background": "light"
          }
        }
      ]
    },
    {
      "cell_type": "code",
      "metadata": {
        "colab": {
          "base_uri": "https://localhost:8080/",
          "height": 265
        },
        "id": "177WtQDHEoWX",
        "outputId": "d609af71-0b8c-4d9e-abbb-96f98e8b1dd3"
      },
      "source": [
        "import matplotlib.pyplot as plt\r\n",
        "import numpy as np\r\n",
        "x=np.array([\"a\",\"b\",\"c\",\"d\"])\r\n",
        "y=np.array([23,50,87,39])\r\n",
        "plt.bar(x,y,width=0.5)\r\n",
        "plt.show()"
      ],
      "execution_count": null,
      "outputs": [
        {
          "output_type": "display_data",
          "data": {
            "image/png": "[encoded data removed]",
            "text/plain": [
              "<Figure size 432x288 with 1 Axes>"
            ]
          },
          "metadata": {
            "tags": [],
            "needs_background": "light"
          }
        }
      ]
    },
    {
      "cell_type": "code",
      "metadata": {
        "colab": {
          "base_uri": "https://localhost:8080/",
          "height": 265
        },
        "id": "NnXNoItuEsfk",
        "outputId": "a195590b-f4c0-4b17-c273-585cadfa3f4c"
      },
      "source": [
        "import matplotlib.pyplot as plt\r\n",
        "import numpy as np\r\n",
        "x=np.array([\"a\",\"b\",\"c\",\"d\"])\r\n",
        "y=np.array([23,50,87,39])\r\n",
        "plt.barh(x,y,height=0.1)\r\n",
        "plt.show()"
      ],
      "execution_count": null,
      "outputs": [
        {
          "output_type": "display_data",
          "data": {
            "image/png": "[encoded data removed]",
            "text/plain": [
              "<Figure size 432x288 with 1 Axes>"
            ]
          },
          "metadata": {
            "tags": [],
            "needs_background": "light"
          }
        }
      ]
    },
    {
      "cell_type": "code",
      "metadata": {
        "id": "PcNxP8gjE7AU"
      },
      "source": [
        "import numpy as np\r\n",
        "\r\n",
        "x=np.random.normal(170,10,250)"
      ],
      "execution_count": null,
      "outputs": []
    },
    {
      "cell_type": "code",
      "metadata": {
        "colab": {
          "base_uri": "https://localhost:8080/",
          "height": 265
        },
        "id": "S5lFcAczF3SW",
        "outputId": "a66845d0-e2f9-4b0c-a1e3-a0d5617ff48d"
      },
      "source": [
        "import numpy as np\r\n",
        "import matplotlib.pyplot as plt\r\n",
        "\r\n",
        "\r\n",
        "x=np.random.normal(170,10,250)\r\n",
        "plt.hist(x)\r\n",
        "plt.show()\r\n"
      ],
      "execution_count": null,
      "outputs": [
        {
          "output_type": "display_data",
          "data": {
            "image/png": "[encoded data removed]",
            "text/plain": [
              "<Figure size 432x288 with 1 Axes>"
            ]
          },
          "metadata": {
            "tags": [],
            "needs_background": "light"
          }
        }
      ]
    },
    {
      "cell_type": "code",
      "metadata": {
        "colab": {
          "base_uri": "https://localhost:8080/",
          "height": 248
        },
        "id": "7PZ-ZKs6GCMV",
        "outputId": "bb5f566d-e893-4c79-a730-010fea6e77b1"
      },
      "source": [
        "import numpy as np\r\n",
        "import matplotlib.pyplot as plt\r\n",
        "y=np.array([35,15,25,25])\r\n",
        "plt.pie(y)\r\n",
        "plt.show()\r\n"
      ],
      "execution_count": null,
      "outputs": [
        {
          "output_type": "display_data",
          "data": {
            "image/png": "[encoded data removed]",
            "text/plain": [
              "<Figure size 432x288 with 1 Axes>"
            ]
          },
          "metadata": {
            "tags": []
          }
        }
      ]
    },
    {
      "cell_type": "code",
      "metadata": {
        "colab": {
          "base_uri": "https://localhost:8080/",
          "height": 248
        },
        "id": "y-FuKV1TGg-J",
        "outputId": "a62b8693-9c24-4208-853b-e6cc6593021f"
      },
      "source": [
        "import numpy as np\r\n",
        "import matplotlib.pyplot as plt\r\n",
        "y=np.array([35,15,25,25])\r\n",
        "mylabels=['man','jan','tan','ben']\r\n",
        "plt.pie(y,labels=mylabels)\r\n",
        "plt.show()"
      ],
      "execution_count": null,
      "outputs": [
        {
          "output_type": "display_data",
          "data": {
            "image/png": "[encoded data removed]",
            "text/plain": [
              "<Figure size 432x288 with 1 Axes>"
            ]
          },
          "metadata": {
            "tags": []
          }
        }
      ]
    },
    {
      "cell_type": "code",
      "metadata": {
        "colab": {
          "base_uri": "https://localhost:8080/",
          "height": 248
        },
        "id": "UC3rP_oJHSNM",
        "outputId": "7663edce-7b4c-4cf4-cc02-3a2a14137805"
      },
      "source": [
        "import numpy as np\r\n",
        "import matplotlib.pyplot as plt\r\n",
        "y=np.array([35,15,25,25])\r\n",
        "mylabels=['man','jan','tan','ben']\r\n",
        "myexplode=[0.2,0,0,0]\r\n",
        "plt.pie(y,labels=mylabels,explode=myexplode)\r\n",
        "plt.show()"
      ],
      "execution_count": null,
      "outputs": [
        {
          "output_type": "display_data",
          "data": {
            "image/png": "[encoded data removed]",
            "text/plain": [
              "<Figure size 432x288 with 1 Axes>"
            ]
          },
          "metadata": {
            "tags": []
          }
        }
      ]
    },
    {
      "cell_type": "code",
      "metadata": {
        "colab": {
          "base_uri": "https://localhost:8080/",
          "height": 248
        },
        "id": "WzWCTewoHku0",
        "outputId": "d2880e1f-f88c-4ef8-f17c-7c481280cbc5"
      },
      "source": [
        "import numpy as np\r\n",
        "import matplotlib.pyplot as plt\r\n",
        "y=np.array([35,15,25,25])\r\n",
        "mylabels=['man','jan','tan','ben']\r\n",
        "myexplode=[0.2,0,0,0]\r\n",
        "plt.pie(y,labels=mylabels,explode=myexplode,shadow=True)\r\n",
        "plt.show()"
      ],
      "execution_count": null,
      "outputs": [
        {
          "output_type": "display_data",
          "data": {
            "image/png": "[encoded data removed]",
            "text/plain": [
              "<Figure size 432x288 with 1 Axes>"
            ]
          },
          "metadata": {
            "tags": []
          }
        }
      ]
    },
    {
      "cell_type": "code",
      "metadata": {
        "colab": {
          "base_uri": "https://localhost:8080/",
          "height": 248
        },
        "id": "Aoa-XfKYHtJ1",
        "outputId": "2061b13e-6213-4b91-aa30-075cbdfb50ba"
      },
      "source": [
        "import numpy as np\r\n",
        "import matplotlib.pyplot as plt\r\n",
        "y=np.array([35,15,25,25])\r\n",
        "mylabels=['man','jan','tan','ben']\r\n",
        "myexplode=[0.2,0,0,0]\r\n",
        "plt.pie(y,labels=mylabels,explode=myexplode,shadow=True)\r\n",
        "plt.legend()\r\n",
        "plt.show()"
      ],
      "execution_count": null,
      "outputs": [
        {
          "output_type": "display_data",
          "data": {
            "image/png": "[encoded data removed]",
            "text/plain": [
              "<Figure size 432x288 with 1 Axes>"
            ]
          },
          "metadata": {
            "tags": []
          }
        }
      ]
    },
    {
      "cell_type": "code",
      "metadata": {
        "colab": {
          "base_uri": "https://localhost:8080/",
          "height": 248
        },
        "id": "sB1PtjwaICbK",
        "outputId": "533bf854-08b0-4982-b019-c1d406988a7b"
      },
      "source": [
        "import numpy as np\r\n",
        "import matplotlib.pyplot as plt\r\n",
        "y=np.array([35,15,25,25])\r\n",
        "mylabels=['man','jan','tan','ben']\r\n",
        "myexplode=[0.2,0,0,0]\r\n",
        "plt.pie(y,labels=mylabels,explode=myexplode,shadow=True)\r\n",
        "plt.legend(title='studentnames:')\r\n",
        "plt.show()"
      ],
      "execution_count": null,
      "outputs": [
        {
          "output_type": "display_data",
          "data": {
            "image/png": "[encoded data removed]",
            "text/plain": [
              "<Figure size 432x288 with 1 Axes>"
            ]
          },
          "metadata": {
            "tags": []
          }
        }
      ]
    },
    {
      "cell_type": "code",
      "metadata": {
        "colab": {
          "base_uri": "https://localhost:8080/",
          "height": 280
        },
        "id": "R1ZNq9PqIcGR",
        "outputId": "8d1987d4-08d2-4d00-8bce-4f74305a9c3b"
      },
      "source": [
        "import numpy as np\r\n",
        "import matplotlib.pyplot as plt\r\n",
        "y=np.array([43,17,20,20])\r\n",
        "user_names=['man','jan','tan','ben']\r\n",
        "myexplode=[0.5,0,0,0]\r\n",
        "plt.pie(y,labels=user_names,explode=myexplode,shadow=True)\r\n",
        "plt.legend(title='users:')\r\n",
        "plt.show()"
      ],
      "execution_count": null,
      "outputs": [
        {
          "output_type": "display_data",
          "data": {
            "image/png": "[encoded data removed]",
            "text/plain": [
              "<Figure size 432x288 with 1 Axes>"
            ]
          },
          "metadata": {
            "tags": []
          }
        }
      ]
    },
    {
      "cell_type": "code",
      "metadata": {
        "id": "DDPXwT2fJAbd"
      },
      "source": [
        ""
      ],
      "execution_count": null,
      "outputs": []
    }
  ]
}