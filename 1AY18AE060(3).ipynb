{
  "nbformat": 4,
  "nbformat_minor": 0,
  "metadata": {
    "colab": {
      "name": "Untitled4.ipynb",
      "provenance": [],
      "collapsed_sections": []
    },
    "kernelspec": {
      "name": "python3",
      "display_name": "Python 3"
    }
  },
  "cells": [
    {
      "cell_type": "code",
      "metadata": {
        "id": "bN2wZr6WpWF7",
        "colab": {
          "base_uri": "https://localhost:8080/"
        },
        "outputId": "fca3adc8-d041-4a3e-be5e-185a48f3d371"
      },
      "source": [
        "import numpy\r\n",
        "speed=[99,86,87,88,111,86,103,87,90,98,77,89,86]\r\n",
        "x=numpy.mean(speed)\r\n",
        "print(x)"
      ],
      "execution_count": null,
      "outputs": [
        {
          "output_type": "stream",
          "text": [
            "91.3076923076923\n"
          ],
          "name": "stdout"
        }
      ]
    },
    {
      "cell_type": "code",
      "metadata": {
        "colab": {
          "base_uri": "https://localhost:8080/"
        },
        "id": "T2EEddGCguSD",
        "outputId": "3f357aa3-6a85-4200-d8f4-702eddb0c490"
      },
      "source": [
        "import numpy\r\n",
        "speed=[99,86,87,88,111,86,103,87,90,98,77,89,86]\r\n",
        "x=numpy.median(speed)\r\n",
        "print(x)"
      ],
      "execution_count": null,
      "outputs": [
        {
          "output_type": "stream",
          "text": [
            "88.0\n"
          ],
          "name": "stdout"
        }
      ]
    },
    {
      "cell_type": "code",
      "metadata": {
        "colab": {
          "base_uri": "https://localhost:8080/"
        },
        "id": "FDx2Dby_g1LT",
        "outputId": "b3e62524-6495-47f5-e9d1-c01b0a000c42"
      },
      "source": [
        "from scipy import stats #module 'numpy' has no attribute 'mode'\r\n",
        "speed=[99,86,87,88,111,86,103,87,90,98,77,89,86]\r\n",
        "x=stats.mode(speed)\r\n",
        "print(x)"
      ],
      "execution_count": null,
      "outputs": [
        {
          "output_type": "stream",
          "text": [
            "ModeResult(mode=array([86]), count=array([3]))\n"
          ],
          "name": "stdout"
        }
      ]
    },
    {
      "cell_type": "code",
      "metadata": {
        "colab": {
          "base_uri": "https://localhost:8080/"
        },
        "id": "nn-1vgbAg-48",
        "outputId": "9d3efb9a-bab0-4155-df8c-485894f0eec1"
      },
      "source": [
        "import numpy\r\n",
        "speed=[99,86,87,88,111,86,103,87,90,98,77,89,86]\r\n",
        "x=numpy.mean(speed)\r\n",
        "y=numpy.std(speed)\r\n",
        "z=numpy.var(speed)\r\n",
        "print(x)\r\n",
        "print(y)\r\n",
        "print(z)"
      ],
      "execution_count": null,
      "outputs": [
        {
          "output_type": "stream",
          "text": [
            "91.3076923076923\n",
            "8.6503411705472\n",
            "74.82840236686391\n"
          ],
          "name": "stdout"
        }
      ]
    },
    {
      "cell_type": "code",
      "metadata": {
        "colab": {
          "base_uri": "https://localhost:8080/"
        },
        "id": "zxlfJRQhhyfq",
        "outputId": "2a74eef5-00ef-4e07-b8af-91e7c802eaf3"
      },
      "source": [
        "import numpy\r\n",
        "age=[99,86,87,88,111,86,103,87,90,98,77,89,86,35,18,45,22,19,18,20,29,38,44,50,50,49]\r\n",
        "x=numpy.percentile(age,19)\r\n",
        "print(x)"
      ],
      "execution_count": null,
      "outputs": [
        {
          "output_type": "stream",
          "text": [
            "27.25\n"
          ],
          "name": "stdout"
        }
      ]
    },
    {
      "cell_type": "code",
      "metadata": {
        "colab": {
          "base_uri": "https://localhost:8080/",
          "height": 285
        },
        "id": "JQid6s5jjLDo",
        "outputId": "b39154fb-4e4a-4d2b-ee15-7a1f9eabc763"
      },
      "source": [
        "import numpy\r\n",
        "import matplotlib.pyplot as plt\r\n",
        "\r\n",
        "x=numpy.random.normal(5.0,1.0,100000)\r\n",
        "plt.hist(x,100)\r\n",
        "plt.show()"
      ],
      "execution_count": null,
      "outputs": [
        {
          "output_type": "stream",
          "text": [
            "[4.37117033 5.3865642  7.00790791 ... 4.73343393 5.4019298  4.83066006]\n"
          ],
          "name": "stdout"
        },
        {
          "output_type": "display_data",
          "data": {
            "image/png": "[encoded data removed]",
            "text/plain": [
              "<Figure size 432x288 with 1 Axes>"
            ]
          },
          "metadata": {
            "tags": [],
            "needs_background": "light"
          }
        }
      ]
    },
    {
      "cell_type": "code",
      "metadata": {
        "colab": {
          "base_uri": "https://localhost:8080/",
          "height": 265
        },
        "id": "SZtEDJyRkQJs",
        "outputId": "10da43dd-e8fe-412d-f7a1-5a9e742df68d"
      },
      "source": [
        "# scatter plot\r\n",
        "import matplotlib.pyplot as plt\r\n",
        "x=[1,9,12,14,6,8,2,7,8,15,6,7,4,19]\r\n",
        "y=[99,98,78,86,56,66,78,88,77,79,81,67,90,91]\r\n",
        "plt.scatter(x,y)\r\n",
        "plt.show()"
      ],
      "execution_count": null,
      "outputs": [
        {
          "output_type": "display_data",
          "data": {
            "image/png": "[encoded data removed]",
            "text/plain": [
              "<Figure size 432x288 with 1 Axes>"
            ]
          },
          "metadata": {
            "tags": [],
            "needs_background": "light"
          }
        }
      ]
    },
    {
      "cell_type": "code",
      "metadata": {
        "id": "P5IeCx3jlT5Q"
      },
      "source": [
        ""
      ],
      "execution_count": null,
      "outputs": []
    }
  ]
}